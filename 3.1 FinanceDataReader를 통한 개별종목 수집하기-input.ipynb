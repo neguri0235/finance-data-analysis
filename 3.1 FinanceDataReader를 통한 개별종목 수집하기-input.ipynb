{
  "cells": [
    {
      "cell_type": "markdown",
      "metadata": {
        "id": "JooJ7cGP5HMS"
      },
      "source": [
        "[![Open In Colab](https://colab.research.google.com/assets/colab-badge.svg)](https://colab.research.google.com/github/corazzon/finance-data-analysis/blob/main/3.1%20FinanceDataReader%EB%A5%BC%20%ED%86%B5%ED%95%9C%20%EA%B0%9C%EB%B3%84%EC%A2%85%EB%AA%A9%20%EC%88%98%EC%A7%91%ED%95%98%EA%B8%B0-input.ipynb)\n",
        "\n",
        "## 라이브러리 불러오기"
      ]
    },
    {
      "cell_type": "code",
      "execution_count": 1,
      "metadata": {
        "id": "0HuA8Gtr5HMT"
      },
      "outputs": [],
      "source": [
        "# 데이터 분석을 위해 pandas 불러오기\n",
        "import pandas as pd\n"
      ]
    },
    {
      "cell_type": "markdown",
      "metadata": {
        "id": "yx1gbnsI5HMQ"
      },
      "source": [
        "* [FinanceData/FinanceDataReader: Financial data reader](https://github.com/FinanceData/FinanceDataReader)\n",
        "* [FinanceDataReader 사용자 안내서 | FinanceData](https://financedata.github.io/posts/finance-data-reader-users-guide.html)"
      ]
    },
    {
      "cell_type": "code",
      "execution_count": 2,
      "metadata": {
        "id": "Szu-zewh5HMR",
        "outputId": "ba525aae-804b-4c9c-92ed-e8657883540a",
        "colab": {
          "base_uri": "https://localhost:8080/"
        }
      },
      "outputs": [
        {
          "output_type": "stream",
          "name": "stdout",
          "text": [
            "Collecting finance-datareader\n",
            "  Downloading finance_datareader-0.9.94-py3-none-any.whl.metadata (466 bytes)\n",
            "Requirement already satisfied: pandas>=0.19.2 in /usr/local/lib/python3.10/dist-packages (from finance-datareader) (2.2.2)\n",
            "Requirement already satisfied: requests>=2.3.0 in /usr/local/lib/python3.10/dist-packages (from finance-datareader) (2.32.3)\n",
            "Collecting requests-file (from finance-datareader)\n",
            "  Downloading requests_file-2.1.0-py2.py3-none-any.whl.metadata (1.7 kB)\n",
            "Requirement already satisfied: lxml in /usr/local/lib/python3.10/dist-packages (from finance-datareader) (5.3.0)\n",
            "Requirement already satisfied: tqdm in /usr/local/lib/python3.10/dist-packages (from finance-datareader) (4.66.6)\n",
            "Requirement already satisfied: numpy>=1.22.4 in /usr/local/lib/python3.10/dist-packages (from pandas>=0.19.2->finance-datareader) (1.26.4)\n",
            "Requirement already satisfied: python-dateutil>=2.8.2 in /usr/local/lib/python3.10/dist-packages (from pandas>=0.19.2->finance-datareader) (2.8.2)\n",
            "Requirement already satisfied: pytz>=2020.1 in /usr/local/lib/python3.10/dist-packages (from pandas>=0.19.2->finance-datareader) (2024.2)\n",
            "Requirement already satisfied: tzdata>=2022.7 in /usr/local/lib/python3.10/dist-packages (from pandas>=0.19.2->finance-datareader) (2024.2)\n",
            "Requirement already satisfied: charset-normalizer<4,>=2 in /usr/local/lib/python3.10/dist-packages (from requests>=2.3.0->finance-datareader) (3.4.0)\n",
            "Requirement already satisfied: idna<4,>=2.5 in /usr/local/lib/python3.10/dist-packages (from requests>=2.3.0->finance-datareader) (3.10)\n",
            "Requirement already satisfied: urllib3<3,>=1.21.1 in /usr/local/lib/python3.10/dist-packages (from requests>=2.3.0->finance-datareader) (2.2.3)\n",
            "Requirement already satisfied: certifi>=2017.4.17 in /usr/local/lib/python3.10/dist-packages (from requests>=2.3.0->finance-datareader) (2024.8.30)\n",
            "Requirement already satisfied: six>=1.5 in /usr/local/lib/python3.10/dist-packages (from python-dateutil>=2.8.2->pandas>=0.19.2->finance-datareader) (1.17.0)\n",
            "Downloading finance_datareader-0.9.94-py3-none-any.whl (89 kB)\n",
            "\u001b[2K   \u001b[90m━━━━━━━━━━━━━━━━━━━━━━━━━━━━━━━━━━━━━━━━\u001b[0m \u001b[32m89.3/89.3 kB\u001b[0m \u001b[31m2.2 MB/s\u001b[0m eta \u001b[36m0:00:00\u001b[0m\n",
            "\u001b[?25hDownloading requests_file-2.1.0-py2.py3-none-any.whl (4.2 kB)\n",
            "Installing collected packages: requests-file, finance-datareader\n",
            "Successfully installed finance-datareader-0.9.94 requests-file-2.1.0\n"
          ]
        }
      ],
      "source": [
        "# colab 을 사용한다면 런타임이 초기화 될때마다 다시 설치해 주어야 합니다.\n",
        "# 로컬 컴퓨터에 설치했다면 이전에 설치된 라이브러리를 사용해 주시면 됩니다.\n",
        "!pip install -U finance-datareader"
      ]
    },
    {
      "cell_type": "code",
      "execution_count": 3,
      "metadata": {
        "id": "RmRqR4HT5HMT"
      },
      "outputs": [],
      "source": [
        "# FinanceDataReader 를 fdr 별칭으로 가져오기\n",
        "import FinanceDataReader as fdr"
      ]
    },
    {
      "cell_type": "markdown",
      "metadata": {
        "id": "VNyU_0nM7gDr"
      },
      "source": [
        "## 개별 종목의 일별 시세 수집\n",
        "* 종목코드로 수집이 가능합니다.\n",
        "* 종목명을 찾아서 일별 시세를 수집해 주는 함수를 만들어 볼 예정입니다."
      ]
    },
    {
      "cell_type": "code",
      "execution_count": 5,
      "metadata": {
        "id": "-MWybAcD5HMT",
        "outputId": "44f2f979-5706-49d9-b3ba-43c982f1632d",
        "colab": {
          "base_uri": "https://localhost:8080/",
          "height": 455
        }
      },
      "outputs": [
        {
          "output_type": "execute_result",
          "data": {
            "text/plain": [
              "             Open   High    Low  Close    Volume    Change\n",
              "Date                                                      \n",
              "2023-01-02  55500  56100  55200  55500  10031448  0.003617\n",
              "2023-01-03  55400  56000  54500  55400  13547030 -0.001802\n",
              "2023-01-04  55700  58000  55600  57800  20188071  0.043321\n",
              "2023-01-05  58200  58800  57600  58200  15682826  0.006920\n",
              "2023-01-06  58300  59400  57900  59000  17334989  0.013746\n",
              "...           ...    ...    ...    ...       ...       ...\n",
              "2023-12-21  74600  75000  74300  75000  13478766  0.002674\n",
              "2023-12-22  75800  76300  75400  75900  14515608  0.012000\n",
              "2023-12-26  76100  76700  75700  76600  13164909  0.009223\n",
              "2023-12-27  76700  78000  76500  78000  20651042  0.018277\n",
              "2023-12-28  77700  78500  77500  78500  17797536  0.006410\n",
              "\n",
              "[245 rows x 6 columns]"
            ],
            "text/html": [
              "\n",
              "  <div id=\"df-5546c442-4c1f-4704-a31e-ee788d5f655d\" class=\"colab-df-container\">\n",
              "    <div>\n",
              "<style scoped>\n",
              "    .dataframe tbody tr th:only-of-type {\n",
              "        vertical-align: middle;\n",
              "    }\n",
              "\n",
              "    .dataframe tbody tr th {\n",
              "        vertical-align: top;\n",
              "    }\n",
              "\n",
              "    .dataframe thead th {\n",
              "        text-align: right;\n",
              "    }\n",
              "</style>\n",
              "<table border=\"1\" class=\"dataframe\">\n",
              "  <thead>\n",
              "    <tr style=\"text-align: right;\">\n",
              "      <th></th>\n",
              "      <th>Open</th>\n",
              "      <th>High</th>\n",
              "      <th>Low</th>\n",
              "      <th>Close</th>\n",
              "      <th>Volume</th>\n",
              "      <th>Change</th>\n",
              "    </tr>\n",
              "    <tr>\n",
              "      <th>Date</th>\n",
              "      <th></th>\n",
              "      <th></th>\n",
              "      <th></th>\n",
              "      <th></th>\n",
              "      <th></th>\n",
              "      <th></th>\n",
              "    </tr>\n",
              "  </thead>\n",
              "  <tbody>\n",
              "    <tr>\n",
              "      <th>2023-01-02</th>\n",
              "      <td>55500</td>\n",
              "      <td>56100</td>\n",
              "      <td>55200</td>\n",
              "      <td>55500</td>\n",
              "      <td>10031448</td>\n",
              "      <td>0.003617</td>\n",
              "    </tr>\n",
              "    <tr>\n",
              "      <th>2023-01-03</th>\n",
              "      <td>55400</td>\n",
              "      <td>56000</td>\n",
              "      <td>54500</td>\n",
              "      <td>55400</td>\n",
              "      <td>13547030</td>\n",
              "      <td>-0.001802</td>\n",
              "    </tr>\n",
              "    <tr>\n",
              "      <th>2023-01-04</th>\n",
              "      <td>55700</td>\n",
              "      <td>58000</td>\n",
              "      <td>55600</td>\n",
              "      <td>57800</td>\n",
              "      <td>20188071</td>\n",
              "      <td>0.043321</td>\n",
              "    </tr>\n",
              "    <tr>\n",
              "      <th>2023-01-05</th>\n",
              "      <td>58200</td>\n",
              "      <td>58800</td>\n",
              "      <td>57600</td>\n",
              "      <td>58200</td>\n",
              "      <td>15682826</td>\n",
              "      <td>0.006920</td>\n",
              "    </tr>\n",
              "    <tr>\n",
              "      <th>2023-01-06</th>\n",
              "      <td>58300</td>\n",
              "      <td>59400</td>\n",
              "      <td>57900</td>\n",
              "      <td>59000</td>\n",
              "      <td>17334989</td>\n",
              "      <td>0.013746</td>\n",
              "    </tr>\n",
              "    <tr>\n",
              "      <th>...</th>\n",
              "      <td>...</td>\n",
              "      <td>...</td>\n",
              "      <td>...</td>\n",
              "      <td>...</td>\n",
              "      <td>...</td>\n",
              "      <td>...</td>\n",
              "    </tr>\n",
              "    <tr>\n",
              "      <th>2023-12-21</th>\n",
              "      <td>74600</td>\n",
              "      <td>75000</td>\n",
              "      <td>74300</td>\n",
              "      <td>75000</td>\n",
              "      <td>13478766</td>\n",
              "      <td>0.002674</td>\n",
              "    </tr>\n",
              "    <tr>\n",
              "      <th>2023-12-22</th>\n",
              "      <td>75800</td>\n",
              "      <td>76300</td>\n",
              "      <td>75400</td>\n",
              "      <td>75900</td>\n",
              "      <td>14515608</td>\n",
              "      <td>0.012000</td>\n",
              "    </tr>\n",
              "    <tr>\n",
              "      <th>2023-12-26</th>\n",
              "      <td>76100</td>\n",
              "      <td>76700</td>\n",
              "      <td>75700</td>\n",
              "      <td>76600</td>\n",
              "      <td>13164909</td>\n",
              "      <td>0.009223</td>\n",
              "    </tr>\n",
              "    <tr>\n",
              "      <th>2023-12-27</th>\n",
              "      <td>76700</td>\n",
              "      <td>78000</td>\n",
              "      <td>76500</td>\n",
              "      <td>78000</td>\n",
              "      <td>20651042</td>\n",
              "      <td>0.018277</td>\n",
              "    </tr>\n",
              "    <tr>\n",
              "      <th>2023-12-28</th>\n",
              "      <td>77700</td>\n",
              "      <td>78500</td>\n",
              "      <td>77500</td>\n",
              "      <td>78500</td>\n",
              "      <td>17797536</td>\n",
              "      <td>0.006410</td>\n",
              "    </tr>\n",
              "  </tbody>\n",
              "</table>\n",
              "<p>245 rows × 6 columns</p>\n",
              "</div>\n",
              "    <div class=\"colab-df-buttons\">\n",
              "\n",
              "  <div class=\"colab-df-container\">\n",
              "    <button class=\"colab-df-convert\" onclick=\"convertToInteractive('df-5546c442-4c1f-4704-a31e-ee788d5f655d')\"\n",
              "            title=\"Convert this dataframe to an interactive table.\"\n",
              "            style=\"display:none;\">\n",
              "\n",
              "  <svg xmlns=\"http://www.w3.org/2000/svg\" height=\"24px\" viewBox=\"0 -960 960 960\">\n",
              "    <path d=\"M120-120v-720h720v720H120Zm60-500h600v-160H180v160Zm220 220h160v-160H400v160Zm0 220h160v-160H400v160ZM180-400h160v-160H180v160Zm440 0h160v-160H620v160ZM180-180h160v-160H180v160Zm440 0h160v-160H620v160Z\"/>\n",
              "  </svg>\n",
              "    </button>\n",
              "\n",
              "  <style>\n",
              "    .colab-df-container {\n",
              "      display:flex;\n",
              "      gap: 12px;\n",
              "    }\n",
              "\n",
              "    .colab-df-convert {\n",
              "      background-color: #E8F0FE;\n",
              "      border: none;\n",
              "      border-radius: 50%;\n",
              "      cursor: pointer;\n",
              "      display: none;\n",
              "      fill: #1967D2;\n",
              "      height: 32px;\n",
              "      padding: 0 0 0 0;\n",
              "      width: 32px;\n",
              "    }\n",
              "\n",
              "    .colab-df-convert:hover {\n",
              "      background-color: #E2EBFA;\n",
              "      box-shadow: 0px 1px 2px rgba(60, 64, 67, 0.3), 0px 1px 3px 1px rgba(60, 64, 67, 0.15);\n",
              "      fill: #174EA6;\n",
              "    }\n",
              "\n",
              "    .colab-df-buttons div {\n",
              "      margin-bottom: 4px;\n",
              "    }\n",
              "\n",
              "    [theme=dark] .colab-df-convert {\n",
              "      background-color: #3B4455;\n",
              "      fill: #D2E3FC;\n",
              "    }\n",
              "\n",
              "    [theme=dark] .colab-df-convert:hover {\n",
              "      background-color: #434B5C;\n",
              "      box-shadow: 0px 1px 3px 1px rgba(0, 0, 0, 0.15);\n",
              "      filter: drop-shadow(0px 1px 2px rgba(0, 0, 0, 0.3));\n",
              "      fill: #FFFFFF;\n",
              "    }\n",
              "  </style>\n",
              "\n",
              "    <script>\n",
              "      const buttonEl =\n",
              "        document.querySelector('#df-5546c442-4c1f-4704-a31e-ee788d5f655d button.colab-df-convert');\n",
              "      buttonEl.style.display =\n",
              "        google.colab.kernel.accessAllowed ? 'block' : 'none';\n",
              "\n",
              "      async function convertToInteractive(key) {\n",
              "        const element = document.querySelector('#df-5546c442-4c1f-4704-a31e-ee788d5f655d');\n",
              "        const dataTable =\n",
              "          await google.colab.kernel.invokeFunction('convertToInteractive',\n",
              "                                                    [key], {});\n",
              "        if (!dataTable) return;\n",
              "\n",
              "        const docLinkHtml = 'Like what you see? Visit the ' +\n",
              "          '<a target=\"_blank\" href=https://colab.research.google.com/notebooks/data_table.ipynb>data table notebook</a>'\n",
              "          + ' to learn more about interactive tables.';\n",
              "        element.innerHTML = '';\n",
              "        dataTable['output_type'] = 'display_data';\n",
              "        await google.colab.output.renderOutput(dataTable, element);\n",
              "        const docLink = document.createElement('div');\n",
              "        docLink.innerHTML = docLinkHtml;\n",
              "        element.appendChild(docLink);\n",
              "      }\n",
              "    </script>\n",
              "  </div>\n",
              "\n",
              "\n",
              "<div id=\"df-1c6b37f4-48ab-48e1-bc46-1bcd63eaab3f\">\n",
              "  <button class=\"colab-df-quickchart\" onclick=\"quickchart('df-1c6b37f4-48ab-48e1-bc46-1bcd63eaab3f')\"\n",
              "            title=\"Suggest charts\"\n",
              "            style=\"display:none;\">\n",
              "\n",
              "<svg xmlns=\"http://www.w3.org/2000/svg\" height=\"24px\"viewBox=\"0 0 24 24\"\n",
              "     width=\"24px\">\n",
              "    <g>\n",
              "        <path d=\"M19 3H5c-1.1 0-2 .9-2 2v14c0 1.1.9 2 2 2h14c1.1 0 2-.9 2-2V5c0-1.1-.9-2-2-2zM9 17H7v-7h2v7zm4 0h-2V7h2v10zm4 0h-2v-4h2v4z\"/>\n",
              "    </g>\n",
              "</svg>\n",
              "  </button>\n",
              "\n",
              "<style>\n",
              "  .colab-df-quickchart {\n",
              "      --bg-color: #E8F0FE;\n",
              "      --fill-color: #1967D2;\n",
              "      --hover-bg-color: #E2EBFA;\n",
              "      --hover-fill-color: #174EA6;\n",
              "      --disabled-fill-color: #AAA;\n",
              "      --disabled-bg-color: #DDD;\n",
              "  }\n",
              "\n",
              "  [theme=dark] .colab-df-quickchart {\n",
              "      --bg-color: #3B4455;\n",
              "      --fill-color: #D2E3FC;\n",
              "      --hover-bg-color: #434B5C;\n",
              "      --hover-fill-color: #FFFFFF;\n",
              "      --disabled-bg-color: #3B4455;\n",
              "      --disabled-fill-color: #666;\n",
              "  }\n",
              "\n",
              "  .colab-df-quickchart {\n",
              "    background-color: var(--bg-color);\n",
              "    border: none;\n",
              "    border-radius: 50%;\n",
              "    cursor: pointer;\n",
              "    display: none;\n",
              "    fill: var(--fill-color);\n",
              "    height: 32px;\n",
              "    padding: 0;\n",
              "    width: 32px;\n",
              "  }\n",
              "\n",
              "  .colab-df-quickchart:hover {\n",
              "    background-color: var(--hover-bg-color);\n",
              "    box-shadow: 0 1px 2px rgba(60, 64, 67, 0.3), 0 1px 3px 1px rgba(60, 64, 67, 0.15);\n",
              "    fill: var(--button-hover-fill-color);\n",
              "  }\n",
              "\n",
              "  .colab-df-quickchart-complete:disabled,\n",
              "  .colab-df-quickchart-complete:disabled:hover {\n",
              "    background-color: var(--disabled-bg-color);\n",
              "    fill: var(--disabled-fill-color);\n",
              "    box-shadow: none;\n",
              "  }\n",
              "\n",
              "  .colab-df-spinner {\n",
              "    border: 2px solid var(--fill-color);\n",
              "    border-color: transparent;\n",
              "    border-bottom-color: var(--fill-color);\n",
              "    animation:\n",
              "      spin 1s steps(1) infinite;\n",
              "  }\n",
              "\n",
              "  @keyframes spin {\n",
              "    0% {\n",
              "      border-color: transparent;\n",
              "      border-bottom-color: var(--fill-color);\n",
              "      border-left-color: var(--fill-color);\n",
              "    }\n",
              "    20% {\n",
              "      border-color: transparent;\n",
              "      border-left-color: var(--fill-color);\n",
              "      border-top-color: var(--fill-color);\n",
              "    }\n",
              "    30% {\n",
              "      border-color: transparent;\n",
              "      border-left-color: var(--fill-color);\n",
              "      border-top-color: var(--fill-color);\n",
              "      border-right-color: var(--fill-color);\n",
              "    }\n",
              "    40% {\n",
              "      border-color: transparent;\n",
              "      border-right-color: var(--fill-color);\n",
              "      border-top-color: var(--fill-color);\n",
              "    }\n",
              "    60% {\n",
              "      border-color: transparent;\n",
              "      border-right-color: var(--fill-color);\n",
              "    }\n",
              "    80% {\n",
              "      border-color: transparent;\n",
              "      border-right-color: var(--fill-color);\n",
              "      border-bottom-color: var(--fill-color);\n",
              "    }\n",
              "    90% {\n",
              "      border-color: transparent;\n",
              "      border-bottom-color: var(--fill-color);\n",
              "    }\n",
              "  }\n",
              "</style>\n",
              "\n",
              "  <script>\n",
              "    async function quickchart(key) {\n",
              "      const quickchartButtonEl =\n",
              "        document.querySelector('#' + key + ' button');\n",
              "      quickchartButtonEl.disabled = true;  // To prevent multiple clicks.\n",
              "      quickchartButtonEl.classList.add('colab-df-spinner');\n",
              "      try {\n",
              "        const charts = await google.colab.kernel.invokeFunction(\n",
              "            'suggestCharts', [key], {});\n",
              "      } catch (error) {\n",
              "        console.error('Error during call to suggestCharts:', error);\n",
              "      }\n",
              "      quickchartButtonEl.classList.remove('colab-df-spinner');\n",
              "      quickchartButtonEl.classList.add('colab-df-quickchart-complete');\n",
              "    }\n",
              "    (() => {\n",
              "      let quickchartButtonEl =\n",
              "        document.querySelector('#df-1c6b37f4-48ab-48e1-bc46-1bcd63eaab3f button');\n",
              "      quickchartButtonEl.style.display =\n",
              "        google.colab.kernel.accessAllowed ? 'block' : 'none';\n",
              "    })();\n",
              "  </script>\n",
              "</div>\n",
              "\n",
              "  <div id=\"id_5050bec9-8ac5-4142-89f2-0db7b8af632b\">\n",
              "    <style>\n",
              "      .colab-df-generate {\n",
              "        background-color: #E8F0FE;\n",
              "        border: none;\n",
              "        border-radius: 50%;\n",
              "        cursor: pointer;\n",
              "        display: none;\n",
              "        fill: #1967D2;\n",
              "        height: 32px;\n",
              "        padding: 0 0 0 0;\n",
              "        width: 32px;\n",
              "      }\n",
              "\n",
              "      .colab-df-generate:hover {\n",
              "        background-color: #E2EBFA;\n",
              "        box-shadow: 0px 1px 2px rgba(60, 64, 67, 0.3), 0px 1px 3px 1px rgba(60, 64, 67, 0.15);\n",
              "        fill: #174EA6;\n",
              "      }\n",
              "\n",
              "      [theme=dark] .colab-df-generate {\n",
              "        background-color: #3B4455;\n",
              "        fill: #D2E3FC;\n",
              "      }\n",
              "\n",
              "      [theme=dark] .colab-df-generate:hover {\n",
              "        background-color: #434B5C;\n",
              "        box-shadow: 0px 1px 3px 1px rgba(0, 0, 0, 0.15);\n",
              "        filter: drop-shadow(0px 1px 2px rgba(0, 0, 0, 0.3));\n",
              "        fill: #FFFFFF;\n",
              "      }\n",
              "    </style>\n",
              "    <button class=\"colab-df-generate\" onclick=\"generateWithVariable('df')\"\n",
              "            title=\"Generate code using this dataframe.\"\n",
              "            style=\"display:none;\">\n",
              "\n",
              "  <svg xmlns=\"http://www.w3.org/2000/svg\" height=\"24px\"viewBox=\"0 0 24 24\"\n",
              "       width=\"24px\">\n",
              "    <path d=\"M7,19H8.4L18.45,9,17,7.55,7,17.6ZM5,21V16.75L18.45,3.32a2,2,0,0,1,2.83,0l1.4,1.43a1.91,1.91,0,0,1,.58,1.4,1.91,1.91,0,0,1-.58,1.4L9.25,21ZM18.45,9,17,7.55Zm-12,3A5.31,5.31,0,0,0,4.9,8.1,5.31,5.31,0,0,0,1,6.5,5.31,5.31,0,0,0,4.9,4.9,5.31,5.31,0,0,0,6.5,1,5.31,5.31,0,0,0,8.1,4.9,5.31,5.31,0,0,0,12,6.5,5.46,5.46,0,0,0,6.5,12Z\"/>\n",
              "  </svg>\n",
              "    </button>\n",
              "    <script>\n",
              "      (() => {\n",
              "      const buttonEl =\n",
              "        document.querySelector('#id_5050bec9-8ac5-4142-89f2-0db7b8af632b button.colab-df-generate');\n",
              "      buttonEl.style.display =\n",
              "        google.colab.kernel.accessAllowed ? 'block' : 'none';\n",
              "\n",
              "      buttonEl.onclick = () => {\n",
              "        google.colab.notebook.generateWithVariable('df');\n",
              "      }\n",
              "      })();\n",
              "    </script>\n",
              "  </div>\n",
              "\n",
              "    </div>\n",
              "  </div>\n"
            ],
            "application/vnd.google.colaboratory.intrinsic+json": {
              "type": "dataframe",
              "variable_name": "df",
              "summary": "{\n  \"name\": \"df\",\n  \"rows\": 245,\n  \"fields\": [\n    {\n      \"column\": \"Date\",\n      \"properties\": {\n        \"dtype\": \"date\",\n        \"min\": \"2023-01-02 00:00:00\",\n        \"max\": \"2023-12-28 00:00:00\",\n        \"num_unique_values\": 245,\n        \"samples\": [\n          \"2023-02-07 00:00:00\",\n          \"2023-01-10 00:00:00\",\n          \"2023-08-14 00:00:00\"\n        ],\n        \"semantic_type\": \"\",\n        \"description\": \"\"\n      }\n    },\n    {\n      \"column\": \"Open\",\n      \"properties\": {\n        \"dtype\": \"number\",\n        \"std\": 4498,\n        \"min\": 55400,\n        \"max\": 77700,\n        \"num_unique_values\": 128,\n        \"samples\": [\n          64100,\n          60600,\n          63200\n        ],\n        \"semantic_type\": \"\",\n        \"description\": \"\"\n      }\n    },\n    {\n      \"column\": \"High\",\n      \"properties\": {\n        \"dtype\": \"number\",\n        \"std\": 4497,\n        \"min\": 56000,\n        \"max\": 78500,\n        \"num_unique_values\": 118,\n        \"samples\": [\n          72300,\n          67700,\n          59400\n        ],\n        \"semantic_type\": \"\",\n        \"description\": \"\"\n      }\n    },\n    {\n      \"column\": \"Low\",\n      \"properties\": {\n        \"dtype\": \"number\",\n        \"std\": 4497,\n        \"min\": 54500,\n        \"max\": 77500,\n        \"num_unique_values\": 121,\n        \"samples\": [\n          64600,\n          64300,\n          57900\n        ],\n        \"semantic_type\": \"\",\n        \"description\": \"\"\n      }\n    },\n    {\n      \"column\": \"Close\",\n      \"properties\": {\n        \"dtype\": \"number\",\n        \"std\": 4521,\n        \"min\": 55400,\n        \"max\": 78500,\n        \"num_unique_values\": 123,\n        \"samples\": [\n          63800,\n          65700,\n          66000\n        ],\n        \"semantic_type\": \"\",\n        \"description\": \"\"\n      }\n    },\n    {\n      \"column\": \"Volume\",\n      \"properties\": {\n        \"dtype\": \"number\",\n        \"std\": 4330070,\n        \"min\": 5824628,\n        \"max\": 30016221,\n        \"num_unique_values\": 245,\n        \"samples\": [\n          14491039,\n          14859797,\n          9352343\n        ],\n        \"semantic_type\": \"\",\n        \"description\": \"\"\n      }\n    },\n    {\n      \"column\": \"Change\",\n      \"properties\": {\n        \"dtype\": \"number\",\n        \"std\": 0.013253066111245113,\n        \"min\": -0.0363349131121643,\n        \"max\": 0.06128550074738426,\n        \"num_unique_values\": 232,\n        \"samples\": [\n          0.005509641873278293,\n          0.043338683788122,\n          0.0049586776859504855\n        ],\n        \"semantic_type\": \"\",\n        \"description\": \"\"\n      }\n    }\n  ]\n}"
            }
          },
          "metadata": {},
          "execution_count": 5
        }
      ],
      "source": [
        "# 삼성전자, 2017년~현재 일별 시세 받아오기\n",
        "# 삼성전자의 종목 번호 '005930'\n",
        "df = fdr.DataReader('005930', \"2023\", \"2024\")\n",
        "df"
      ]
    },
    {
      "cell_type": "code",
      "execution_count": 6,
      "metadata": {
        "id": "QMUaPsp7jiwA",
        "outputId": "cec129ac-f6f8-4192-bc9c-deffe017a8e2",
        "colab": {
          "base_uri": "https://localhost:8080/",
          "height": 450
        }
      },
      "outputs": [
        {
          "output_type": "execute_result",
          "data": {
            "text/plain": [
              "<Axes: xlabel='Date'>"
            ]
          },
          "metadata": {},
          "execution_count": 6
        },
        {
          "output_type": "display_data",
          "data": {
            "text/plain": [
              "<Figure size 640x480 with 1 Axes>"
            ],
            "image/png": "[encoded data removed]"
          },
          "metadata": {}
        }
      ],
      "source": [
        "# 종가 시각화 하기\n",
        "df[\"Close\"].plot()"
      ]
    },
    {
      "cell_type": "markdown",
      "metadata": {
        "id": "h7T4gW_W-FmZ"
      },
      "source": [
        "## 상장종목 목록 가져오기"
      ]
    },
    {
      "cell_type": "code",
      "execution_count": 7,
      "metadata": {
        "id": "gWgVQdSx5HMT"
      },
      "outputs": [],
      "source": [
        "# 이전 강의에서 저장해 놓았던 csv 파일로 분석을 합니다.\n",
        "# colab 사용자의 경우 이미 csv 파일이 지워졌을 수 있기 때문에 파일이 없을 경우 아래 셀에서 다시 load하면 됩니다.\n",
        "df = pd.read_csv(\"https://raw.githubusercontent.com/corazzon/finance-data-analysis/main/krx.csv\")"
      ]
    },
    {
      "cell_type": "code",
      "execution_count": 8,
      "metadata": {
        "id": "muwUkDSF5HMT"
      },
      "outputs": [],
      "source": [
        "# 위 CSV 파일이 로드되지 않아 당황스러우신가요? 그럼 아래 주석을 풀고 다시 KRX 데이터를 받아오세요.\n",
        "# colab의 경우 일정 시간이 지나면 런타임이 초기화 되기 때문에 다시 로드하면 데이터를 가져올 수 있습니다.\n",
        "df_krx = fdr.StockListing('KRX')"
      ]
    },
    {
      "cell_type": "markdown",
      "metadata": {
        "id": "hbBmLbpY7vKY"
      },
      "source": [
        "## 상장종목 목록 사용하기\n",
        "* 종목명과 심볼을 찾기 위해 상장종목 목록을 사용합니다."
      ]
    },
    {
      "cell_type": "code",
      "execution_count": 9,
      "metadata": {
        "id": "U0n_cZGA5HMT",
        "outputId": "e60c71d0-55ae-4494-e06f-a97677ac1353",
        "colab": {
          "base_uri": "https://localhost:8080/",
          "height": 206
        }
      },
      "outputs": [
        {
          "output_type": "execute_result",
          "data": {
            "text/plain": [
              "     Code        ISU_CD      Name Market Dept   Close ChangeCode  Changes  \\\n",
              "0  005930  KR7005930003      삼성전자  KOSPI        55100          1      900   \n",
              "1  000660  KR7000660001    SK하이닉스  KOSPI       182500          2    -1500   \n",
              "2  373220  KR7373220003  LG에너지솔루션  KOSPI       383000          1      500   \n",
              "3  207940  KR7207940008  삼성바이오로직스  KOSPI       979000          1     5000   \n",
              "4  005380  KR7005380001       현대차  KOSPI       214000          1     7500   \n",
              "\n",
              "   ChagesRatio    Open    High     Low   Volume        Amount  \\\n",
              "0         1.66   54100   55200   54000  6534173  357736349300   \n",
              "1        -0.82  183400  183900  181600  1244868  227467725700   \n",
              "2         0.13  384000  386000  380000    91208   34927257000   \n",
              "3         0.51  978000  983000  966000    17540   17082885000   \n",
              "4         3.63  207500  215000  207500   307764   65218089500   \n",
              "\n",
              "            Marcap      Stocks MarketId  \n",
              "0  328935018505000  5969782550      STK  \n",
              "1  132860431612500   728002365      STK  \n",
              "2   89622000000000   234000000      STK  \n",
              "3   69679346000000    71174000      STK  \n",
              "4   44815064874000   209416191      STK  "
            ],
            "text/html": [
              "\n",
              "  <div id=\"df-6f2eeaa8-fda6-4390-a32a-50489d8ac844\" class=\"colab-df-container\">\n",
              "    <div>\n",
              "<style scoped>\n",
              "    .dataframe tbody tr th:only-of-type {\n",
              "        vertical-align: middle;\n",
              "    }\n",
              "\n",
              "    .dataframe tbody tr th {\n",
              "        vertical-align: top;\n",
              "    }\n",
              "\n",
              "    .dataframe thead th {\n",
              "        text-align: right;\n",
              "    }\n",
              "</style>\n",
              "<table border=\"1\" class=\"dataframe\">\n",
              "  <thead>\n",
              "    <tr style=\"text-align: right;\">\n",
              "      <th></th>\n",
              "      <th>Code</th>\n",
              "      <th>ISU_CD</th>\n",
              "      <th>Name</th>\n",
              "      <th>Market</th>\n",
              "      <th>Dept</th>\n",
              "      <th>Close</th>\n",
              "      <th>ChangeCode</th>\n",
              "      <th>Changes</th>\n",
              "      <th>ChagesRatio</th>\n",
              "      <th>Open</th>\n",
              "      <th>High</th>\n",
              "      <th>Low</th>\n",
              "      <th>Volume</th>\n",
              "      <th>Amount</th>\n",
              "      <th>Marcap</th>\n",
              "      <th>Stocks</th>\n",
              "      <th>MarketId</th>\n",
              "    </tr>\n",
              "  </thead>\n",
              "  <tbody>\n",
              "    <tr>\n",
              "      <th>0</th>\n",
              "      <td>005930</td>\n",
              "      <td>KR7005930003</td>\n",
              "      <td>삼성전자</td>\n",
              "      <td>KOSPI</td>\n",
              "      <td></td>\n",
              "      <td>55100</td>\n",
              "      <td>1</td>\n",
              "      <td>900</td>\n",
              "      <td>1.66</td>\n",
              "      <td>54100</td>\n",
              "      <td>55200</td>\n",
              "      <td>54000</td>\n",
              "      <td>6534173</td>\n",
              "      <td>357736349300</td>\n",
              "      <td>328935018505000</td>\n",
              "      <td>5969782550</td>\n",
              "      <td>STK</td>\n",
              "    </tr>\n",
              "    <tr>\n",
              "      <th>1</th>\n",
              "      <td>000660</td>\n",
              "      <td>KR7000660001</td>\n",
              "      <td>SK하이닉스</td>\n",
              "      <td>KOSPI</td>\n",
              "      <td></td>\n",
              "      <td>182500</td>\n",
              "      <td>2</td>\n",
              "      <td>-1500</td>\n",
              "      <td>-0.82</td>\n",
              "      <td>183400</td>\n",
              "      <td>183900</td>\n",
              "      <td>181600</td>\n",
              "      <td>1244868</td>\n",
              "      <td>227467725700</td>\n",
              "      <td>132860431612500</td>\n",
              "      <td>728002365</td>\n",
              "      <td>STK</td>\n",
              "    </tr>\n",
              "    <tr>\n",
              "      <th>2</th>\n",
              "      <td>373220</td>\n",
              "      <td>KR7373220003</td>\n",
              "      <td>LG에너지솔루션</td>\n",
              "      <td>KOSPI</td>\n",
              "      <td></td>\n",
              "      <td>383000</td>\n",
              "      <td>1</td>\n",
              "      <td>500</td>\n",
              "      <td>0.13</td>\n",
              "      <td>384000</td>\n",
              "      <td>386000</td>\n",
              "      <td>380000</td>\n",
              "      <td>91208</td>\n",
              "      <td>34927257000</td>\n",
              "      <td>89622000000000</td>\n",
              "      <td>234000000</td>\n",
              "      <td>STK</td>\n",
              "    </tr>\n",
              "    <tr>\n",
              "      <th>3</th>\n",
              "      <td>207940</td>\n",
              "      <td>KR7207940008</td>\n",
              "      <td>삼성바이오로직스</td>\n",
              "      <td>KOSPI</td>\n",
              "      <td></td>\n",
              "      <td>979000</td>\n",
              "      <td>1</td>\n",
              "      <td>5000</td>\n",
              "      <td>0.51</td>\n",
              "      <td>978000</td>\n",
              "      <td>983000</td>\n",
              "      <td>966000</td>\n",
              "      <td>17540</td>\n",
              "      <td>17082885000</td>\n",
              "      <td>69679346000000</td>\n",
              "      <td>71174000</td>\n",
              "      <td>STK</td>\n",
              "    </tr>\n",
              "    <tr>\n",
              "      <th>4</th>\n",
              "      <td>005380</td>\n",
              "      <td>KR7005380001</td>\n",
              "      <td>현대차</td>\n",
              "      <td>KOSPI</td>\n",
              "      <td></td>\n",
              "      <td>214000</td>\n",
              "      <td>1</td>\n",
              "      <td>7500</td>\n",
              "      <td>3.63</td>\n",
              "      <td>207500</td>\n",
              "      <td>215000</td>\n",
              "      <td>207500</td>\n",
              "      <td>307764</td>\n",
              "      <td>65218089500</td>\n",
              "      <td>44815064874000</td>\n",
              "      <td>209416191</td>\n",
              "      <td>STK</td>\n",
              "    </tr>\n",
              "  </tbody>\n",
              "</table>\n",
              "</div>\n",
              "    <div class=\"colab-df-buttons\">\n",
              "\n",
              "  <div class=\"colab-df-container\">\n",
              "    <button class=\"colab-df-convert\" onclick=\"convertToInteractive('df-6f2eeaa8-fda6-4390-a32a-50489d8ac844')\"\n",
              "            title=\"Convert this dataframe to an interactive table.\"\n",
              "            style=\"display:none;\">\n",
              "\n",
              "  <svg xmlns=\"http://www.w3.org/2000/svg\" height=\"24px\" viewBox=\"0 -960 960 960\">\n",
              "    <path d=\"M120-120v-720h720v720H120Zm60-500h600v-160H180v160Zm220 220h160v-160H400v160Zm0 220h160v-160H400v160ZM180-400h160v-160H180v160Zm440 0h160v-160H620v160ZM180-180h160v-160H180v160Zm440 0h160v-160H620v160Z\"/>\n",
              "  </svg>\n",
              "    </button>\n",
              "\n",
              "  <style>\n",
              "    .colab-df-container {\n",
              "      display:flex;\n",
              "      gap: 12px;\n",
              "    }\n",
              "\n",
              "    .colab-df-convert {\n",
              "      background-color: #E8F0FE;\n",
              "      border: none;\n",
              "      border-radius: 50%;\n",
              "      cursor: pointer;\n",
              "      display: none;\n",
              "      fill: #1967D2;\n",
              "      height: 32px;\n",
              "      padding: 0 0 0 0;\n",
              "      width: 32px;\n",
              "    }\n",
              "\n",
              "    .colab-df-convert:hover {\n",
              "      background-color: #E2EBFA;\n",
              "      box-shadow: 0px 1px 2px rgba(60, 64, 67, 0.3), 0px 1px 3px 1px rgba(60, 64, 67, 0.15);\n",
              "      fill: #174EA6;\n",
              "    }\n",
              "\n",
              "    .colab-df-buttons div {\n",
              "      margin-bottom: 4px;\n",
              "    }\n",
              "\n",
              "    [theme=dark] .colab-df-convert {\n",
              "      background-color: #3B4455;\n",
              "      fill: #D2E3FC;\n",
              "    }\n",
              "\n",
              "    [theme=dark] .colab-df-convert:hover {\n",
              "      background-color: #434B5C;\n",
              "      box-shadow: 0px 1px 3px 1px rgba(0, 0, 0, 0.15);\n",
              "      filter: drop-shadow(0px 1px 2px rgba(0, 0, 0, 0.3));\n",
              "      fill: #FFFFFF;\n",
              "    }\n",
              "  </style>\n",
              "\n",
              "    <script>\n",
              "      const buttonEl =\n",
              "        document.querySelector('#df-6f2eeaa8-fda6-4390-a32a-50489d8ac844 button.colab-df-convert');\n",
              "      buttonEl.style.display =\n",
              "        google.colab.kernel.accessAllowed ? 'block' : 'none';\n",
              "\n",
              "      async function convertToInteractive(key) {\n",
              "        const element = document.querySelector('#df-6f2eeaa8-fda6-4390-a32a-50489d8ac844');\n",
              "        const dataTable =\n",
              "          await google.colab.kernel.invokeFunction('convertToInteractive',\n",
              "                                                    [key], {});\n",
              "        if (!dataTable) return;\n",
              "\n",
              "        const docLinkHtml = 'Like what you see? Visit the ' +\n",
              "          '<a target=\"_blank\" href=https://colab.research.google.com/notebooks/data_table.ipynb>data table notebook</a>'\n",
              "          + ' to learn more about interactive tables.';\n",
              "        element.innerHTML = '';\n",
              "        dataTable['output_type'] = 'display_data';\n",
              "        await google.colab.output.renderOutput(dataTable, element);\n",
              "        const docLink = document.createElement('div');\n",
              "        docLink.innerHTML = docLinkHtml;\n",
              "        element.appendChild(docLink);\n",
              "      }\n",
              "    </script>\n",
              "  </div>\n",
              "\n",
              "\n",
              "<div id=\"df-4680deb1-c5dd-415e-9a65-9c9f8344dd93\">\n",
              "  <button class=\"colab-df-quickchart\" onclick=\"quickchart('df-4680deb1-c5dd-415e-9a65-9c9f8344dd93')\"\n",
              "            title=\"Suggest charts\"\n",
              "            style=\"display:none;\">\n",
              "\n",
              "<svg xmlns=\"http://www.w3.org/2000/svg\" height=\"24px\"viewBox=\"0 0 24 24\"\n",
              "     width=\"24px\">\n",
              "    <g>\n",
              "        <path d=\"M19 3H5c-1.1 0-2 .9-2 2v14c0 1.1.9 2 2 2h14c1.1 0 2-.9 2-2V5c0-1.1-.9-2-2-2zM9 17H7v-7h2v7zm4 0h-2V7h2v10zm4 0h-2v-4h2v4z\"/>\n",
              "    </g>\n",
              "</svg>\n",
              "  </button>\n",
              "\n",
              "<style>\n",
              "  .colab-df-quickchart {\n",
              "      --bg-color: #E8F0FE;\n",
              "      --fill-color: #1967D2;\n",
              "      --hover-bg-color: #E2EBFA;\n",
              "      --hover-fill-color: #174EA6;\n",
              "      --disabled-fill-color: #AAA;\n",
              "      --disabled-bg-color: #DDD;\n",
              "  }\n",
              "\n",
              "  [theme=dark] .colab-df-quickchart {\n",
              "      --bg-color: #3B4455;\n",
              "      --fill-color: #D2E3FC;\n",
              "      --hover-bg-color: #434B5C;\n",
              "      --hover-fill-color: #FFFFFF;\n",
              "      --disabled-bg-color: #3B4455;\n",
              "      --disabled-fill-color: #666;\n",
              "  }\n",
              "\n",
              "  .colab-df-quickchart {\n",
              "    background-color: var(--bg-color);\n",
              "    border: none;\n",
              "    border-radius: 50%;\n",
              "    cursor: pointer;\n",
              "    display: none;\n",
              "    fill: var(--fill-color);\n",
              "    height: 32px;\n",
              "    padding: 0;\n",
              "    width: 32px;\n",
              "  }\n",
              "\n",
              "  .colab-df-quickchart:hover {\n",
              "    background-color: var(--hover-bg-color);\n",
              "    box-shadow: 0 1px 2px rgba(60, 64, 67, 0.3), 0 1px 3px 1px rgba(60, 64, 67, 0.15);\n",
              "    fill: var(--button-hover-fill-color);\n",
              "  }\n",
              "\n",
              "  .colab-df-quickchart-complete:disabled,\n",
              "  .colab-df-quickchart-complete:disabled:hover {\n",
              "    background-color: var(--disabled-bg-color);\n",
              "    fill: var(--disabled-fill-color);\n",
              "    box-shadow: none;\n",
              "  }\n",
              "\n",
              "  .colab-df-spinner {\n",
              "    border: 2px solid var(--fill-color);\n",
              "    border-color: transparent;\n",
              "    border-bottom-color: var(--fill-color);\n",
              "    animation:\n",
              "      spin 1s steps(1) infinite;\n",
              "  }\n",
              "\n",
              "  @keyframes spin {\n",
              "    0% {\n",
              "      border-color: transparent;\n",
              "      border-bottom-color: var(--fill-color);\n",
              "      border-left-color: var(--fill-color);\n",
              "    }\n",
              "    20% {\n",
              "      border-color: transparent;\n",
              "      border-left-color: var(--fill-color);\n",
              "      border-top-color: var(--fill-color);\n",
              "    }\n",
              "    30% {\n",
              "      border-color: transparent;\n",
              "      border-left-color: var(--fill-color);\n",
              "      border-top-color: var(--fill-color);\n",
              "      border-right-color: var(--fill-color);\n",
              "    }\n",
              "    40% {\n",
              "      border-color: transparent;\n",
              "      border-right-color: var(--fill-color);\n",
              "      border-top-color: var(--fill-color);\n",
              "    }\n",
              "    60% {\n",
              "      border-color: transparent;\n",
              "      border-right-color: var(--fill-color);\n",
              "    }\n",
              "    80% {\n",
              "      border-color: transparent;\n",
              "      border-right-color: var(--fill-color);\n",
              "      border-bottom-color: var(--fill-color);\n",
              "    }\n",
              "    90% {\n",
              "      border-color: transparent;\n",
              "      border-bottom-color: var(--fill-color);\n",
              "    }\n",
              "  }\n",
              "</style>\n",
              "\n",
              "  <script>\n",
              "    async function quickchart(key) {\n",
              "      const quickchartButtonEl =\n",
              "        document.querySelector('#' + key + ' button');\n",
              "      quickchartButtonEl.disabled = true;  // To prevent multiple clicks.\n",
              "      quickchartButtonEl.classList.add('colab-df-spinner');\n",
              "      try {\n",
              "        const charts = await google.colab.kernel.invokeFunction(\n",
              "            'suggestCharts', [key], {});\n",
              "      } catch (error) {\n",
              "        console.error('Error during call to suggestCharts:', error);\n",
              "      }\n",
              "      quickchartButtonEl.classList.remove('colab-df-spinner');\n",
              "      quickchartButtonEl.classList.add('colab-df-quickchart-complete');\n",
              "    }\n",
              "    (() => {\n",
              "      let quickchartButtonEl =\n",
              "        document.querySelector('#df-4680deb1-c5dd-415e-9a65-9c9f8344dd93 button');\n",
              "      quickchartButtonEl.style.display =\n",
              "        google.colab.kernel.accessAllowed ? 'block' : 'none';\n",
              "    })();\n",
              "  </script>\n",
              "</div>\n",
              "\n",
              "    </div>\n",
              "  </div>\n"
            ],
            "application/vnd.google.colaboratory.intrinsic+json": {
              "type": "dataframe",
              "variable_name": "df_krx",
              "summary": "{\n  \"name\": \"df_krx\",\n  \"rows\": 2860,\n  \"fields\": [\n    {\n      \"column\": \"Code\",\n      \"properties\": {\n        \"dtype\": \"string\",\n        \"num_unique_values\": 2860,\n        \"samples\": [\n          \"078860\",\n          \"006740\",\n          \"334890\"\n        ],\n        \"semantic_type\": \"\",\n        \"description\": \"\"\n      }\n    },\n    {\n      \"column\": \"ISU_CD\",\n      \"properties\": {\n        \"dtype\": \"string\",\n        \"num_unique_values\": 2860,\n        \"samples\": [\n          \"KR7078860004\",\n          \"KR7006740005\",\n          \"KR7334890001\"\n        ],\n        \"semantic_type\": \"\",\n        \"description\": \"\"\n      }\n    },\n    {\n      \"column\": \"Name\",\n      \"properties\": {\n        \"dtype\": \"string\",\n        \"num_unique_values\": 2860,\n        \"samples\": [\n          \"\\uc5d4\\uc5d0\\uc2a4\\uc774\\uc5d4\\uc5e0\",\n          \"\\uc601\\ud48d\\uc81c\\uc9c0\",\n          \"\\uc774\\uc9c0\\uc2a4\\ubc38\\ub958\\ub9ac\\uce20\"\n        ],\n        \"semantic_type\": \"\",\n        \"description\": \"\"\n      }\n    },\n    {\n      \"column\": \"Market\",\n      \"properties\": {\n        \"dtype\": \"category\",\n        \"num_unique_values\": 4,\n        \"samples\": [\n          \"KOSDAQ GLOBAL\",\n          \"KONEX\",\n          \"KOSPI\"\n        ],\n        \"semantic_type\": \"\",\n        \"description\": \"\"\n      }\n    },\n    {\n      \"column\": \"Dept\",\n      \"properties\": {\n        \"dtype\": \"category\",\n        \"num_unique_values\": 10,\n        \"samples\": [\n          \"\\ud22c\\uc790\\uc8fc\\uc758\\ud658\\uae30\\uc885\\ubaa9(\\uc18c\\uc18d\\ubd80\\uc5c6\\uc74c)\",\n          \"\\uae30\\uc220\\uc131\\uc7a5\\uae30\\uc5c5\\ubd80\",\n          \"\\uc678\\uad6d\\uae30\\uc5c5(\\uc18c\\uc18d\\ubd80\\uc5c6\\uc74c)\"\n        ],\n        \"semantic_type\": \"\",\n        \"description\": \"\"\n      }\n    },\n    {\n      \"column\": \"Close\",\n      \"properties\": {\n        \"dtype\": \"string\",\n        \"num_unique_values\": 2003,\n        \"samples\": [\n          \"12420\",\n          \"59900\",\n          \"6010\"\n        ],\n        \"semantic_type\": \"\",\n        \"description\": \"\"\n      }\n    },\n    {\n      \"column\": \"ChangeCode\",\n      \"properties\": {\n        \"dtype\": \"category\",\n        \"num_unique_values\": 6,\n        \"samples\": [\n          \"1\",\n          \"2\",\n          \"4\"\n        ],\n        \"semantic_type\": \"\",\n        \"description\": \"\"\n      }\n    },\n    {\n      \"column\": \"Changes\",\n      \"properties\": {\n        \"dtype\": \"number\",\n        \"std\": 1265,\n        \"min\": -39000,\n        \"max\": 11500,\n        \"num_unique_values\": 390,\n        \"samples\": [\n          4000,\n          700,\n          1900\n        ],\n        \"semantic_type\": \"\",\n        \"description\": \"\"\n      }\n    },\n    {\n      \"column\": \"ChagesRatio\",\n      \"properties\": {\n        \"dtype\": \"number\",\n        \"std\": 3.3131504719444997,\n        \"min\": -29.97,\n        \"max\": 68.63,\n        \"num_unique_values\": 799,\n        \"samples\": [\n          4.99,\n          17.58,\n          5.8\n        ],\n        \"semantic_type\": \"\",\n        \"description\": \"\"\n      }\n    },\n    {\n      \"column\": \"Open\",\n      \"properties\": {\n        \"dtype\": \"number\",\n        \"std\": 50269,\n        \"min\": 0,\n        \"max\": 1123000,\n        \"num_unique_values\": 1898,\n        \"samples\": [\n          38400,\n          1638,\n          614\n        ],\n        \"semantic_type\": \"\",\n        \"description\": \"\"\n      }\n    },\n    {\n      \"column\": \"High\",\n      \"properties\": {\n        \"dtype\": \"number\",\n        \"std\": 50791,\n        \"min\": 0,\n        \"max\": 1125000,\n        \"num_unique_values\": 1870,\n        \"samples\": [\n          807,\n          1902,\n          509\n        ],\n        \"semantic_type\": \"\",\n        \"description\": \"\"\n      }\n    },\n    {\n      \"column\": \"Low\",\n      \"properties\": {\n        \"dtype\": \"number\",\n        \"std\": 49303,\n        \"min\": 0,\n        \"max\": 1090000,\n        \"num_unique_values\": 1911,\n        \"samples\": [\n          4635,\n          103400,\n          3275\n        ],\n        \"semantic_type\": \"\",\n        \"description\": \"\"\n      }\n    },\n    {\n      \"column\": \"Volume\",\n      \"properties\": {\n        \"dtype\": \"number\",\n        \"std\": 1229831,\n        \"min\": 0,\n        \"max\": 25075529,\n        \"num_unique_values\": 2631,\n        \"samples\": [\n          309466,\n          2104,\n          497\n        ],\n        \"semantic_type\": \"\",\n        \"description\": \"\"\n      }\n    },\n    {\n      \"column\": \"Amount\",\n      \"properties\": {\n        \"dtype\": \"number\",\n        \"std\": 14315829674,\n        \"min\": 0,\n        \"max\": 357736349300,\n        \"num_unique_values\": 2720,\n        \"samples\": [\n          148812240,\n          653383100,\n          17312248\n        ],\n        \"semantic_type\": \"\",\n        \"description\": \"\"\n      }\n    },\n    {\n      \"column\": \"Marcap\",\n      \"properties\": {\n        \"dtype\": \"number\",\n        \"std\": 7430374197797,\n        \"min\": 741981735,\n        \"max\": 328935018505000,\n        \"num_unique_values\": 2860,\n        \"samples\": [\n          81299736880,\n          68206805960,\n          218120308560\n        ],\n        \"semantic_type\": \"\",\n        \"description\": \"\"\n      }\n    },\n    {\n      \"column\": \"Stocks\",\n      \"properties\": {\n        \"dtype\": \"number\",\n        \"std\": 132694707,\n        \"min\": 200000,\n        \"max\": 5969782550,\n        \"num_unique_values\": 2766,\n        \"samples\": [\n          86444648,\n          10957550,\n          22992511\n        ],\n        \"semantic_type\": \"\",\n        \"description\": \"\"\n      }\n    },\n    {\n      \"column\": \"MarketId\",\n      \"properties\": {\n        \"dtype\": \"category\",\n        \"num_unique_values\": 3,\n        \"samples\": [\n          \"STK\",\n          \"KSQ\",\n          \"KNX\"\n        ],\n        \"semantic_type\": \"\",\n        \"description\": \"\"\n      }\n    }\n  ]\n}"
            }
          },
          "metadata": {},
          "execution_count": 9
        }
      ],
      "source": [
        "# DataFrame 에 어떤 데이터가 들어있는 head()로 일부 데이터만 가져와 봅니다.\n",
        "df_krx.head()"
      ]
    },
    {
      "cell_type": "markdown",
      "metadata": {
        "id": "GfeY2ZVejiwD"
      },
      "source": [
        "<font color=\"red\">빅히트 사명이 하이브로 변경되었습니다. 하이브로 실습해 주세요.</font>"
      ]
    },
    {
      "cell_type": "code",
      "execution_count": 13,
      "metadata": {
        "id": "OJtBeoeo5HMT",
        "scrolled": true,
        "outputId": "2add8ae4-b9c9-4717-ca44-62b0a3705849",
        "colab": {
          "base_uri": "https://localhost:8080/",
          "height": 35
        }
      },
      "outputs": [
        {
          "output_type": "execute_result",
          "data": {
            "text/plain": [
              "'083450'"
            ],
            "application/vnd.google.colaboratory.intrinsic+json": {
              "type": "string"
            }
          },
          "metadata": {},
          "execution_count": 13
        }
      ],
      "source": [
        "# df_krx의 Name column 에서 '하이브'에 해당하는 row를 전부 가져오는데 Name column만 가져와\n",
        "# list 형태로 index 번호는 빼고 ['하이브'] 만 가져오게 되고 [0]을 통해 list에 있는 string만 가져오게 됩니다.\n",
        "# 하이브 (series) -> ['하이브'] (list) -> '하이브' (string)\n",
        "df_krx[\"Name\"] == '하이브'\n",
        "df.loc[df_krx[\"Name\"] == '하이브', \"Symbol\"].tolist()[0]"
      ]
    },
    {
      "cell_type": "code",
      "execution_count": 15,
      "metadata": {
        "id": "2YfQlf9U5HMU",
        "outputId": "54abf6b3-2d5b-40a4-bb86-4a9a927b8d5e",
        "colab": {
          "base_uri": "https://localhost:8080/",
          "height": 35
        }
      },
      "outputs": [
        {
          "output_type": "execute_result",
          "data": {
            "text/plain": [
              "'083450'"
            ],
            "application/vnd.google.colaboratory.intrinsic+json": {
              "type": "string"
            }
          },
          "metadata": {},
          "execution_count": 15
        }
      ],
      "source": [
        "# '히트'라는 이름을 가진 상장사가 있는지 확인해 보기\n",
        "df.loc[df_krx[\"Name\"] == \"하이브\", \"Symbol\"].tolist()[0]"
      ]
    },
    {
      "cell_type": "markdown",
      "metadata": {
        "id": "vaM5_Hkd5HMU"
      },
      "source": [
        "## 종목명으로 종목 코드를 받아오는 함수 만들기"
      ]
    },
    {
      "cell_type": "code",
      "execution_count": null,
      "metadata": {
        "id": "6EB27Rkx5HMU"
      },
      "outputs": [],
      "source": [
        "# 종목명으로 종목코드 받아오는 함수 만들기\n",
        "# df_krx의 Name column에서 같은 값이 있으면\n",
        "# row의 Symbol column의 값을 list로 name_list에 저장하기\n",
        "# item_code_by_item_name 함수를 만듭니다.\n",
        "# def item_code_by_item_name(item_name):\n",
        "\"\"\"\n",
        "종목명을 받아 종목코드를 찾아 반환하는 함수\n",
        "\"\"\"\n"
      ]
    },
    {
      "cell_type": "code",
      "execution_count": null,
      "metadata": {
        "id": "ghBqXrH_jiwE"
      },
      "outputs": [],
      "source": []
    },
    {
      "cell_type": "code",
      "execution_count": null,
      "metadata": {
        "id": "oMwl2Dzq5HMU"
      },
      "outputs": [],
      "source": [
        "# 네이버로 등록된 상장사는 없습니다.\n",
        "# 잘못 입력된 텍스트에 대해 예외처리를 하는지 확인합니다.\n"
      ]
    },
    {
      "cell_type": "code",
      "execution_count": null,
      "metadata": {
        "id": "p8uKKoLUPwVK"
      },
      "outputs": [],
      "source": [
        "# 네이버는 NAVER로 등록되어 있습니다.\n"
      ]
    },
    {
      "cell_type": "code",
      "execution_count": null,
      "metadata": {
        "id": "bLv3ejhCjiwG"
      },
      "outputs": [],
      "source": [
        "# 삼성전자\n"
      ]
    },
    {
      "cell_type": "code",
      "execution_count": null,
      "metadata": {
        "id": "jMv5iz9a5HMU"
      },
      "outputs": [],
      "source": [
        "# 셀트리온과 카카오게임즈도 확인하여 봅니다.\n"
      ]
    },
    {
      "cell_type": "code",
      "execution_count": null,
      "metadata": {
        "id": "8ySc7r4SjiwG"
      },
      "outputs": [],
      "source": []
    },
    {
      "cell_type": "code",
      "execution_count": null,
      "metadata": {
        "id": "1pQ6d5eKjiwH"
      },
      "outputs": [],
      "source": []
    },
    {
      "cell_type": "markdown",
      "metadata": {
        "id": "Wwe4qoor5HMU"
      },
      "source": [
        "## 종목명으로 일별시세를 받아오는 함수 만들기"
      ]
    },
    {
      "cell_type": "code",
      "execution_count": null,
      "metadata": {
        "id": "GRQLNGdv5HMU"
      },
      "outputs": [],
      "source": [
        "# item_code_by_item_name : 종목명으로 종목번호 가져오기\n",
        "# find_item_list : 종목번호로 해당연도 데이터 가져오기\n",
        "# find_item_list는 year 값이 없으면 기본으로 2020년 데이터를 선택\n",
        "# def find_item_list(item_name, year=2020):\n",
        "\"\"\"\n",
        "종목명을 넘겨주면 일별시세를 반환하는 함수\n",
        "내부에서 종목명으로 종목코드를 반환하는 함수(item_code_by_item_name)로\n",
        "종목의 시세를 수집합니다.\n",
        "\"\"\"\n"
      ]
    },
    {
      "cell_type": "code",
      "execution_count": null,
      "metadata": {
        "id": "PBzY-YsrjiwH"
      },
      "outputs": [],
      "source": []
    },
    {
      "cell_type": "markdown",
      "metadata": {
        "id": "6UCk0UYn9yXR"
      },
      "source": [
        "### 종목명으로 일별 시세를 잘 가져오는지 확인하기"
      ]
    },
    {
      "cell_type": "code",
      "execution_count": null,
      "metadata": {
        "id": "fFnQ4fR75HMU"
      },
      "outputs": [],
      "source": [
        "# LG화학의 데이터를 가져옵니다.\n"
      ]
    },
    {
      "cell_type": "code",
      "execution_count": null,
      "metadata": {
        "id": "r93FJRnk5HMU"
      },
      "outputs": [],
      "source": [
        "# 빅히트의 데이터를 가져옵니다.\n",
        "# stock_daily 변수에 담습니다.\n"
      ]
    },
    {
      "cell_type": "markdown",
      "metadata": {
        "id": "e0qvnTltjiwJ"
      },
      "source": [
        "## 개별종목 시세 시각화\n",
        "### pandas 의 plot으로 시각화 하기"
      ]
    },
    {
      "cell_type": "code",
      "execution_count": null,
      "metadata": {
        "id": "SJe4C1zMjiwJ"
      },
      "outputs": [],
      "source": [
        "# stock_daily 변수에 할당된 수집된 데이터의 종가 그래프를 그립니다.\n"
      ]
    },
    {
      "cell_type": "code",
      "execution_count": null,
      "metadata": {
        "id": "mv3wLV0cjiwJ"
      },
      "outputs": [],
      "source": [
        "# 전체 데이터프레임을 plot() 으로 시각화 하면 수치 데이터 전체를 선그래프로 그립니다.\n"
      ]
    },
    {
      "cell_type": "markdown",
      "metadata": {
        "id": "66jv-_KAjiwK"
      },
      "source": [
        "### 서브플롯 그리기"
      ]
    },
    {
      "cell_type": "code",
      "execution_count": null,
      "metadata": {
        "id": "0TThx3Vq5HMU"
      },
      "outputs": [],
      "source": [
        "# 수집한 종목의 선그래프를 Pandas 로 그립니다.\n",
        "# 스케일이 다르기 때문에 subplots를 사용해 그려봅니다.\n"
      ]
    },
    {
      "cell_type": "code",
      "execution_count": null,
      "metadata": {
        "id": "GobXBfeljiwL"
      },
      "outputs": [],
      "source": [
        "# 히스토그램 그리기\n"
      ]
    },
    {
      "cell_type": "markdown",
      "metadata": {
        "id": "CGjo_uS_jiwL"
      },
      "source": [
        "### 2축 그래프 그리기"
      ]
    },
    {
      "cell_type": "code",
      "execution_count": null,
      "metadata": {
        "id": "9gWPomrBjiwL"
      },
      "outputs": [],
      "source": [
        "# secondary_y 옵션을 통한 종가와 거래량에 대한 2축 그래프 그리기\n"
      ]
    },
    {
      "cell_type": "markdown",
      "metadata": {
        "id": "PORhTX-LjiwS"
      },
      "source": [
        "### 과학적 기수법\n",
        "* 참고 : E notation\n",
        "[과학적 기수법 - 위키백과, 우리 모두의 백과사전](https://ko.wikipedia.org/wiki/%EA%B3%BC%ED%95%99%EC%A0%81_%EA%B8%B0%EC%88%98%EB%B2%95)\n",
        "\n",
        "과학적 기수법, 과학적 표기법(scientific notation, scientific form, standard index form, standard form)은 너무 크거나 너무 작은 숫자들을 십진법으로 편하게 작성하여 표현하는 방법이다. 과학자, 수학자, 공학자들이 공통적으로 사용하는데, 부분적인 이유는 특정한 산술을 단순화시켜 주기 때문이다. 과학 계산기에서는 \"SCI\" 디스플레이 모드라는 이름으로 알려져 있다."
      ]
    },
    {
      "cell_type": "code",
      "execution_count": null,
      "metadata": {
        "id": "7D-zbpl9jiwT"
      },
      "outputs": [],
      "source": []
    },
    {
      "cell_type": "code",
      "execution_count": null,
      "metadata": {
        "id": "GD3wD9ufjiwT"
      },
      "outputs": [],
      "source": []
    },
    {
      "cell_type": "code",
      "execution_count": null,
      "metadata": {
        "id": "9UsPivOjjiwT"
      },
      "outputs": [],
      "source": []
    },
    {
      "cell_type": "code",
      "execution_count": null,
      "metadata": {
        "id": "mGjONaE5jiwU"
      },
      "outputs": [],
      "source": []
    },
    {
      "cell_type": "code",
      "execution_count": null,
      "metadata": {
        "id": "G_kDrphXjiwU"
      },
      "outputs": [],
      "source": []
    },
    {
      "cell_type": "code",
      "execution_count": null,
      "metadata": {
        "id": "xjAM0x5ZjiwU"
      },
      "outputs": [],
      "source": []
    },
    {
      "cell_type": "code",
      "execution_count": null,
      "metadata": {
        "id": "O2FgfPRmjiwU"
      },
      "outputs": [],
      "source": []
    },
    {
      "cell_type": "code",
      "execution_count": null,
      "metadata": {
        "id": "Eqvk0jlEjiwV"
      },
      "outputs": [],
      "source": []
    }
  ],
  "metadata": {
    "colab": {
      "name": "2. FinanceDataReader를 통한 개별종목 수집하기.ipynb",
      "provenance": []
    },
    "kernelspec": {
      "display_name": "Python 3",
      "language": "python",
      "name": "python3"
    },
    "language_info": {
      "codemirror_mode": {
        "name": "ipython",
        "version": 3
      },
      "file_extension": ".py",
      "mimetype": "text/x-python",
      "name": "python",
      "nbconvert_exporter": "python",
      "pygments_lexer": "ipython3",
      "version": "3.7.6"
    },
    "toc": {
      "base_numbering": 1,
      "nav_menu": {},
      "number_sections": true,
      "sideBar": true,
      "skip_h1_title": false,
      "title_cell": "Table of Contents",
      "title_sidebar": "Contents",
      "toc_cell": false,
      "toc_position": {
        "height": "calc(100% - 180px)",
        "left": "10px",
        "top": "150px",
        "width": "256px"
      },
      "toc_section_display": true,
      "toc_window_display": true
    },
    "varInspector": {
      "cols": {
        "lenName": 16,
        "lenType": 16,
        "lenVar": 40
      },
      "kernels_config": {
        "python": {
          "delete_cmd_postfix": "",
          "delete_cmd_prefix": "del ",
          "library": "var_list.py",
          "varRefreshCmd": "print(var_dic_list())"
        },
        "r": {
          "delete_cmd_postfix": ") ",
          "delete_cmd_prefix": "rm(",
          "library": "var_list.r",
          "varRefreshCmd": "cat(var_dic_list()) "
        }
      },
      "types_to_exclude": [
        "module",
        "function",
        "builtin_function_or_method",
        "instance",
        "_Feature"
      ],
      "window_display": false
    }
  },
  "nbformat": 4,
  "nbformat_minor": 0
}