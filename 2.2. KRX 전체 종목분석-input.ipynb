{
  "cells": [
    {
      "cell_type": "markdown",
      "metadata": {
        "id": "HWKVTvP7v9xb"
      },
      "source": [
        "[![Open In Colab](https://colab.research.google.com/assets/colab-badge.svg)](https://colab.research.google.com/github/corazzon/finance-data-analysis/blob/main/2.2.%20KRX%20%EC%A0%84%EC%B2%B4%20%EC%A2%85%EB%AA%A9%EB%B6%84%EC%84%9D-input.ipynb)\n",
        "\n",
        "## 한국거래소(KRX) 전체 종목 분석\n",
        "* Pandas cheat sheet 를 함께 보세요! : [Pandas_Cheat_Sheet.pdf](https://pandas.pydata.org/Pandas_Cheat_Sheet.pdf)\n",
        "\n",
        "* FinanceDataReader를 통한 KRX 전체 종목 수집\n",
        "    * to_csv(\"파일명\", index=False) : csv 파일로 저장하기\n",
        "    * read_csv(\"파일명\") : csv 파일 불러오기\n",
        "    \n",
        "* Pandas를 통한 파일 저장과 불러오기\n",
        "    * shape를 통한 행과 열의 수 보기\n",
        "    * head, tail, sample 을 통한 일부 데이터 가져오기\n",
        "    \n",
        "* DataFrame의 info(), describe() 등을 통한 요약과 기술통계 값 구하기\n",
        "    * info()\n",
        "    * describe()\n",
        "    * nunique()\n",
        "    * index\n",
        "    * columns\n",
        "    * values\n",
        "    \n",
        "* Pandas의  DataFrame과 Series의 이해\n",
        "    * Series : 1차원 벡터구조\n",
        "    * DataFrame : 2차원 행렬구조\n",
        "    \n",
        "* 색인하기\n",
        "    * [컬럼]\n",
        "    * .loc[행]\n",
        "    * .loc[행, 열]\n",
        "    * .loc[조건식, 열]\n",
        "    \n",
        "* DataFrame의 데이터 타입 이해하기\n",
        "    * 날짜 데이터의 변환\n",
        "    \n",
        "* DataFrame 다루기\n",
        "    * 열(column) 인덱싱\n",
        "    * 행(index) 인덱싱\n",
        "    * 행, 열 인덱싱\n",
        "    * 정렬하기 : sort_values 사용하기\n",
        "    * 조건식 사용하기\n",
        "\n",
        "* 빈도수 구하기\n",
        "    * 한 개의 변수 : series.value_counts()\n",
        "    * 두 개의 변수 : pd.crosstab()\n",
        "\n",
        "* groupby 와 pivot_table\n",
        "    * 다양한 연산식의 사용\n",
        "\n",
        "\n",
        "## ⚠️ 주의할 점 ⚠️\n",
        "* 강좌의 분석내용과 여러분의 실습 결과는 시점의 차이로 빈도수 등의 결과값이 다르게 나옵니다.\n",
        "\n",
        "\n",
        "\n",
        "## 라이브러리 불러오기"
      ]
    },
    {
      "cell_type": "code",
      "execution_count": 3,
      "metadata": {
        "id": "OGQuQOfmv9xb"
      },
      "outputs": [],
      "source": [
        "# 데이터 분석을 위해 pandas, 시각화를 위해 seaborn 불러오기\n",
        "import pandas as pd\n",
        "import seaborn as sns"
      ]
    },
    {
      "cell_type": "markdown",
      "metadata": {
        "id": "NZrikuL1v9xa"
      },
      "source": [
        "## FinanceDataReader 로 수집한 전체 종목 불러오기\n",
        "\n",
        "* 한국 주식 가격, 미국주식 가격, 지수, 환율, 암호화폐 가격, 종목 리스팅 등 금융 데이터 수집 라이브러리\n",
        "\n",
        "* [FinanceDataReader 사용자 안내서 | FinanceData](https://financedata.github.io/posts/finance-data-reader-users-guide.html)\n",
        "* https://pandas-datareader.readthedocs.io/en/latest/readers/index.html\n",
        "\n",
        "<img src=\"https://pandas.pydata.org/docs/_images/02_io_readwrite.svg\">"
      ]
    },
    {
      "cell_type": "markdown",
      "metadata": {
        "id": "WhFUu3ROmTj3"
      },
      "source": [
        "## <font color=\"red\">종목명이 영문으로 표기될 때</font>\n",
        "\n",
        "해당 수업은 실시간으로 한국거래소에서 FinanceDataReader 라는 라이브러리를 통해 데이터를 받아오고 있습니다.\n",
        "아래 링크에 있는 라이브러리의 소스코드가 KRX 전체 종목을 가져오는 소스코드입니다.\n",
        "\n",
        "[FinanceDataReader/listing.py at master · FinanceData/FinanceDataReader](https://github.com/FinanceData/FinanceDataReader/blob/master/krx/listing.py)\n",
        "\n",
        "이 때, 전체 상장종목과 거래할 수 있는 ETF 등의 종목도 함께 가져오게 되는데,\n",
        "FinanceDataReader 에서는 코스피, 코스닥, 코넥스 정보가 있는 엑셀파일과 금융상품 정보가 있는 JSON 데이터를 가져와서 병합하는 형태로 데이터를 제공하고 있습니다.\n",
        "그런데 최근 JSON 데이터의 종목명이 영문으로 변경되어 제공되고 있음을 확인했습니다.\n",
        "그래서 아래의 엑셀 데이터를 read_html 로 읽어오게 되면 한글로 된 종목명을 받아서 분석해 보실 수 있습니다."
      ]
    },
    {
      "cell_type": "code",
      "execution_count": null,
      "metadata": {
        "id": "erdjcal1mTj3"
      },
      "outputs": [],
      "source": [
        "# # 종목명이 영문으로 표기 될 때 아래의 주석을 풀고 데이터를 받아서 분석해 보세요!\n",
        "# url = 'http://kind.krx.co.kr/corpgeneral/corpList.do?method=download&searchType=13'\n",
        "# df_listing = pd.read_html(url, header=0)[0]\n",
        "# cols_ren = {'회사명':'Name', '종목코드':'Symbol', '업종':'Sector', '주요제품':'Industry',\n",
        "#                     '상장일':'ListingDate', '결산월':'SettleMonth',  '대표자명':'Representative',\n",
        "#                     '홈페이지':'HomePage', '지역':'Region', }\n",
        "# df = df_listing.rename(columns = cols_ren)\n",
        "# df['Symbol'] = df['Symbol'].apply(lambda x: '{:06d}'.format(x))\n",
        "# df['ListingDate'] = pd.to_datetime(df['ListingDate'])\n",
        "# df"
      ]
    },
    {
      "cell_type": "code",
      "execution_count": 4,
      "metadata": {
        "id": "Rz9eJjDsv9xc",
        "colab": {
          "base_uri": "https://localhost:8080/",
          "height": 545
        },
        "outputId": "796ad592-a138-4319-a5a7-7063aa41bac8"
      },
      "outputs": [
        {
          "output_type": "execute_result",
          "data": {
            "text/plain": [
              "        Code        ISU_CD      Name Market   Dept   Close  ChangeCode  \\\n",
              "0     005930  KR7005930003      삼성전자  KOSPI    NaN   56100           1   \n",
              "1     000660  KR7000660001    SK하이닉스  KOSPI    NaN  175500           2   \n",
              "2     373220  KR7373220003  LG에너지솔루션  KOSPI    NaN  400000           2   \n",
              "3     207940  KR7207940008  삼성바이오로직스  KOSPI    NaN  986000           1   \n",
              "4     005380  KR7005380001       현대차  KOSPI    NaN  215000           1   \n",
              "...      ...           ...       ...    ...    ...     ...         ...   \n",
              "2852  215570  KR7215570003      크로넥스  KONEX  일반기업부     439           1   \n",
              "2853  245450  KR7245450002    씨앤에스링크  KONEX  일반기업부    1299           2   \n",
              "2854  288490  KR7288490006     나라소프트  KONEX  일반기업부      58           2   \n",
              "2855  308700  KR7308700004       테크엔  KONEX  일반기업부     199           0   \n",
              "2856  413300  KR7413300005   티엘엔지니어링  KONEX  일반기업부     550           2   \n",
              "\n",
              "      Changes  ChagesRatio    Open    High     Low    Volume        Amount  \\\n",
              "0         200         0.36   55800   56300   55500  15908823  890639761200   \n",
              "1        -600        -0.34  174400  176400  173500   3677980  643515029446   \n",
              "2       -4500        -1.11  396000  400000  389500    330114  130126551500   \n",
              "3       28000         2.92  959000  995000  950000     76812   75296734000   \n",
              "4        3500         1.65  212000  216000  209000    528172  112602320500   \n",
              "...       ...          ...     ...     ...     ...       ...           ...   \n",
              "2852       49        12.56     400     448     332      1200        502912   \n",
              "2853     -101        -7.21    1400    1400    1200        12         14699   \n",
              "2854       -3        -4.92      61      61      52    118428       6447141   \n",
              "2855        0         0.00       0       0       0         0             0   \n",
              "2856      -50        -8.33     589     590     550         3          1729   \n",
              "\n",
              "               Marcap      Stocks MarketId  \n",
              "0     334904801055000  5969782550      STK  \n",
              "1     127764415057500   728002365      STK  \n",
              "2      93600000000000   234000000      STK  \n",
              "3      70177564000000    71174000      STK  \n",
              "4      45024481065000   209416191      STK  \n",
              "...               ...         ...      ...  \n",
              "2852       2229267023     5078057      KNX  \n",
              "2853       2052368040     1579960      KNX  \n",
              "2854       1013351466    17471577      KNX  \n",
              "2855        796000000     4000000      KNX  \n",
              "2856        718033250     1305515      KNX  \n",
              "\n",
              "[2857 rows x 17 columns]"
            ],
            "text/html": [
              "\n",
              "  <div id=\"df-33b0be5a-eb59-413d-88f7-05aeb9b338b8\" class=\"colab-df-container\">\n",
              "    <div>\n",
              "<style scoped>\n",
              "    .dataframe tbody tr th:only-of-type {\n",
              "        vertical-align: middle;\n",
              "    }\n",
              "\n",
              "    .dataframe tbody tr th {\n",
              "        vertical-align: top;\n",
              "    }\n",
              "\n",
              "    .dataframe thead th {\n",
              "        text-align: right;\n",
              "    }\n",
              "</style>\n",
              "<table border=\"1\" class=\"dataframe\">\n",
              "  <thead>\n",
              "    <tr style=\"text-align: right;\">\n",
              "      <th></th>\n",
              "      <th>Code</th>\n",
              "      <th>ISU_CD</th>\n",
              "      <th>Name</th>\n",
              "      <th>Market</th>\n",
              "      <th>Dept</th>\n",
              "      <th>Close</th>\n",
              "      <th>ChangeCode</th>\n",
              "      <th>Changes</th>\n",
              "      <th>ChagesRatio</th>\n",
              "      <th>Open</th>\n",
              "      <th>High</th>\n",
              "      <th>Low</th>\n",
              "      <th>Volume</th>\n",
              "      <th>Amount</th>\n",
              "      <th>Marcap</th>\n",
              "      <th>Stocks</th>\n",
              "      <th>MarketId</th>\n",
              "    </tr>\n",
              "  </thead>\n",
              "  <tbody>\n",
              "    <tr>\n",
              "      <th>0</th>\n",
              "      <td>005930</td>\n",
              "      <td>KR7005930003</td>\n",
              "      <td>삼성전자</td>\n",
              "      <td>KOSPI</td>\n",
              "      <td>NaN</td>\n",
              "      <td>56100</td>\n",
              "      <td>1</td>\n",
              "      <td>200</td>\n",
              "      <td>0.36</td>\n",
              "      <td>55800</td>\n",
              "      <td>56300</td>\n",
              "      <td>55500</td>\n",
              "      <td>15908823</td>\n",
              "      <td>890639761200</td>\n",
              "      <td>334904801055000</td>\n",
              "      <td>5969782550</td>\n",
              "      <td>STK</td>\n",
              "    </tr>\n",
              "    <tr>\n",
              "      <th>1</th>\n",
              "      <td>000660</td>\n",
              "      <td>KR7000660001</td>\n",
              "      <td>SK하이닉스</td>\n",
              "      <td>KOSPI</td>\n",
              "      <td>NaN</td>\n",
              "      <td>175500</td>\n",
              "      <td>2</td>\n",
              "      <td>-600</td>\n",
              "      <td>-0.34</td>\n",
              "      <td>174400</td>\n",
              "      <td>176400</td>\n",
              "      <td>173500</td>\n",
              "      <td>3677980</td>\n",
              "      <td>643515029446</td>\n",
              "      <td>127764415057500</td>\n",
              "      <td>728002365</td>\n",
              "      <td>STK</td>\n",
              "    </tr>\n",
              "    <tr>\n",
              "      <th>2</th>\n",
              "      <td>373220</td>\n",
              "      <td>KR7373220003</td>\n",
              "      <td>LG에너지솔루션</td>\n",
              "      <td>KOSPI</td>\n",
              "      <td>NaN</td>\n",
              "      <td>400000</td>\n",
              "      <td>2</td>\n",
              "      <td>-4500</td>\n",
              "      <td>-1.11</td>\n",
              "      <td>396000</td>\n",
              "      <td>400000</td>\n",
              "      <td>389500</td>\n",
              "      <td>330114</td>\n",
              "      <td>130126551500</td>\n",
              "      <td>93600000000000</td>\n",
              "      <td>234000000</td>\n",
              "      <td>STK</td>\n",
              "    </tr>\n",
              "    <tr>\n",
              "      <th>3</th>\n",
              "      <td>207940</td>\n",
              "      <td>KR7207940008</td>\n",
              "      <td>삼성바이오로직스</td>\n",
              "      <td>KOSPI</td>\n",
              "      <td>NaN</td>\n",
              "      <td>986000</td>\n",
              "      <td>1</td>\n",
              "      <td>28000</td>\n",
              "      <td>2.92</td>\n",
              "      <td>959000</td>\n",
              "      <td>995000</td>\n",
              "      <td>950000</td>\n",
              "      <td>76812</td>\n",
              "      <td>75296734000</td>\n",
              "      <td>70177564000000</td>\n",
              "      <td>71174000</td>\n",
              "      <td>STK</td>\n",
              "    </tr>\n",
              "    <tr>\n",
              "      <th>4</th>\n",
              "      <td>005380</td>\n",
              "      <td>KR7005380001</td>\n",
              "      <td>현대차</td>\n",
              "      <td>KOSPI</td>\n",
              "      <td>NaN</td>\n",
              "      <td>215000</td>\n",
              "      <td>1</td>\n",
              "      <td>3500</td>\n",
              "      <td>1.65</td>\n",
              "      <td>212000</td>\n",
              "      <td>216000</td>\n",
              "      <td>209000</td>\n",
              "      <td>528172</td>\n",
              "      <td>112602320500</td>\n",
              "      <td>45024481065000</td>\n",
              "      <td>209416191</td>\n",
              "      <td>STK</td>\n",
              "    </tr>\n",
              "    <tr>\n",
              "      <th>...</th>\n",
              "      <td>...</td>\n",
              "      <td>...</td>\n",
              "      <td>...</td>\n",
              "      <td>...</td>\n",
              "      <td>...</td>\n",
              "      <td>...</td>\n",
              "      <td>...</td>\n",
              "      <td>...</td>\n",
              "      <td>...</td>\n",
              "      <td>...</td>\n",
              "      <td>...</td>\n",
              "      <td>...</td>\n",
              "      <td>...</td>\n",
              "      <td>...</td>\n",
              "      <td>...</td>\n",
              "      <td>...</td>\n",
              "      <td>...</td>\n",
              "    </tr>\n",
              "    <tr>\n",
              "      <th>2852</th>\n",
              "      <td>215570</td>\n",
              "      <td>KR7215570003</td>\n",
              "      <td>크로넥스</td>\n",
              "      <td>KONEX</td>\n",
              "      <td>일반기업부</td>\n",
              "      <td>439</td>\n",
              "      <td>1</td>\n",
              "      <td>49</td>\n",
              "      <td>12.56</td>\n",
              "      <td>400</td>\n",
              "      <td>448</td>\n",
              "      <td>332</td>\n",
              "      <td>1200</td>\n",
              "      <td>502912</td>\n",
              "      <td>2229267023</td>\n",
              "      <td>5078057</td>\n",
              "      <td>KNX</td>\n",
              "    </tr>\n",
              "    <tr>\n",
              "      <th>2853</th>\n",
              "      <td>245450</td>\n",
              "      <td>KR7245450002</td>\n",
              "      <td>씨앤에스링크</td>\n",
              "      <td>KONEX</td>\n",
              "      <td>일반기업부</td>\n",
              "      <td>1299</td>\n",
              "      <td>2</td>\n",
              "      <td>-101</td>\n",
              "      <td>-7.21</td>\n",
              "      <td>1400</td>\n",
              "      <td>1400</td>\n",
              "      <td>1200</td>\n",
              "      <td>12</td>\n",
              "      <td>14699</td>\n",
              "      <td>2052368040</td>\n",
              "      <td>1579960</td>\n",
              "      <td>KNX</td>\n",
              "    </tr>\n",
              "    <tr>\n",
              "      <th>2854</th>\n",
              "      <td>288490</td>\n",
              "      <td>KR7288490006</td>\n",
              "      <td>나라소프트</td>\n",
              "      <td>KONEX</td>\n",
              "      <td>일반기업부</td>\n",
              "      <td>58</td>\n",
              "      <td>2</td>\n",
              "      <td>-3</td>\n",
              "      <td>-4.92</td>\n",
              "      <td>61</td>\n",
              "      <td>61</td>\n",
              "      <td>52</td>\n",
              "      <td>118428</td>\n",
              "      <td>6447141</td>\n",
              "      <td>1013351466</td>\n",
              "      <td>17471577</td>\n",
              "      <td>KNX</td>\n",
              "    </tr>\n",
              "    <tr>\n",
              "      <th>2855</th>\n",
              "      <td>308700</td>\n",
              "      <td>KR7308700004</td>\n",
              "      <td>테크엔</td>\n",
              "      <td>KONEX</td>\n",
              "      <td>일반기업부</td>\n",
              "      <td>199</td>\n",
              "      <td>0</td>\n",
              "      <td>0</td>\n",
              "      <td>0.00</td>\n",
              "      <td>0</td>\n",
              "      <td>0</td>\n",
              "      <td>0</td>\n",
              "      <td>0</td>\n",
              "      <td>0</td>\n",
              "      <td>796000000</td>\n",
              "      <td>4000000</td>\n",
              "      <td>KNX</td>\n",
              "    </tr>\n",
              "    <tr>\n",
              "      <th>2856</th>\n",
              "      <td>413300</td>\n",
              "      <td>KR7413300005</td>\n",
              "      <td>티엘엔지니어링</td>\n",
              "      <td>KONEX</td>\n",
              "      <td>일반기업부</td>\n",
              "      <td>550</td>\n",
              "      <td>2</td>\n",
              "      <td>-50</td>\n",
              "      <td>-8.33</td>\n",
              "      <td>589</td>\n",
              "      <td>590</td>\n",
              "      <td>550</td>\n",
              "      <td>3</td>\n",
              "      <td>1729</td>\n",
              "      <td>718033250</td>\n",
              "      <td>1305515</td>\n",
              "      <td>KNX</td>\n",
              "    </tr>\n",
              "  </tbody>\n",
              "</table>\n",
              "<p>2857 rows × 17 columns</p>\n",
              "</div>\n",
              "    <div class=\"colab-df-buttons\">\n",
              "\n",
              "  <div class=\"colab-df-container\">\n",
              "    <button class=\"colab-df-convert\" onclick=\"convertToInteractive('df-33b0be5a-eb59-413d-88f7-05aeb9b338b8')\"\n",
              "            title=\"Convert this dataframe to an interactive table.\"\n",
              "            style=\"display:none;\">\n",
              "\n",
              "  <svg xmlns=\"http://www.w3.org/2000/svg\" height=\"24px\" viewBox=\"0 -960 960 960\">\n",
              "    <path d=\"M120-120v-720h720v720H120Zm60-500h600v-160H180v160Zm220 220h160v-160H400v160Zm0 220h160v-160H400v160ZM180-400h160v-160H180v160Zm440 0h160v-160H620v160ZM180-180h160v-160H180v160Zm440 0h160v-160H620v160Z\"/>\n",
              "  </svg>\n",
              "    </button>\n",
              "\n",
              "  <style>\n",
              "    .colab-df-container {\n",
              "      display:flex;\n",
              "      gap: 12px;\n",
              "    }\n",
              "\n",
              "    .colab-df-convert {\n",
              "      background-color: #E8F0FE;\n",
              "      border: none;\n",
              "      border-radius: 50%;\n",
              "      cursor: pointer;\n",
              "      display: none;\n",
              "      fill: #1967D2;\n",
              "      height: 32px;\n",
              "      padding: 0 0 0 0;\n",
              "      width: 32px;\n",
              "    }\n",
              "\n",
              "    .colab-df-convert:hover {\n",
              "      background-color: #E2EBFA;\n",
              "      box-shadow: 0px 1px 2px rgba(60, 64, 67, 0.3), 0px 1px 3px 1px rgba(60, 64, 67, 0.15);\n",
              "      fill: #174EA6;\n",
              "    }\n",
              "\n",
              "    .colab-df-buttons div {\n",
              "      margin-bottom: 4px;\n",
              "    }\n",
              "\n",
              "    [theme=dark] .colab-df-convert {\n",
              "      background-color: #3B4455;\n",
              "      fill: #D2E3FC;\n",
              "    }\n",
              "\n",
              "    [theme=dark] .colab-df-convert:hover {\n",
              "      background-color: #434B5C;\n",
              "      box-shadow: 0px 1px 3px 1px rgba(0, 0, 0, 0.15);\n",
              "      filter: drop-shadow(0px 1px 2px rgba(0, 0, 0, 0.3));\n",
              "      fill: #FFFFFF;\n",
              "    }\n",
              "  </style>\n",
              "\n",
              "    <script>\n",
              "      const buttonEl =\n",
              "        document.querySelector('#df-33b0be5a-eb59-413d-88f7-05aeb9b338b8 button.colab-df-convert');\n",
              "      buttonEl.style.display =\n",
              "        google.colab.kernel.accessAllowed ? 'block' : 'none';\n",
              "\n",
              "      async function convertToInteractive(key) {\n",
              "        const element = document.querySelector('#df-33b0be5a-eb59-413d-88f7-05aeb9b338b8');\n",
              "        const dataTable =\n",
              "          await google.colab.kernel.invokeFunction('convertToInteractive',\n",
              "                                                    [key], {});\n",
              "        if (!dataTable) return;\n",
              "\n",
              "        const docLinkHtml = 'Like what you see? Visit the ' +\n",
              "          '<a target=\"_blank\" href=https://colab.research.google.com/notebooks/data_table.ipynb>data table notebook</a>'\n",
              "          + ' to learn more about interactive tables.';\n",
              "        element.innerHTML = '';\n",
              "        dataTable['output_type'] = 'display_data';\n",
              "        await google.colab.output.renderOutput(dataTable, element);\n",
              "        const docLink = document.createElement('div');\n",
              "        docLink.innerHTML = docLinkHtml;\n",
              "        element.appendChild(docLink);\n",
              "      }\n",
              "    </script>\n",
              "  </div>\n",
              "\n",
              "\n",
              "<div id=\"df-887dc65f-8008-4f84-a2a4-309626ce72bf\">\n",
              "  <button class=\"colab-df-quickchart\" onclick=\"quickchart('df-887dc65f-8008-4f84-a2a4-309626ce72bf')\"\n",
              "            title=\"Suggest charts\"\n",
              "            style=\"display:none;\">\n",
              "\n",
              "<svg xmlns=\"http://www.w3.org/2000/svg\" height=\"24px\"viewBox=\"0 0 24 24\"\n",
              "     width=\"24px\">\n",
              "    <g>\n",
              "        <path d=\"M19 3H5c-1.1 0-2 .9-2 2v14c0 1.1.9 2 2 2h14c1.1 0 2-.9 2-2V5c0-1.1-.9-2-2-2zM9 17H7v-7h2v7zm4 0h-2V7h2v10zm4 0h-2v-4h2v4z\"/>\n",
              "    </g>\n",
              "</svg>\n",
              "  </button>\n",
              "\n",
              "<style>\n",
              "  .colab-df-quickchart {\n",
              "      --bg-color: #E8F0FE;\n",
              "      --fill-color: #1967D2;\n",
              "      --hover-bg-color: #E2EBFA;\n",
              "      --hover-fill-color: #174EA6;\n",
              "      --disabled-fill-color: #AAA;\n",
              "      --disabled-bg-color: #DDD;\n",
              "  }\n",
              "\n",
              "  [theme=dark] .colab-df-quickchart {\n",
              "      --bg-color: #3B4455;\n",
              "      --fill-color: #D2E3FC;\n",
              "      --hover-bg-color: #434B5C;\n",
              "      --hover-fill-color: #FFFFFF;\n",
              "      --disabled-bg-color: #3B4455;\n",
              "      --disabled-fill-color: #666;\n",
              "  }\n",
              "\n",
              "  .colab-df-quickchart {\n",
              "    background-color: var(--bg-color);\n",
              "    border: none;\n",
              "    border-radius: 50%;\n",
              "    cursor: pointer;\n",
              "    display: none;\n",
              "    fill: var(--fill-color);\n",
              "    height: 32px;\n",
              "    padding: 0;\n",
              "    width: 32px;\n",
              "  }\n",
              "\n",
              "  .colab-df-quickchart:hover {\n",
              "    background-color: var(--hover-bg-color);\n",
              "    box-shadow: 0 1px 2px rgba(60, 64, 67, 0.3), 0 1px 3px 1px rgba(60, 64, 67, 0.15);\n",
              "    fill: var(--button-hover-fill-color);\n",
              "  }\n",
              "\n",
              "  .colab-df-quickchart-complete:disabled,\n",
              "  .colab-df-quickchart-complete:disabled:hover {\n",
              "    background-color: var(--disabled-bg-color);\n",
              "    fill: var(--disabled-fill-color);\n",
              "    box-shadow: none;\n",
              "  }\n",
              "\n",
              "  .colab-df-spinner {\n",
              "    border: 2px solid var(--fill-color);\n",
              "    border-color: transparent;\n",
              "    border-bottom-color: var(--fill-color);\n",
              "    animation:\n",
              "      spin 1s steps(1) infinite;\n",
              "  }\n",
              "\n",
              "  @keyframes spin {\n",
              "    0% {\n",
              "      border-color: transparent;\n",
              "      border-bottom-color: var(--fill-color);\n",
              "      border-left-color: var(--fill-color);\n",
              "    }\n",
              "    20% {\n",
              "      border-color: transparent;\n",
              "      border-left-color: var(--fill-color);\n",
              "      border-top-color: var(--fill-color);\n",
              "    }\n",
              "    30% {\n",
              "      border-color: transparent;\n",
              "      border-left-color: var(--fill-color);\n",
              "      border-top-color: var(--fill-color);\n",
              "      border-right-color: var(--fill-color);\n",
              "    }\n",
              "    40% {\n",
              "      border-color: transparent;\n",
              "      border-right-color: var(--fill-color);\n",
              "      border-top-color: var(--fill-color);\n",
              "    }\n",
              "    60% {\n",
              "      border-color: transparent;\n",
              "      border-right-color: var(--fill-color);\n",
              "    }\n",
              "    80% {\n",
              "      border-color: transparent;\n",
              "      border-right-color: var(--fill-color);\n",
              "      border-bottom-color: var(--fill-color);\n",
              "    }\n",
              "    90% {\n",
              "      border-color: transparent;\n",
              "      border-bottom-color: var(--fill-color);\n",
              "    }\n",
              "  }\n",
              "</style>\n",
              "\n",
              "  <script>\n",
              "    async function quickchart(key) {\n",
              "      const quickchartButtonEl =\n",
              "        document.querySelector('#' + key + ' button');\n",
              "      quickchartButtonEl.disabled = true;  // To prevent multiple clicks.\n",
              "      quickchartButtonEl.classList.add('colab-df-spinner');\n",
              "      try {\n",
              "        const charts = await google.colab.kernel.invokeFunction(\n",
              "            'suggestCharts', [key], {});\n",
              "      } catch (error) {\n",
              "        console.error('Error during call to suggestCharts:', error);\n",
              "      }\n",
              "      quickchartButtonEl.classList.remove('colab-df-spinner');\n",
              "      quickchartButtonEl.classList.add('colab-df-quickchart-complete');\n",
              "    }\n",
              "    (() => {\n",
              "      let quickchartButtonEl =\n",
              "        document.querySelector('#df-887dc65f-8008-4f84-a2a4-309626ce72bf button');\n",
              "      quickchartButtonEl.style.display =\n",
              "        google.colab.kernel.accessAllowed ? 'block' : 'none';\n",
              "    })();\n",
              "  </script>\n",
              "</div>\n",
              "\n",
              "  <div id=\"id_2f748ffb-a817-4500-9a91-494dd8f2393d\">\n",
              "    <style>\n",
              "      .colab-df-generate {\n",
              "        background-color: #E8F0FE;\n",
              "        border: none;\n",
              "        border-radius: 50%;\n",
              "        cursor: pointer;\n",
              "        display: none;\n",
              "        fill: #1967D2;\n",
              "        height: 32px;\n",
              "        padding: 0 0 0 0;\n",
              "        width: 32px;\n",
              "      }\n",
              "\n",
              "      .colab-df-generate:hover {\n",
              "        background-color: #E2EBFA;\n",
              "        box-shadow: 0px 1px 2px rgba(60, 64, 67, 0.3), 0px 1px 3px 1px rgba(60, 64, 67, 0.15);\n",
              "        fill: #174EA6;\n",
              "      }\n",
              "\n",
              "      [theme=dark] .colab-df-generate {\n",
              "        background-color: #3B4455;\n",
              "        fill: #D2E3FC;\n",
              "      }\n",
              "\n",
              "      [theme=dark] .colab-df-generate:hover {\n",
              "        background-color: #434B5C;\n",
              "        box-shadow: 0px 1px 3px 1px rgba(0, 0, 0, 0.15);\n",
              "        filter: drop-shadow(0px 1px 2px rgba(0, 0, 0, 0.3));\n",
              "        fill: #FFFFFF;\n",
              "      }\n",
              "    </style>\n",
              "    <button class=\"colab-df-generate\" onclick=\"generateWithVariable('df')\"\n",
              "            title=\"Generate code using this dataframe.\"\n",
              "            style=\"display:none;\">\n",
              "\n",
              "  <svg xmlns=\"http://www.w3.org/2000/svg\" height=\"24px\"viewBox=\"0 0 24 24\"\n",
              "       width=\"24px\">\n",
              "    <path d=\"M7,19H8.4L18.45,9,17,7.55,7,17.6ZM5,21V16.75L18.45,3.32a2,2,0,0,1,2.83,0l1.4,1.43a1.91,1.91,0,0,1,.58,1.4,1.91,1.91,0,0,1-.58,1.4L9.25,21ZM18.45,9,17,7.55Zm-12,3A5.31,5.31,0,0,0,4.9,8.1,5.31,5.31,0,0,0,1,6.5,5.31,5.31,0,0,0,4.9,4.9,5.31,5.31,0,0,0,6.5,1,5.31,5.31,0,0,0,8.1,4.9,5.31,5.31,0,0,0,12,6.5,5.46,5.46,0,0,0,6.5,12Z\"/>\n",
              "  </svg>\n",
              "    </button>\n",
              "    <script>\n",
              "      (() => {\n",
              "      const buttonEl =\n",
              "        document.querySelector('#id_2f748ffb-a817-4500-9a91-494dd8f2393d button.colab-df-generate');\n",
              "      buttonEl.style.display =\n",
              "        google.colab.kernel.accessAllowed ? 'block' : 'none';\n",
              "\n",
              "      buttonEl.onclick = () => {\n",
              "        google.colab.notebook.generateWithVariable('df');\n",
              "      }\n",
              "      })();\n",
              "    </script>\n",
              "  </div>\n",
              "\n",
              "    </div>\n",
              "  </div>\n"
            ],
            "application/vnd.google.colaboratory.intrinsic+json": {
              "type": "dataframe",
              "variable_name": "df",
              "summary": "{\n  \"name\": \"df\",\n  \"rows\": 2857,\n  \"fields\": [\n    {\n      \"column\": \"Code\",\n      \"properties\": {\n        \"dtype\": \"string\",\n        \"num_unique_values\": 2857,\n        \"samples\": [\n          \"122310\",\n          \"033170\",\n          \"007810\"\n        ],\n        \"semantic_type\": \"\",\n        \"description\": \"\"\n      }\n    },\n    {\n      \"column\": \"ISU_CD\",\n      \"properties\": {\n        \"dtype\": \"string\",\n        \"num_unique_values\": 2857,\n        \"samples\": [\n          \"KR7122310006\",\n          \"KR7033170002\",\n          \"KR7007810005\"\n        ],\n        \"semantic_type\": \"\",\n        \"description\": \"\"\n      }\n    },\n    {\n      \"column\": \"Name\",\n      \"properties\": {\n        \"dtype\": \"string\",\n        \"num_unique_values\": 2857,\n        \"samples\": [\n          \"\\uc81c\\ub178\\ub808\\uc774\",\n          \"\\uc2dc\\uadf8\\ub124\\ud2f1\\uc2a4\",\n          \"\\ucf54\\ub9ac\\uc544\\uc368\\ud0a4\\ud2b8\"\n        ],\n        \"semantic_type\": \"\",\n        \"description\": \"\"\n      }\n    },\n    {\n      \"column\": \"Market\",\n      \"properties\": {\n        \"dtype\": \"category\",\n        \"num_unique_values\": 4,\n        \"samples\": [\n          \"KOSDAQ GLOBAL\",\n          \"KONEX\",\n          \"KOSPI\"\n        ],\n        \"semantic_type\": \"\",\n        \"description\": \"\"\n      }\n    },\n    {\n      \"column\": \"Dept\",\n      \"properties\": {\n        \"dtype\": \"category\",\n        \"num_unique_values\": 9,\n        \"samples\": [\n          \"\\ud22c\\uc790\\uc8fc\\uc758\\ud658\\uae30\\uc885\\ubaa9(\\uc18c\\uc18d\\ubd80\\uc5c6\\uc74c)\",\n          \"\\uc6b0\\ub7c9\\uae30\\uc5c5\\ubd80\",\n          \"\\uad00\\ub9ac\\uc885\\ubaa9(\\uc18c\\uc18d\\ubd80\\uc5c6\\uc74c)\"\n        ],\n        \"semantic_type\": \"\",\n        \"description\": \"\"\n      }\n    },\n    {\n      \"column\": \"Close\",\n      \"properties\": {\n        \"dtype\": \"number\",\n        \"std\": 51041,\n        \"min\": 58,\n        \"max\": 1225000,\n        \"num_unique_values\": 1955,\n        \"samples\": [\n          1014,\n          2455,\n          2650\n        ],\n        \"semantic_type\": \"\",\n        \"description\": \"\"\n      }\n    },\n    {\n      \"column\": \"ChangeCode\",\n      \"properties\": {\n        \"dtype\": \"number\",\n        \"std\": 0,\n        \"min\": 0,\n        \"max\": 5,\n        \"num_unique_values\": 6,\n        \"samples\": [\n          1,\n          2,\n          5\n        ],\n        \"semantic_type\": \"\",\n        \"description\": \"\"\n      }\n    },\n    {\n      \"column\": \"Changes\",\n      \"properties\": {\n        \"dtype\": \"number\",\n        \"std\": 2812,\n        \"min\": -136000,\n        \"max\": 28000,\n        \"num_unique_values\": 435,\n        \"samples\": [\n          -28,\n          260,\n          160\n        ],\n        \"semantic_type\": \"\",\n        \"description\": \"\"\n      }\n    },\n    {\n      \"column\": \"ChagesRatio\",\n      \"properties\": {\n        \"dtype\": \"number\",\n        \"std\": 3.75924246644448,\n        \"min\": -39.44,\n        \"max\": 30.0,\n        \"num_unique_values\": 953,\n        \"samples\": [\n          -2.69,\n          0.05,\n          -0.54\n        ],\n        \"semantic_type\": \"\",\n        \"description\": \"\"\n      }\n    },\n    {\n      \"column\": \"Open\",\n      \"properties\": {\n        \"dtype\": \"number\",\n        \"std\": 51763,\n        \"min\": 0,\n        \"max\": 1345000,\n        \"num_unique_values\": 1921,\n        \"samples\": [\n          1753,\n          2030,\n          8100\n        ],\n        \"semantic_type\": \"\",\n        \"description\": \"\"\n      }\n    },\n    {\n      \"column\": \"High\",\n      \"properties\": {\n        \"dtype\": \"number\",\n        \"std\": 52912,\n        \"min\": 0,\n        \"max\": 1372000,\n        \"num_unique_values\": 1909,\n        \"samples\": [\n          8950,\n          33250,\n          1983\n        ],\n        \"semantic_type\": \"\",\n        \"description\": \"\"\n      }\n    },\n    {\n      \"column\": \"Low\",\n      \"properties\": {\n        \"dtype\": \"number\",\n        \"std\": 50135,\n        \"min\": 0,\n        \"max\": 1222000,\n        \"num_unique_values\": 1913,\n        \"samples\": [\n          6080,\n          16480,\n          1983\n        ],\n        \"semantic_type\": \"\",\n        \"description\": \"\"\n      }\n    },\n    {\n      \"column\": \"Volume\",\n      \"properties\": {\n        \"dtype\": \"number\",\n        \"std\": 2545209,\n        \"min\": 0,\n        \"max\": 59321102,\n        \"num_unique_values\": 2688,\n        \"samples\": [\n          751134,\n          34680,\n          2529204\n        ],\n        \"semantic_type\": \"\",\n        \"description\": \"\"\n      }\n    },\n    {\n      \"column\": \"Amount\",\n      \"properties\": {\n        \"dtype\": \"number\",\n        \"std\": 27886666751,\n        \"min\": 0,\n        \"max\": 890639761200,\n        \"num_unique_values\": 2732,\n        \"samples\": [\n          2869003270,\n          176970585,\n          32121753\n        ],\n        \"semantic_type\": \"\",\n        \"description\": \"\"\n      }\n    },\n    {\n      \"column\": \"Marcap\",\n      \"properties\": {\n        \"dtype\": \"number\",\n        \"std\": 7521198812629,\n        \"min\": 718033250,\n        \"max\": 334904801055000,\n        \"num_unique_values\": 2854,\n        \"samples\": [\n          81940000000,\n          68530770000,\n          215421249120\n        ],\n        \"semantic_type\": \"\",\n        \"description\": \"\"\n      }\n    },\n    {\n      \"column\": \"Stocks\",\n      \"properties\": {\n        \"dtype\": \"number\",\n        \"std\": 132774310,\n        \"min\": 200000,\n        \"max\": 5969782550,\n        \"num_unique_values\": 2763,\n        \"samples\": [\n          100008897,\n          108394549,\n          3800000\n        ],\n        \"semantic_type\": \"\",\n        \"description\": \"\"\n      }\n    },\n    {\n      \"column\": \"MarketId\",\n      \"properties\": {\n        \"dtype\": \"category\",\n        \"num_unique_values\": 3,\n        \"samples\": [\n          \"STK\",\n          \"KSQ\",\n          \"KNX\"\n        ],\n        \"semantic_type\": \"\",\n        \"description\": \"\"\n      }\n    }\n  ]\n}"
            }
          },
          "metadata": {},
          "execution_count": 4
        }
      ],
      "source": [
        "# 이전 강좌에서 to_csv로 저장해둔 krx.csv 파일을 pd.read_csv 로 불러옵니다.\n",
        "# krx 파일이 없다면 아래 주석을 제거하고 csv 파일을 로드해 보세요!\n",
        "df = pd.read_csv(\"https://raw.githubusercontent.com/neguri0235/finance-data-analysis/main/krx.csv\")\n",
        "df"
      ]
    },
    {
      "cell_type": "markdown",
      "metadata": {
        "id": "aMR-E5fhmTj4"
      },
      "source": [
        "### 일부 데이터만 가져오기\n",
        "\n",
        "{'회사명':'Name', '종목코드':'Symbol', '업종':'Sector', '주요제품':'Industry',\n",
        "                            '상장일':'ListingDate', '결산월':'SettleMonth',  '대표자명':'Representative',\n",
        "                            '홈페이지':'HomePage', '지역':'Region', }"
      ]
    },
    {
      "cell_type": "code",
      "execution_count": 5,
      "metadata": {
        "colab": {
          "base_uri": "https://localhost:8080/",
          "height": 206
        },
        "id": "vNMHz8_qmTj4",
        "outputId": "23a0a033-86f5-42e7-d232-ccfb21fd7a96"
      },
      "outputs": [
        {
          "output_type": "execute_result",
          "data": {
            "text/plain": [
              "     Code        ISU_CD      Name Market Dept   Close  ChangeCode  Changes  \\\n",
              "0  005930  KR7005930003      삼성전자  KOSPI  NaN   56100           1      200   \n",
              "1  000660  KR7000660001    SK하이닉스  KOSPI  NaN  175500           2     -600   \n",
              "2  373220  KR7373220003  LG에너지솔루션  KOSPI  NaN  400000           2    -4500   \n",
              "3  207940  KR7207940008  삼성바이오로직스  KOSPI  NaN  986000           1    28000   \n",
              "4  005380  KR7005380001       현대차  KOSPI  NaN  215000           1     3500   \n",
              "\n",
              "   ChagesRatio    Open    High     Low    Volume        Amount  \\\n",
              "0         0.36   55800   56300   55500  15908823  890639761200   \n",
              "1        -0.34  174400  176400  173500   3677980  643515029446   \n",
              "2        -1.11  396000  400000  389500    330114  130126551500   \n",
              "3         2.92  959000  995000  950000     76812   75296734000   \n",
              "4         1.65  212000  216000  209000    528172  112602320500   \n",
              "\n",
              "            Marcap      Stocks MarketId  \n",
              "0  334904801055000  5969782550      STK  \n",
              "1  127764415057500   728002365      STK  \n",
              "2   93600000000000   234000000      STK  \n",
              "3   70177564000000    71174000      STK  \n",
              "4   45024481065000   209416191      STK  "
            ],
            "text/html": [
              "\n",
              "  <div id=\"df-16821159-e310-4968-bb12-51dcf1f4ef11\" class=\"colab-df-container\">\n",
              "    <div>\n",
              "<style scoped>\n",
              "    .dataframe tbody tr th:only-of-type {\n",
              "        vertical-align: middle;\n",
              "    }\n",
              "\n",
              "    .dataframe tbody tr th {\n",
              "        vertical-align: top;\n",
              "    }\n",
              "\n",
              "    .dataframe thead th {\n",
              "        text-align: right;\n",
              "    }\n",
              "</style>\n",
              "<table border=\"1\" class=\"dataframe\">\n",
              "  <thead>\n",
              "    <tr style=\"text-align: right;\">\n",
              "      <th></th>\n",
              "      <th>Code</th>\n",
              "      <th>ISU_CD</th>\n",
              "      <th>Name</th>\n",
              "      <th>Market</th>\n",
              "      <th>Dept</th>\n",
              "      <th>Close</th>\n",
              "      <th>ChangeCode</th>\n",
              "      <th>Changes</th>\n",
              "      <th>ChagesRatio</th>\n",
              "      <th>Open</th>\n",
              "      <th>High</th>\n",
              "      <th>Low</th>\n",
              "      <th>Volume</th>\n",
              "      <th>Amount</th>\n",
              "      <th>Marcap</th>\n",
              "      <th>Stocks</th>\n",
              "      <th>MarketId</th>\n",
              "    </tr>\n",
              "  </thead>\n",
              "  <tbody>\n",
              "    <tr>\n",
              "      <th>0</th>\n",
              "      <td>005930</td>\n",
              "      <td>KR7005930003</td>\n",
              "      <td>삼성전자</td>\n",
              "      <td>KOSPI</td>\n",
              "      <td>NaN</td>\n",
              "      <td>56100</td>\n",
              "      <td>1</td>\n",
              "      <td>200</td>\n",
              "      <td>0.36</td>\n",
              "      <td>55800</td>\n",
              "      <td>56300</td>\n",
              "      <td>55500</td>\n",
              "      <td>15908823</td>\n",
              "      <td>890639761200</td>\n",
              "      <td>334904801055000</td>\n",
              "      <td>5969782550</td>\n",
              "      <td>STK</td>\n",
              "    </tr>\n",
              "    <tr>\n",
              "      <th>1</th>\n",
              "      <td>000660</td>\n",
              "      <td>KR7000660001</td>\n",
              "      <td>SK하이닉스</td>\n",
              "      <td>KOSPI</td>\n",
              "      <td>NaN</td>\n",
              "      <td>175500</td>\n",
              "      <td>2</td>\n",
              "      <td>-600</td>\n",
              "      <td>-0.34</td>\n",
              "      <td>174400</td>\n",
              "      <td>176400</td>\n",
              "      <td>173500</td>\n",
              "      <td>3677980</td>\n",
              "      <td>643515029446</td>\n",
              "      <td>127764415057500</td>\n",
              "      <td>728002365</td>\n",
              "      <td>STK</td>\n",
              "    </tr>\n",
              "    <tr>\n",
              "      <th>2</th>\n",
              "      <td>373220</td>\n",
              "      <td>KR7373220003</td>\n",
              "      <td>LG에너지솔루션</td>\n",
              "      <td>KOSPI</td>\n",
              "      <td>NaN</td>\n",
              "      <td>400000</td>\n",
              "      <td>2</td>\n",
              "      <td>-4500</td>\n",
              "      <td>-1.11</td>\n",
              "      <td>396000</td>\n",
              "      <td>400000</td>\n",
              "      <td>389500</td>\n",
              "      <td>330114</td>\n",
              "      <td>130126551500</td>\n",
              "      <td>93600000000000</td>\n",
              "      <td>234000000</td>\n",
              "      <td>STK</td>\n",
              "    </tr>\n",
              "    <tr>\n",
              "      <th>3</th>\n",
              "      <td>207940</td>\n",
              "      <td>KR7207940008</td>\n",
              "      <td>삼성바이오로직스</td>\n",
              "      <td>KOSPI</td>\n",
              "      <td>NaN</td>\n",
              "      <td>986000</td>\n",
              "      <td>1</td>\n",
              "      <td>28000</td>\n",
              "      <td>2.92</td>\n",
              "      <td>959000</td>\n",
              "      <td>995000</td>\n",
              "      <td>950000</td>\n",
              "      <td>76812</td>\n",
              "      <td>75296734000</td>\n",
              "      <td>70177564000000</td>\n",
              "      <td>71174000</td>\n",
              "      <td>STK</td>\n",
              "    </tr>\n",
              "    <tr>\n",
              "      <th>4</th>\n",
              "      <td>005380</td>\n",
              "      <td>KR7005380001</td>\n",
              "      <td>현대차</td>\n",
              "      <td>KOSPI</td>\n",
              "      <td>NaN</td>\n",
              "      <td>215000</td>\n",
              "      <td>1</td>\n",
              "      <td>3500</td>\n",
              "      <td>1.65</td>\n",
              "      <td>212000</td>\n",
              "      <td>216000</td>\n",
              "      <td>209000</td>\n",
              "      <td>528172</td>\n",
              "      <td>112602320500</td>\n",
              "      <td>45024481065000</td>\n",
              "      <td>209416191</td>\n",
              "      <td>STK</td>\n",
              "    </tr>\n",
              "  </tbody>\n",
              "</table>\n",
              "</div>\n",
              "    <div class=\"colab-df-buttons\">\n",
              "\n",
              "  <div class=\"colab-df-container\">\n",
              "    <button class=\"colab-df-convert\" onclick=\"convertToInteractive('df-16821159-e310-4968-bb12-51dcf1f4ef11')\"\n",
              "            title=\"Convert this dataframe to an interactive table.\"\n",
              "            style=\"display:none;\">\n",
              "\n",
              "  <svg xmlns=\"http://www.w3.org/2000/svg\" height=\"24px\" viewBox=\"0 -960 960 960\">\n",
              "    <path d=\"M120-120v-720h720v720H120Zm60-500h600v-160H180v160Zm220 220h160v-160H400v160Zm0 220h160v-160H400v160ZM180-400h160v-160H180v160Zm440 0h160v-160H620v160ZM180-180h160v-160H180v160Zm440 0h160v-160H620v160Z\"/>\n",
              "  </svg>\n",
              "    </button>\n",
              "\n",
              "  <style>\n",
              "    .colab-df-container {\n",
              "      display:flex;\n",
              "      gap: 12px;\n",
              "    }\n",
              "\n",
              "    .colab-df-convert {\n",
              "      background-color: #E8F0FE;\n",
              "      border: none;\n",
              "      border-radius: 50%;\n",
              "      cursor: pointer;\n",
              "      display: none;\n",
              "      fill: #1967D2;\n",
              "      height: 32px;\n",
              "      padding: 0 0 0 0;\n",
              "      width: 32px;\n",
              "    }\n",
              "\n",
              "    .colab-df-convert:hover {\n",
              "      background-color: #E2EBFA;\n",
              "      box-shadow: 0px 1px 2px rgba(60, 64, 67, 0.3), 0px 1px 3px 1px rgba(60, 64, 67, 0.15);\n",
              "      fill: #174EA6;\n",
              "    }\n",
              "\n",
              "    .colab-df-buttons div {\n",
              "      margin-bottom: 4px;\n",
              "    }\n",
              "\n",
              "    [theme=dark] .colab-df-convert {\n",
              "      background-color: #3B4455;\n",
              "      fill: #D2E3FC;\n",
              "    }\n",
              "\n",
              "    [theme=dark] .colab-df-convert:hover {\n",
              "      background-color: #434B5C;\n",
              "      box-shadow: 0px 1px 3px 1px rgba(0, 0, 0, 0.15);\n",
              "      filter: drop-shadow(0px 1px 2px rgba(0, 0, 0, 0.3));\n",
              "      fill: #FFFFFF;\n",
              "    }\n",
              "  </style>\n",
              "\n",
              "    <script>\n",
              "      const buttonEl =\n",
              "        document.querySelector('#df-16821159-e310-4968-bb12-51dcf1f4ef11 button.colab-df-convert');\n",
              "      buttonEl.style.display =\n",
              "        google.colab.kernel.accessAllowed ? 'block' : 'none';\n",
              "\n",
              "      async function convertToInteractive(key) {\n",
              "        const element = document.querySelector('#df-16821159-e310-4968-bb12-51dcf1f4ef11');\n",
              "        const dataTable =\n",
              "          await google.colab.kernel.invokeFunction('convertToInteractive',\n",
              "                                                    [key], {});\n",
              "        if (!dataTable) return;\n",
              "\n",
              "        const docLinkHtml = 'Like what you see? Visit the ' +\n",
              "          '<a target=\"_blank\" href=https://colab.research.google.com/notebooks/data_table.ipynb>data table notebook</a>'\n",
              "          + ' to learn more about interactive tables.';\n",
              "        element.innerHTML = '';\n",
              "        dataTable['output_type'] = 'display_data';\n",
              "        await google.colab.output.renderOutput(dataTable, element);\n",
              "        const docLink = document.createElement('div');\n",
              "        docLink.innerHTML = docLinkHtml;\n",
              "        element.appendChild(docLink);\n",
              "      }\n",
              "    </script>\n",
              "  </div>\n",
              "\n",
              "\n",
              "<div id=\"df-c66bc09b-737c-4747-bb4d-c25a6b30f85b\">\n",
              "  <button class=\"colab-df-quickchart\" onclick=\"quickchart('df-c66bc09b-737c-4747-bb4d-c25a6b30f85b')\"\n",
              "            title=\"Suggest charts\"\n",
              "            style=\"display:none;\">\n",
              "\n",
              "<svg xmlns=\"http://www.w3.org/2000/svg\" height=\"24px\"viewBox=\"0 0 24 24\"\n",
              "     width=\"24px\">\n",
              "    <g>\n",
              "        <path d=\"M19 3H5c-1.1 0-2 .9-2 2v14c0 1.1.9 2 2 2h14c1.1 0 2-.9 2-2V5c0-1.1-.9-2-2-2zM9 17H7v-7h2v7zm4 0h-2V7h2v10zm4 0h-2v-4h2v4z\"/>\n",
              "    </g>\n",
              "</svg>\n",
              "  </button>\n",
              "\n",
              "<style>\n",
              "  .colab-df-quickchart {\n",
              "      --bg-color: #E8F0FE;\n",
              "      --fill-color: #1967D2;\n",
              "      --hover-bg-color: #E2EBFA;\n",
              "      --hover-fill-color: #174EA6;\n",
              "      --disabled-fill-color: #AAA;\n",
              "      --disabled-bg-color: #DDD;\n",
              "  }\n",
              "\n",
              "  [theme=dark] .colab-df-quickchart {\n",
              "      --bg-color: #3B4455;\n",
              "      --fill-color: #D2E3FC;\n",
              "      --hover-bg-color: #434B5C;\n",
              "      --hover-fill-color: #FFFFFF;\n",
              "      --disabled-bg-color: #3B4455;\n",
              "      --disabled-fill-color: #666;\n",
              "  }\n",
              "\n",
              "  .colab-df-quickchart {\n",
              "    background-color: var(--bg-color);\n",
              "    border: none;\n",
              "    border-radius: 50%;\n",
              "    cursor: pointer;\n",
              "    display: none;\n",
              "    fill: var(--fill-color);\n",
              "    height: 32px;\n",
              "    padding: 0;\n",
              "    width: 32px;\n",
              "  }\n",
              "\n",
              "  .colab-df-quickchart:hover {\n",
              "    background-color: var(--hover-bg-color);\n",
              "    box-shadow: 0 1px 2px rgba(60, 64, 67, 0.3), 0 1px 3px 1px rgba(60, 64, 67, 0.15);\n",
              "    fill: var(--button-hover-fill-color);\n",
              "  }\n",
              "\n",
              "  .colab-df-quickchart-complete:disabled,\n",
              "  .colab-df-quickchart-complete:disabled:hover {\n",
              "    background-color: var(--disabled-bg-color);\n",
              "    fill: var(--disabled-fill-color);\n",
              "    box-shadow: none;\n",
              "  }\n",
              "\n",
              "  .colab-df-spinner {\n",
              "    border: 2px solid var(--fill-color);\n",
              "    border-color: transparent;\n",
              "    border-bottom-color: var(--fill-color);\n",
              "    animation:\n",
              "      spin 1s steps(1) infinite;\n",
              "  }\n",
              "\n",
              "  @keyframes spin {\n",
              "    0% {\n",
              "      border-color: transparent;\n",
              "      border-bottom-color: var(--fill-color);\n",
              "      border-left-color: var(--fill-color);\n",
              "    }\n",
              "    20% {\n",
              "      border-color: transparent;\n",
              "      border-left-color: var(--fill-color);\n",
              "      border-top-color: var(--fill-color);\n",
              "    }\n",
              "    30% {\n",
              "      border-color: transparent;\n",
              "      border-left-color: var(--fill-color);\n",
              "      border-top-color: var(--fill-color);\n",
              "      border-right-color: var(--fill-color);\n",
              "    }\n",
              "    40% {\n",
              "      border-color: transparent;\n",
              "      border-right-color: var(--fill-color);\n",
              "      border-top-color: var(--fill-color);\n",
              "    }\n",
              "    60% {\n",
              "      border-color: transparent;\n",
              "      border-right-color: var(--fill-color);\n",
              "    }\n",
              "    80% {\n",
              "      border-color: transparent;\n",
              "      border-right-color: var(--fill-color);\n",
              "      border-bottom-color: var(--fill-color);\n",
              "    }\n",
              "    90% {\n",
              "      border-color: transparent;\n",
              "      border-bottom-color: var(--fill-color);\n",
              "    }\n",
              "  }\n",
              "</style>\n",
              "\n",
              "  <script>\n",
              "    async function quickchart(key) {\n",
              "      const quickchartButtonEl =\n",
              "        document.querySelector('#' + key + ' button');\n",
              "      quickchartButtonEl.disabled = true;  // To prevent multiple clicks.\n",
              "      quickchartButtonEl.classList.add('colab-df-spinner');\n",
              "      try {\n",
              "        const charts = await google.colab.kernel.invokeFunction(\n",
              "            'suggestCharts', [key], {});\n",
              "      } catch (error) {\n",
              "        console.error('Error during call to suggestCharts:', error);\n",
              "      }\n",
              "      quickchartButtonEl.classList.remove('colab-df-spinner');\n",
              "      quickchartButtonEl.classList.add('colab-df-quickchart-complete');\n",
              "    }\n",
              "    (() => {\n",
              "      let quickchartButtonEl =\n",
              "        document.querySelector('#df-c66bc09b-737c-4747-bb4d-c25a6b30f85b button');\n",
              "      quickchartButtonEl.style.display =\n",
              "        google.colab.kernel.accessAllowed ? 'block' : 'none';\n",
              "    })();\n",
              "  </script>\n",
              "</div>\n",
              "\n",
              "    </div>\n",
              "  </div>\n"
            ],
            "application/vnd.google.colaboratory.intrinsic+json": {
              "type": "dataframe",
              "variable_name": "df",
              "summary": "{\n  \"name\": \"df\",\n  \"rows\": 2857,\n  \"fields\": [\n    {\n      \"column\": \"Code\",\n      \"properties\": {\n        \"dtype\": \"string\",\n        \"num_unique_values\": 2857,\n        \"samples\": [\n          \"122310\",\n          \"033170\",\n          \"007810\"\n        ],\n        \"semantic_type\": \"\",\n        \"description\": \"\"\n      }\n    },\n    {\n      \"column\": \"ISU_CD\",\n      \"properties\": {\n        \"dtype\": \"string\",\n        \"num_unique_values\": 2857,\n        \"samples\": [\n          \"KR7122310006\",\n          \"KR7033170002\",\n          \"KR7007810005\"\n        ],\n        \"semantic_type\": \"\",\n        \"description\": \"\"\n      }\n    },\n    {\n      \"column\": \"Name\",\n      \"properties\": {\n        \"dtype\": \"string\",\n        \"num_unique_values\": 2857,\n        \"samples\": [\n          \"\\uc81c\\ub178\\ub808\\uc774\",\n          \"\\uc2dc\\uadf8\\ub124\\ud2f1\\uc2a4\",\n          \"\\ucf54\\ub9ac\\uc544\\uc368\\ud0a4\\ud2b8\"\n        ],\n        \"semantic_type\": \"\",\n        \"description\": \"\"\n      }\n    },\n    {\n      \"column\": \"Market\",\n      \"properties\": {\n        \"dtype\": \"category\",\n        \"num_unique_values\": 4,\n        \"samples\": [\n          \"KOSDAQ GLOBAL\",\n          \"KONEX\",\n          \"KOSPI\"\n        ],\n        \"semantic_type\": \"\",\n        \"description\": \"\"\n      }\n    },\n    {\n      \"column\": \"Dept\",\n      \"properties\": {\n        \"dtype\": \"category\",\n        \"num_unique_values\": 9,\n        \"samples\": [\n          \"\\ud22c\\uc790\\uc8fc\\uc758\\ud658\\uae30\\uc885\\ubaa9(\\uc18c\\uc18d\\ubd80\\uc5c6\\uc74c)\",\n          \"\\uc6b0\\ub7c9\\uae30\\uc5c5\\ubd80\",\n          \"\\uad00\\ub9ac\\uc885\\ubaa9(\\uc18c\\uc18d\\ubd80\\uc5c6\\uc74c)\"\n        ],\n        \"semantic_type\": \"\",\n        \"description\": \"\"\n      }\n    },\n    {\n      \"column\": \"Close\",\n      \"properties\": {\n        \"dtype\": \"number\",\n        \"std\": 51041,\n        \"min\": 58,\n        \"max\": 1225000,\n        \"num_unique_values\": 1955,\n        \"samples\": [\n          1014,\n          2455,\n          2650\n        ],\n        \"semantic_type\": \"\",\n        \"description\": \"\"\n      }\n    },\n    {\n      \"column\": \"ChangeCode\",\n      \"properties\": {\n        \"dtype\": \"number\",\n        \"std\": 0,\n        \"min\": 0,\n        \"max\": 5,\n        \"num_unique_values\": 6,\n        \"samples\": [\n          1,\n          2,\n          5\n        ],\n        \"semantic_type\": \"\",\n        \"description\": \"\"\n      }\n    },\n    {\n      \"column\": \"Changes\",\n      \"properties\": {\n        \"dtype\": \"number\",\n        \"std\": 2812,\n        \"min\": -136000,\n        \"max\": 28000,\n        \"num_unique_values\": 435,\n        \"samples\": [\n          -28,\n          260,\n          160\n        ],\n        \"semantic_type\": \"\",\n        \"description\": \"\"\n      }\n    },\n    {\n      \"column\": \"ChagesRatio\",\n      \"properties\": {\n        \"dtype\": \"number\",\n        \"std\": 3.75924246644448,\n        \"min\": -39.44,\n        \"max\": 30.0,\n        \"num_unique_values\": 953,\n        \"samples\": [\n          -2.69,\n          0.05,\n          -0.54\n        ],\n        \"semantic_type\": \"\",\n        \"description\": \"\"\n      }\n    },\n    {\n      \"column\": \"Open\",\n      \"properties\": {\n        \"dtype\": \"number\",\n        \"std\": 51763,\n        \"min\": 0,\n        \"max\": 1345000,\n        \"num_unique_values\": 1921,\n        \"samples\": [\n          1753,\n          2030,\n          8100\n        ],\n        \"semantic_type\": \"\",\n        \"description\": \"\"\n      }\n    },\n    {\n      \"column\": \"High\",\n      \"properties\": {\n        \"dtype\": \"number\",\n        \"std\": 52912,\n        \"min\": 0,\n        \"max\": 1372000,\n        \"num_unique_values\": 1909,\n        \"samples\": [\n          8950,\n          33250,\n          1983\n        ],\n        \"semantic_type\": \"\",\n        \"description\": \"\"\n      }\n    },\n    {\n      \"column\": \"Low\",\n      \"properties\": {\n        \"dtype\": \"number\",\n        \"std\": 50135,\n        \"min\": 0,\n        \"max\": 1222000,\n        \"num_unique_values\": 1913,\n        \"samples\": [\n          6080,\n          16480,\n          1983\n        ],\n        \"semantic_type\": \"\",\n        \"description\": \"\"\n      }\n    },\n    {\n      \"column\": \"Volume\",\n      \"properties\": {\n        \"dtype\": \"number\",\n        \"std\": 2545209,\n        \"min\": 0,\n        \"max\": 59321102,\n        \"num_unique_values\": 2688,\n        \"samples\": [\n          751134,\n          34680,\n          2529204\n        ],\n        \"semantic_type\": \"\",\n        \"description\": \"\"\n      }\n    },\n    {\n      \"column\": \"Amount\",\n      \"properties\": {\n        \"dtype\": \"number\",\n        \"std\": 27886666751,\n        \"min\": 0,\n        \"max\": 890639761200,\n        \"num_unique_values\": 2732,\n        \"samples\": [\n          2869003270,\n          176970585,\n          32121753\n        ],\n        \"semantic_type\": \"\",\n        \"description\": \"\"\n      }\n    },\n    {\n      \"column\": \"Marcap\",\n      \"properties\": {\n        \"dtype\": \"number\",\n        \"std\": 7521198812629,\n        \"min\": 718033250,\n        \"max\": 334904801055000,\n        \"num_unique_values\": 2854,\n        \"samples\": [\n          81940000000,\n          68530770000,\n          215421249120\n        ],\n        \"semantic_type\": \"\",\n        \"description\": \"\"\n      }\n    },\n    {\n      \"column\": \"Stocks\",\n      \"properties\": {\n        \"dtype\": \"number\",\n        \"std\": 132774310,\n        \"min\": 200000,\n        \"max\": 5969782550,\n        \"num_unique_values\": 2763,\n        \"samples\": [\n          100008897,\n          108394549,\n          3800000\n        ],\n        \"semantic_type\": \"\",\n        \"description\": \"\"\n      }\n    },\n    {\n      \"column\": \"MarketId\",\n      \"properties\": {\n        \"dtype\": \"category\",\n        \"num_unique_values\": 3,\n        \"samples\": [\n          \"STK\",\n          \"KSQ\",\n          \"KNX\"\n        ],\n        \"semantic_type\": \"\",\n        \"description\": \"\"\n      }\n    }\n  ]\n}"
            }
          },
          "metadata": {},
          "execution_count": 5
        }
      ],
      "source": [
        "# head 로 위에 있는 데이터 일부만 가져옵니다.\n",
        "df.head()"
      ]
    },
    {
      "cell_type": "code",
      "execution_count": 6,
      "metadata": {
        "colab": {
          "base_uri": "https://localhost:8080/",
          "height": 206
        },
        "id": "OYfVfSiImTj4",
        "outputId": "4f4db197-4844-4ddc-ebdc-920a969796b5"
      },
      "outputs": [
        {
          "output_type": "execute_result",
          "data": {
            "text/plain": [
              "        Code        ISU_CD     Name Market   Dept  Close  ChangeCode  Changes  \\\n",
              "2852  215570  KR7215570003     크로넥스  KONEX  일반기업부    439           1       49   \n",
              "2853  245450  KR7245450002   씨앤에스링크  KONEX  일반기업부   1299           2     -101   \n",
              "2854  288490  KR7288490006    나라소프트  KONEX  일반기업부     58           2       -3   \n",
              "2855  308700  KR7308700004      테크엔  KONEX  일반기업부    199           0        0   \n",
              "2856  413300  KR7413300005  티엘엔지니어링  KONEX  일반기업부    550           2      -50   \n",
              "\n",
              "      ChagesRatio  Open  High   Low  Volume   Amount      Marcap    Stocks  \\\n",
              "2852        12.56   400   448   332    1200   502912  2229267023   5078057   \n",
              "2853        -7.21  1400  1400  1200      12    14699  2052368040   1579960   \n",
              "2854        -4.92    61    61    52  118428  6447141  1013351466  17471577   \n",
              "2855         0.00     0     0     0       0        0   796000000   4000000   \n",
              "2856        -8.33   589   590   550       3     1729   718033250   1305515   \n",
              "\n",
              "     MarketId  \n",
              "2852      KNX  \n",
              "2853      KNX  \n",
              "2854      KNX  \n",
              "2855      KNX  \n",
              "2856      KNX  "
            ],
            "text/html": [
              "\n",
              "  <div id=\"df-ac77a08a-939d-439d-b31d-4af34a50c967\" class=\"colab-df-container\">\n",
              "    <div>\n",
              "<style scoped>\n",
              "    .dataframe tbody tr th:only-of-type {\n",
              "        vertical-align: middle;\n",
              "    }\n",
              "\n",
              "    .dataframe tbody tr th {\n",
              "        vertical-align: top;\n",
              "    }\n",
              "\n",
              "    .dataframe thead th {\n",
              "        text-align: right;\n",
              "    }\n",
              "</style>\n",
              "<table border=\"1\" class=\"dataframe\">\n",
              "  <thead>\n",
              "    <tr style=\"text-align: right;\">\n",
              "      <th></th>\n",
              "      <th>Code</th>\n",
              "      <th>ISU_CD</th>\n",
              "      <th>Name</th>\n",
              "      <th>Market</th>\n",
              "      <th>Dept</th>\n",
              "      <th>Close</th>\n",
              "      <th>ChangeCode</th>\n",
              "      <th>Changes</th>\n",
              "      <th>ChagesRatio</th>\n",
              "      <th>Open</th>\n",
              "      <th>High</th>\n",
              "      <th>Low</th>\n",
              "      <th>Volume</th>\n",
              "      <th>Amount</th>\n",
              "      <th>Marcap</th>\n",
              "      <th>Stocks</th>\n",
              "      <th>MarketId</th>\n",
              "    </tr>\n",
              "  </thead>\n",
              "  <tbody>\n",
              "    <tr>\n",
              "      <th>2852</th>\n",
              "      <td>215570</td>\n",
              "      <td>KR7215570003</td>\n",
              "      <td>크로넥스</td>\n",
              "      <td>KONEX</td>\n",
              "      <td>일반기업부</td>\n",
              "      <td>439</td>\n",
              "      <td>1</td>\n",
              "      <td>49</td>\n",
              "      <td>12.56</td>\n",
              "      <td>400</td>\n",
              "      <td>448</td>\n",
              "      <td>332</td>\n",
              "      <td>1200</td>\n",
              "      <td>502912</td>\n",
              "      <td>2229267023</td>\n",
              "      <td>5078057</td>\n",
              "      <td>KNX</td>\n",
              "    </tr>\n",
              "    <tr>\n",
              "      <th>2853</th>\n",
              "      <td>245450</td>\n",
              "      <td>KR7245450002</td>\n",
              "      <td>씨앤에스링크</td>\n",
              "      <td>KONEX</td>\n",
              "      <td>일반기업부</td>\n",
              "      <td>1299</td>\n",
              "      <td>2</td>\n",
              "      <td>-101</td>\n",
              "      <td>-7.21</td>\n",
              "      <td>1400</td>\n",
              "      <td>1400</td>\n",
              "      <td>1200</td>\n",
              "      <td>12</td>\n",
              "      <td>14699</td>\n",
              "      <td>2052368040</td>\n",
              "      <td>1579960</td>\n",
              "      <td>KNX</td>\n",
              "    </tr>\n",
              "    <tr>\n",
              "      <th>2854</th>\n",
              "      <td>288490</td>\n",
              "      <td>KR7288490006</td>\n",
              "      <td>나라소프트</td>\n",
              "      <td>KONEX</td>\n",
              "      <td>일반기업부</td>\n",
              "      <td>58</td>\n",
              "      <td>2</td>\n",
              "      <td>-3</td>\n",
              "      <td>-4.92</td>\n",
              "      <td>61</td>\n",
              "      <td>61</td>\n",
              "      <td>52</td>\n",
              "      <td>118428</td>\n",
              "      <td>6447141</td>\n",
              "      <td>1013351466</td>\n",
              "      <td>17471577</td>\n",
              "      <td>KNX</td>\n",
              "    </tr>\n",
              "    <tr>\n",
              "      <th>2855</th>\n",
              "      <td>308700</td>\n",
              "      <td>KR7308700004</td>\n",
              "      <td>테크엔</td>\n",
              "      <td>KONEX</td>\n",
              "      <td>일반기업부</td>\n",
              "      <td>199</td>\n",
              "      <td>0</td>\n",
              "      <td>0</td>\n",
              "      <td>0.00</td>\n",
              "      <td>0</td>\n",
              "      <td>0</td>\n",
              "      <td>0</td>\n",
              "      <td>0</td>\n",
              "      <td>0</td>\n",
              "      <td>796000000</td>\n",
              "      <td>4000000</td>\n",
              "      <td>KNX</td>\n",
              "    </tr>\n",
              "    <tr>\n",
              "      <th>2856</th>\n",
              "      <td>413300</td>\n",
              "      <td>KR7413300005</td>\n",
              "      <td>티엘엔지니어링</td>\n",
              "      <td>KONEX</td>\n",
              "      <td>일반기업부</td>\n",
              "      <td>550</td>\n",
              "      <td>2</td>\n",
              "      <td>-50</td>\n",
              "      <td>-8.33</td>\n",
              "      <td>589</td>\n",
              "      <td>590</td>\n",
              "      <td>550</td>\n",
              "      <td>3</td>\n",
              "      <td>1729</td>\n",
              "      <td>718033250</td>\n",
              "      <td>1305515</td>\n",
              "      <td>KNX</td>\n",
              "    </tr>\n",
              "  </tbody>\n",
              "</table>\n",
              "</div>\n",
              "    <div class=\"colab-df-buttons\">\n",
              "\n",
              "  <div class=\"colab-df-container\">\n",
              "    <button class=\"colab-df-convert\" onclick=\"convertToInteractive('df-ac77a08a-939d-439d-b31d-4af34a50c967')\"\n",
              "            title=\"Convert this dataframe to an interactive table.\"\n",
              "            style=\"display:none;\">\n",
              "\n",
              "  <svg xmlns=\"http://www.w3.org/2000/svg\" height=\"24px\" viewBox=\"0 -960 960 960\">\n",
              "    <path d=\"M120-120v-720h720v720H120Zm60-500h600v-160H180v160Zm220 220h160v-160H400v160Zm0 220h160v-160H400v160ZM180-400h160v-160H180v160Zm440 0h160v-160H620v160ZM180-180h160v-160H180v160Zm440 0h160v-160H620v160Z\"/>\n",
              "  </svg>\n",
              "    </button>\n",
              "\n",
              "  <style>\n",
              "    .colab-df-container {\n",
              "      display:flex;\n",
              "      gap: 12px;\n",
              "    }\n",
              "\n",
              "    .colab-df-convert {\n",
              "      background-color: #E8F0FE;\n",
              "      border: none;\n",
              "      border-radius: 50%;\n",
              "      cursor: pointer;\n",
              "      display: none;\n",
              "      fill: #1967D2;\n",
              "      height: 32px;\n",
              "      padding: 0 0 0 0;\n",
              "      width: 32px;\n",
              "    }\n",
              "\n",
              "    .colab-df-convert:hover {\n",
              "      background-color: #E2EBFA;\n",
              "      box-shadow: 0px 1px 2px rgba(60, 64, 67, 0.3), 0px 1px 3px 1px rgba(60, 64, 67, 0.15);\n",
              "      fill: #174EA6;\n",
              "    }\n",
              "\n",
              "    .colab-df-buttons div {\n",
              "      margin-bottom: 4px;\n",
              "    }\n",
              "\n",
              "    [theme=dark] .colab-df-convert {\n",
              "      background-color: #3B4455;\n",
              "      fill: #D2E3FC;\n",
              "    }\n",
              "\n",
              "    [theme=dark] .colab-df-convert:hover {\n",
              "      background-color: #434B5C;\n",
              "      box-shadow: 0px 1px 3px 1px rgba(0, 0, 0, 0.15);\n",
              "      filter: drop-shadow(0px 1px 2px rgba(0, 0, 0, 0.3));\n",
              "      fill: #FFFFFF;\n",
              "    }\n",
              "  </style>\n",
              "\n",
              "    <script>\n",
              "      const buttonEl =\n",
              "        document.querySelector('#df-ac77a08a-939d-439d-b31d-4af34a50c967 button.colab-df-convert');\n",
              "      buttonEl.style.display =\n",
              "        google.colab.kernel.accessAllowed ? 'block' : 'none';\n",
              "\n",
              "      async function convertToInteractive(key) {\n",
              "        const element = document.querySelector('#df-ac77a08a-939d-439d-b31d-4af34a50c967');\n",
              "        const dataTable =\n",
              "          await google.colab.kernel.invokeFunction('convertToInteractive',\n",
              "                                                    [key], {});\n",
              "        if (!dataTable) return;\n",
              "\n",
              "        const docLinkHtml = 'Like what you see? Visit the ' +\n",
              "          '<a target=\"_blank\" href=https://colab.research.google.com/notebooks/data_table.ipynb>data table notebook</a>'\n",
              "          + ' to learn more about interactive tables.';\n",
              "        element.innerHTML = '';\n",
              "        dataTable['output_type'] = 'display_data';\n",
              "        await google.colab.output.renderOutput(dataTable, element);\n",
              "        const docLink = document.createElement('div');\n",
              "        docLink.innerHTML = docLinkHtml;\n",
              "        element.appendChild(docLink);\n",
              "      }\n",
              "    </script>\n",
              "  </div>\n",
              "\n",
              "\n",
              "<div id=\"df-a95cb328-eb5b-4e88-8d63-f1cef15967dc\">\n",
              "  <button class=\"colab-df-quickchart\" onclick=\"quickchart('df-a95cb328-eb5b-4e88-8d63-f1cef15967dc')\"\n",
              "            title=\"Suggest charts\"\n",
              "            style=\"display:none;\">\n",
              "\n",
              "<svg xmlns=\"http://www.w3.org/2000/svg\" height=\"24px\"viewBox=\"0 0 24 24\"\n",
              "     width=\"24px\">\n",
              "    <g>\n",
              "        <path d=\"M19 3H5c-1.1 0-2 .9-2 2v14c0 1.1.9 2 2 2h14c1.1 0 2-.9 2-2V5c0-1.1-.9-2-2-2zM9 17H7v-7h2v7zm4 0h-2V7h2v10zm4 0h-2v-4h2v4z\"/>\n",
              "    </g>\n",
              "</svg>\n",
              "  </button>\n",
              "\n",
              "<style>\n",
              "  .colab-df-quickchart {\n",
              "      --bg-color: #E8F0FE;\n",
              "      --fill-color: #1967D2;\n",
              "      --hover-bg-color: #E2EBFA;\n",
              "      --hover-fill-color: #174EA6;\n",
              "      --disabled-fill-color: #AAA;\n",
              "      --disabled-bg-color: #DDD;\n",
              "  }\n",
              "\n",
              "  [theme=dark] .colab-df-quickchart {\n",
              "      --bg-color: #3B4455;\n",
              "      --fill-color: #D2E3FC;\n",
              "      --hover-bg-color: #434B5C;\n",
              "      --hover-fill-color: #FFFFFF;\n",
              "      --disabled-bg-color: #3B4455;\n",
              "      --disabled-fill-color: #666;\n",
              "  }\n",
              "\n",
              "  .colab-df-quickchart {\n",
              "    background-color: var(--bg-color);\n",
              "    border: none;\n",
              "    border-radius: 50%;\n",
              "    cursor: pointer;\n",
              "    display: none;\n",
              "    fill: var(--fill-color);\n",
              "    height: 32px;\n",
              "    padding: 0;\n",
              "    width: 32px;\n",
              "  }\n",
              "\n",
              "  .colab-df-quickchart:hover {\n",
              "    background-color: var(--hover-bg-color);\n",
              "    box-shadow: 0 1px 2px rgba(60, 64, 67, 0.3), 0 1px 3px 1px rgba(60, 64, 67, 0.15);\n",
              "    fill: var(--button-hover-fill-color);\n",
              "  }\n",
              "\n",
              "  .colab-df-quickchart-complete:disabled,\n",
              "  .colab-df-quickchart-complete:disabled:hover {\n",
              "    background-color: var(--disabled-bg-color);\n",
              "    fill: var(--disabled-fill-color);\n",
              "    box-shadow: none;\n",
              "  }\n",
              "\n",
              "  .colab-df-spinner {\n",
              "    border: 2px solid var(--fill-color);\n",
              "    border-color: transparent;\n",
              "    border-bottom-color: var(--fill-color);\n",
              "    animation:\n",
              "      spin 1s steps(1) infinite;\n",
              "  }\n",
              "\n",
              "  @keyframes spin {\n",
              "    0% {\n",
              "      border-color: transparent;\n",
              "      border-bottom-color: var(--fill-color);\n",
              "      border-left-color: var(--fill-color);\n",
              "    }\n",
              "    20% {\n",
              "      border-color: transparent;\n",
              "      border-left-color: var(--fill-color);\n",
              "      border-top-color: var(--fill-color);\n",
              "    }\n",
              "    30% {\n",
              "      border-color: transparent;\n",
              "      border-left-color: var(--fill-color);\n",
              "      border-top-color: var(--fill-color);\n",
              "      border-right-color: var(--fill-color);\n",
              "    }\n",
              "    40% {\n",
              "      border-color: transparent;\n",
              "      border-right-color: var(--fill-color);\n",
              "      border-top-color: var(--fill-color);\n",
              "    }\n",
              "    60% {\n",
              "      border-color: transparent;\n",
              "      border-right-color: var(--fill-color);\n",
              "    }\n",
              "    80% {\n",
              "      border-color: transparent;\n",
              "      border-right-color: var(--fill-color);\n",
              "      border-bottom-color: var(--fill-color);\n",
              "    }\n",
              "    90% {\n",
              "      border-color: transparent;\n",
              "      border-bottom-color: var(--fill-color);\n",
              "    }\n",
              "  }\n",
              "</style>\n",
              "\n",
              "  <script>\n",
              "    async function quickchart(key) {\n",
              "      const quickchartButtonEl =\n",
              "        document.querySelector('#' + key + ' button');\n",
              "      quickchartButtonEl.disabled = true;  // To prevent multiple clicks.\n",
              "      quickchartButtonEl.classList.add('colab-df-spinner');\n",
              "      try {\n",
              "        const charts = await google.colab.kernel.invokeFunction(\n",
              "            'suggestCharts', [key], {});\n",
              "      } catch (error) {\n",
              "        console.error('Error during call to suggestCharts:', error);\n",
              "      }\n",
              "      quickchartButtonEl.classList.remove('colab-df-spinner');\n",
              "      quickchartButtonEl.classList.add('colab-df-quickchart-complete');\n",
              "    }\n",
              "    (() => {\n",
              "      let quickchartButtonEl =\n",
              "        document.querySelector('#df-a95cb328-eb5b-4e88-8d63-f1cef15967dc button');\n",
              "      quickchartButtonEl.style.display =\n",
              "        google.colab.kernel.accessAllowed ? 'block' : 'none';\n",
              "    })();\n",
              "  </script>\n",
              "</div>\n",
              "\n",
              "    </div>\n",
              "  </div>\n"
            ],
            "application/vnd.google.colaboratory.intrinsic+json": {
              "type": "dataframe",
              "summary": "{\n  \"name\": \"df\",\n  \"rows\": 5,\n  \"fields\": [\n    {\n      \"column\": \"Code\",\n      \"properties\": {\n        \"dtype\": \"string\",\n        \"num_unique_values\": 5,\n        \"samples\": [\n          \"245450\",\n          \"413300\",\n          \"288490\"\n        ],\n        \"semantic_type\": \"\",\n        \"description\": \"\"\n      }\n    },\n    {\n      \"column\": \"ISU_CD\",\n      \"properties\": {\n        \"dtype\": \"string\",\n        \"num_unique_values\": 5,\n        \"samples\": [\n          \"KR7245450002\",\n          \"KR7413300005\",\n          \"KR7288490006\"\n        ],\n        \"semantic_type\": \"\",\n        \"description\": \"\"\n      }\n    },\n    {\n      \"column\": \"Name\",\n      \"properties\": {\n        \"dtype\": \"string\",\n        \"num_unique_values\": 5,\n        \"samples\": [\n          \"\\uc528\\uc564\\uc5d0\\uc2a4\\ub9c1\\ud06c\",\n          \"\\ud2f0\\uc5d8\\uc5d4\\uc9c0\\ub2c8\\uc5b4\\ub9c1\",\n          \"\\ub098\\ub77c\\uc18c\\ud504\\ud2b8\"\n        ],\n        \"semantic_type\": \"\",\n        \"description\": \"\"\n      }\n    },\n    {\n      \"column\": \"Market\",\n      \"properties\": {\n        \"dtype\": \"category\",\n        \"num_unique_values\": 1,\n        \"samples\": [\n          \"KONEX\"\n        ],\n        \"semantic_type\": \"\",\n        \"description\": \"\"\n      }\n    },\n    {\n      \"column\": \"Dept\",\n      \"properties\": {\n        \"dtype\": \"category\",\n        \"num_unique_values\": 1,\n        \"samples\": [\n          \"\\uc77c\\ubc18\\uae30\\uc5c5\\ubd80\"\n        ],\n        \"semantic_type\": \"\",\n        \"description\": \"\"\n      }\n    },\n    {\n      \"column\": \"Close\",\n      \"properties\": {\n        \"dtype\": \"number\",\n        \"std\": 482,\n        \"min\": 58,\n        \"max\": 1299,\n        \"num_unique_values\": 5,\n        \"samples\": [\n          1299\n        ],\n        \"semantic_type\": \"\",\n        \"description\": \"\"\n      }\n    },\n    {\n      \"column\": \"ChangeCode\",\n      \"properties\": {\n        \"dtype\": \"number\",\n        \"std\": 0,\n        \"min\": 0,\n        \"max\": 2,\n        \"num_unique_values\": 3,\n        \"samples\": [\n          1\n        ],\n        \"semantic_type\": \"\",\n        \"description\": \"\"\n      }\n    },\n    {\n      \"column\": \"Changes\",\n      \"properties\": {\n        \"dtype\": \"number\",\n        \"std\": 56,\n        \"min\": -101,\n        \"max\": 49,\n        \"num_unique_values\": 5,\n        \"samples\": [\n          -101\n        ],\n        \"semantic_type\": \"\",\n        \"description\": \"\"\n      }\n    },\n    {\n      \"column\": \"ChagesRatio\",\n      \"properties\": {\n        \"dtype\": \"number\",\n        \"std\": 8.527177141352231,\n        \"min\": -8.33,\n        \"max\": 12.56,\n        \"num_unique_values\": 5,\n        \"samples\": [\n          -7.21\n        ],\n        \"semantic_type\": \"\",\n        \"description\": \"\"\n      }\n    },\n    {\n      \"column\": \"Open\",\n      \"properties\": {\n        \"dtype\": \"number\",\n        \"std\": 563,\n        \"min\": 0,\n        \"max\": 1400,\n        \"num_unique_values\": 5,\n        \"samples\": [\n          1400\n        ],\n        \"semantic_type\": \"\",\n        \"description\": \"\"\n      }\n    },\n    {\n      \"column\": \"High\",\n      \"properties\": {\n        \"dtype\": \"number\",\n        \"std\": 562,\n        \"min\": 0,\n        \"max\": 1400,\n        \"num_unique_values\": 5,\n        \"samples\": [\n          1400\n        ],\n        \"semantic_type\": \"\",\n        \"description\": \"\"\n      }\n    },\n    {\n      \"column\": \"Low\",\n      \"properties\": {\n        \"dtype\": \"number\",\n        \"std\": 485,\n        \"min\": 0,\n        \"max\": 1200,\n        \"num_unique_values\": 5,\n        \"samples\": [\n          1200\n        ],\n        \"semantic_type\": \"\",\n        \"description\": \"\"\n      }\n    },\n    {\n      \"column\": \"Volume\",\n      \"properties\": {\n        \"dtype\": \"number\",\n        \"std\": 52829,\n        \"min\": 0,\n        \"max\": 118428,\n        \"num_unique_values\": 5,\n        \"samples\": [\n          12\n        ],\n        \"semantic_type\": \"\",\n        \"description\": \"\"\n      }\n    },\n    {\n      \"column\": \"Amount\",\n      \"properties\": {\n        \"dtype\": \"number\",\n        \"std\": 2833389,\n        \"min\": 0,\n        \"max\": 6447141,\n        \"num_unique_values\": 5,\n        \"samples\": [\n          14699\n        ],\n        \"semantic_type\": \"\",\n        \"description\": \"\"\n      }\n    },\n    {\n      \"column\": \"Marcap\",\n      \"properties\": {\n        \"dtype\": \"number\",\n        \"std\": 722039628,\n        \"min\": 718033250,\n        \"max\": 2229267023,\n        \"num_unique_values\": 5,\n        \"samples\": [\n          2052368040\n        ],\n        \"semantic_type\": \"\",\n        \"description\": \"\"\n      }\n    },\n    {\n      \"column\": \"Stocks\",\n      \"properties\": {\n        \"dtype\": \"number\",\n        \"std\": 6670048,\n        \"min\": 1305515,\n        \"max\": 17471577,\n        \"num_unique_values\": 5,\n        \"samples\": [\n          1579960\n        ],\n        \"semantic_type\": \"\",\n        \"description\": \"\"\n      }\n    },\n    {\n      \"column\": \"MarketId\",\n      \"properties\": {\n        \"dtype\": \"category\",\n        \"num_unique_values\": 1,\n        \"samples\": [\n          \"KNX\"\n        ],\n        \"semantic_type\": \"\",\n        \"description\": \"\"\n      }\n    }\n  ]\n}"
            }
          },
          "metadata": {},
          "execution_count": 6
        }
      ],
      "source": [
        "# tail 로 아래 있는 데이터 일부만 가져옵니다.\n",
        "df.tail()"
      ]
    },
    {
      "cell_type": "code",
      "execution_count": 8,
      "metadata": {
        "colab": {
          "base_uri": "https://localhost:8080/",
          "height": 363
        },
        "id": "gqjsdftNmTj4",
        "outputId": "bef0c092-5b8e-46d4-94a5-7964032ded49"
      },
      "outputs": [
        {
          "output_type": "execute_result",
          "data": {
            "text/plain": [
              "        Code        ISU_CD      Name  Market         Dept  Close  ChangeCode  \\\n",
              "867   209640  KR7209640002    와이제이링크  KOSDAQ        벤처기업부  12880           1   \n",
              "1884  245620  KR7245620000      EDGC  KOSDAQ  관리종목(소속부없음)    415           0   \n",
              "2257  069410  KR7069410009       엔텔스  KOSDAQ        벤처기업부   3665           2   \n",
              "2748  477530  KR7477530000  한국제14호스팩  KOSDAQ  SPAC(소속부없음)   1956           2   \n",
              "1699  083500  KR7083500009   에프엔에스테크  KOSDAQ        벤처기업부   8400           1   \n",
              "2154  016100  KR7016100000   리더스코스메틱  KOSDAQ        중견기업부   2265           2   \n",
              "852   016790  KR7016790008      현대사료  KOSDAQ  관리종목(소속부없음)    994           0   \n",
              "750   008060  KR7008060006        대덕   KOSPI          NaN   6630           1   \n",
              "1946  464580  KR7464580000        닷밀  KOSDAQ      기술성장기업부   5890           1   \n",
              "212   009240  KR7009240003        한샘   KOSPI          NaN  53400           1   \n",
              "\n",
              "      Changes  ChagesRatio   Open   High    Low  Volume      Amount  \\\n",
              "867       160         1.26  12760  12990  12410  576407  7346126780   \n",
              "1884        0         0.00      0      0      0       0           0   \n",
              "2257      -10        -0.27   3705   3740   3615   24477    89275925   \n",
              "2748       -8        -0.41   1962   2070   1954   37981    75715126   \n",
              "1699      420         5.26   7980   8400   7980   35622   294484880   \n",
              "2154      -85        -3.62   2305   2410   2250   46626   106430365   \n",
              "852         0         0.00      0      0      0       0           0   \n",
              "750        20         0.30   6610   6690   6600   56577   376219590   \n",
              "1946      180         3.15   5710   6160   5590  321280  1893029850   \n",
              "212      1200         2.30  52500  53700  52100   17412   921747600   \n",
              "\n",
              "             Marcap     Stocks MarketId  \n",
              "867    183173860240   14221573      KSQ  \n",
              "1884    57474989665  138493951      KSQ  \n",
              "2257    37547279960   10244824      KSQ  \n",
              "2748     9408360000    4810000      KSQ  \n",
              "1699    72036064800    8575722      KSQ  \n",
              "2154    43263524910   19100894      KSQ  \n",
              "852    187340898626  188471729      KSQ  \n",
              "750    224691694500   33890150      STK  \n",
              "1946    53881413720    9147948      KSQ  \n",
              "212   1256711755200   23533928      STK  "
            ],
            "text/html": [
              "\n",
              "  <div id=\"df-79426205-0d98-4909-81ea-37e4e14d4506\" class=\"colab-df-container\">\n",
              "    <div>\n",
              "<style scoped>\n",
              "    .dataframe tbody tr th:only-of-type {\n",
              "        vertical-align: middle;\n",
              "    }\n",
              "\n",
              "    .dataframe tbody tr th {\n",
              "        vertical-align: top;\n",
              "    }\n",
              "\n",
              "    .dataframe thead th {\n",
              "        text-align: right;\n",
              "    }\n",
              "</style>\n",
              "<table border=\"1\" class=\"dataframe\">\n",
              "  <thead>\n",
              "    <tr style=\"text-align: right;\">\n",
              "      <th></th>\n",
              "      <th>Code</th>\n",
              "      <th>ISU_CD</th>\n",
              "      <th>Name</th>\n",
              "      <th>Market</th>\n",
              "      <th>Dept</th>\n",
              "      <th>Close</th>\n",
              "      <th>ChangeCode</th>\n",
              "      <th>Changes</th>\n",
              "      <th>ChagesRatio</th>\n",
              "      <th>Open</th>\n",
              "      <th>High</th>\n",
              "      <th>Low</th>\n",
              "      <th>Volume</th>\n",
              "      <th>Amount</th>\n",
              "      <th>Marcap</th>\n",
              "      <th>Stocks</th>\n",
              "      <th>MarketId</th>\n",
              "    </tr>\n",
              "  </thead>\n",
              "  <tbody>\n",
              "    <tr>\n",
              "      <th>867</th>\n",
              "      <td>209640</td>\n",
              "      <td>KR7209640002</td>\n",
              "      <td>와이제이링크</td>\n",
              "      <td>KOSDAQ</td>\n",
              "      <td>벤처기업부</td>\n",
              "      <td>12880</td>\n",
              "      <td>1</td>\n",
              "      <td>160</td>\n",
              "      <td>1.26</td>\n",
              "      <td>12760</td>\n",
              "      <td>12990</td>\n",
              "      <td>12410</td>\n",
              "      <td>576407</td>\n",
              "      <td>7346126780</td>\n",
              "      <td>183173860240</td>\n",
              "      <td>14221573</td>\n",
              "      <td>KSQ</td>\n",
              "    </tr>\n",
              "    <tr>\n",
              "      <th>1884</th>\n",
              "      <td>245620</td>\n",
              "      <td>KR7245620000</td>\n",
              "      <td>EDGC</td>\n",
              "      <td>KOSDAQ</td>\n",
              "      <td>관리종목(소속부없음)</td>\n",
              "      <td>415</td>\n",
              "      <td>0</td>\n",
              "      <td>0</td>\n",
              "      <td>0.00</td>\n",
              "      <td>0</td>\n",
              "      <td>0</td>\n",
              "      <td>0</td>\n",
              "      <td>0</td>\n",
              "      <td>0</td>\n",
              "      <td>57474989665</td>\n",
              "      <td>138493951</td>\n",
              "      <td>KSQ</td>\n",
              "    </tr>\n",
              "    <tr>\n",
              "      <th>2257</th>\n",
              "      <td>069410</td>\n",
              "      <td>KR7069410009</td>\n",
              "      <td>엔텔스</td>\n",
              "      <td>KOSDAQ</td>\n",
              "      <td>벤처기업부</td>\n",
              "      <td>3665</td>\n",
              "      <td>2</td>\n",
              "      <td>-10</td>\n",
              "      <td>-0.27</td>\n",
              "      <td>3705</td>\n",
              "      <td>3740</td>\n",
              "      <td>3615</td>\n",
              "      <td>24477</td>\n",
              "      <td>89275925</td>\n",
              "      <td>37547279960</td>\n",
              "      <td>10244824</td>\n",
              "      <td>KSQ</td>\n",
              "    </tr>\n",
              "    <tr>\n",
              "      <th>2748</th>\n",
              "      <td>477530</td>\n",
              "      <td>KR7477530000</td>\n",
              "      <td>한국제14호스팩</td>\n",
              "      <td>KOSDAQ</td>\n",
              "      <td>SPAC(소속부없음)</td>\n",
              "      <td>1956</td>\n",
              "      <td>2</td>\n",
              "      <td>-8</td>\n",
              "      <td>-0.41</td>\n",
              "      <td>1962</td>\n",
              "      <td>2070</td>\n",
              "      <td>1954</td>\n",
              "      <td>37981</td>\n",
              "      <td>75715126</td>\n",
              "      <td>9408360000</td>\n",
              "      <td>4810000</td>\n",
              "      <td>KSQ</td>\n",
              "    </tr>\n",
              "    <tr>\n",
              "      <th>1699</th>\n",
              "      <td>083500</td>\n",
              "      <td>KR7083500009</td>\n",
              "      <td>에프엔에스테크</td>\n",
              "      <td>KOSDAQ</td>\n",
              "      <td>벤처기업부</td>\n",
              "      <td>8400</td>\n",
              "      <td>1</td>\n",
              "      <td>420</td>\n",
              "      <td>5.26</td>\n",
              "      <td>7980</td>\n",
              "      <td>8400</td>\n",
              "      <td>7980</td>\n",
              "      <td>35622</td>\n",
              "      <td>294484880</td>\n",
              "      <td>72036064800</td>\n",
              "      <td>8575722</td>\n",
              "      <td>KSQ</td>\n",
              "    </tr>\n",
              "    <tr>\n",
              "      <th>2154</th>\n",
              "      <td>016100</td>\n",
              "      <td>KR7016100000</td>\n",
              "      <td>리더스코스메틱</td>\n",
              "      <td>KOSDAQ</td>\n",
              "      <td>중견기업부</td>\n",
              "      <td>2265</td>\n",
              "      <td>2</td>\n",
              "      <td>-85</td>\n",
              "      <td>-3.62</td>\n",
              "      <td>2305</td>\n",
              "      <td>2410</td>\n",
              "      <td>2250</td>\n",
              "      <td>46626</td>\n",
              "      <td>106430365</td>\n",
              "      <td>43263524910</td>\n",
              "      <td>19100894</td>\n",
              "      <td>KSQ</td>\n",
              "    </tr>\n",
              "    <tr>\n",
              "      <th>852</th>\n",
              "      <td>016790</td>\n",
              "      <td>KR7016790008</td>\n",
              "      <td>현대사료</td>\n",
              "      <td>KOSDAQ</td>\n",
              "      <td>관리종목(소속부없음)</td>\n",
              "      <td>994</td>\n",
              "      <td>0</td>\n",
              "      <td>0</td>\n",
              "      <td>0.00</td>\n",
              "      <td>0</td>\n",
              "      <td>0</td>\n",
              "      <td>0</td>\n",
              "      <td>0</td>\n",
              "      <td>0</td>\n",
              "      <td>187340898626</td>\n",
              "      <td>188471729</td>\n",
              "      <td>KSQ</td>\n",
              "    </tr>\n",
              "    <tr>\n",
              "      <th>750</th>\n",
              "      <td>008060</td>\n",
              "      <td>KR7008060006</td>\n",
              "      <td>대덕</td>\n",
              "      <td>KOSPI</td>\n",
              "      <td>NaN</td>\n",
              "      <td>6630</td>\n",
              "      <td>1</td>\n",
              "      <td>20</td>\n",
              "      <td>0.30</td>\n",
              "      <td>6610</td>\n",
              "      <td>6690</td>\n",
              "      <td>6600</td>\n",
              "      <td>56577</td>\n",
              "      <td>376219590</td>\n",
              "      <td>224691694500</td>\n",
              "      <td>33890150</td>\n",
              "      <td>STK</td>\n",
              "    </tr>\n",
              "    <tr>\n",
              "      <th>1946</th>\n",
              "      <td>464580</td>\n",
              "      <td>KR7464580000</td>\n",
              "      <td>닷밀</td>\n",
              "      <td>KOSDAQ</td>\n",
              "      <td>기술성장기업부</td>\n",
              "      <td>5890</td>\n",
              "      <td>1</td>\n",
              "      <td>180</td>\n",
              "      <td>3.15</td>\n",
              "      <td>5710</td>\n",
              "      <td>6160</td>\n",
              "      <td>5590</td>\n",
              "      <td>321280</td>\n",
              "      <td>1893029850</td>\n",
              "      <td>53881413720</td>\n",
              "      <td>9147948</td>\n",
              "      <td>KSQ</td>\n",
              "    </tr>\n",
              "    <tr>\n",
              "      <th>212</th>\n",
              "      <td>009240</td>\n",
              "      <td>KR7009240003</td>\n",
              "      <td>한샘</td>\n",
              "      <td>KOSPI</td>\n",
              "      <td>NaN</td>\n",
              "      <td>53400</td>\n",
              "      <td>1</td>\n",
              "      <td>1200</td>\n",
              "      <td>2.30</td>\n",
              "      <td>52500</td>\n",
              "      <td>53700</td>\n",
              "      <td>52100</td>\n",
              "      <td>17412</td>\n",
              "      <td>921747600</td>\n",
              "      <td>1256711755200</td>\n",
              "      <td>23533928</td>\n",
              "      <td>STK</td>\n",
              "    </tr>\n",
              "  </tbody>\n",
              "</table>\n",
              "</div>\n",
              "    <div class=\"colab-df-buttons\">\n",
              "\n",
              "  <div class=\"colab-df-container\">\n",
              "    <button class=\"colab-df-convert\" onclick=\"convertToInteractive('df-79426205-0d98-4909-81ea-37e4e14d4506')\"\n",
              "            title=\"Convert this dataframe to an interactive table.\"\n",
              "            style=\"display:none;\">\n",
              "\n",
              "  <svg xmlns=\"http://www.w3.org/2000/svg\" height=\"24px\" viewBox=\"0 -960 960 960\">\n",
              "    <path d=\"M120-120v-720h720v720H120Zm60-500h600v-160H180v160Zm220 220h160v-160H400v160Zm0 220h160v-160H400v160ZM180-400h160v-160H180v160Zm440 0h160v-160H620v160ZM180-180h160v-160H180v160Zm440 0h160v-160H620v160Z\"/>\n",
              "  </svg>\n",
              "    </button>\n",
              "\n",
              "  <style>\n",
              "    .colab-df-container {\n",
              "      display:flex;\n",
              "      gap: 12px;\n",
              "    }\n",
              "\n",
              "    .colab-df-convert {\n",
              "      background-color: #E8F0FE;\n",
              "      border: none;\n",
              "      border-radius: 50%;\n",
              "      cursor: pointer;\n",
              "      display: none;\n",
              "      fill: #1967D2;\n",
              "      height: 32px;\n",
              "      padding: 0 0 0 0;\n",
              "      width: 32px;\n",
              "    }\n",
              "\n",
              "    .colab-df-convert:hover {\n",
              "      background-color: #E2EBFA;\n",
              "      box-shadow: 0px 1px 2px rgba(60, 64, 67, 0.3), 0px 1px 3px 1px rgba(60, 64, 67, 0.15);\n",
              "      fill: #174EA6;\n",
              "    }\n",
              "\n",
              "    .colab-df-buttons div {\n",
              "      margin-bottom: 4px;\n",
              "    }\n",
              "\n",
              "    [theme=dark] .colab-df-convert {\n",
              "      background-color: #3B4455;\n",
              "      fill: #D2E3FC;\n",
              "    }\n",
              "\n",
              "    [theme=dark] .colab-df-convert:hover {\n",
              "      background-color: #434B5C;\n",
              "      box-shadow: 0px 1px 3px 1px rgba(0, 0, 0, 0.15);\n",
              "      filter: drop-shadow(0px 1px 2px rgba(0, 0, 0, 0.3));\n",
              "      fill: #FFFFFF;\n",
              "    }\n",
              "  </style>\n",
              "\n",
              "    <script>\n",
              "      const buttonEl =\n",
              "        document.querySelector('#df-79426205-0d98-4909-81ea-37e4e14d4506 button.colab-df-convert');\n",
              "      buttonEl.style.display =\n",
              "        google.colab.kernel.accessAllowed ? 'block' : 'none';\n",
              "\n",
              "      async function convertToInteractive(key) {\n",
              "        const element = document.querySelector('#df-79426205-0d98-4909-81ea-37e4e14d4506');\n",
              "        const dataTable =\n",
              "          await google.colab.kernel.invokeFunction('convertToInteractive',\n",
              "                                                    [key], {});\n",
              "        if (!dataTable) return;\n",
              "\n",
              "        const docLinkHtml = 'Like what you see? Visit the ' +\n",
              "          '<a target=\"_blank\" href=https://colab.research.google.com/notebooks/data_table.ipynb>data table notebook</a>'\n",
              "          + ' to learn more about interactive tables.';\n",
              "        element.innerHTML = '';\n",
              "        dataTable['output_type'] = 'display_data';\n",
              "        await google.colab.output.renderOutput(dataTable, element);\n",
              "        const docLink = document.createElement('div');\n",
              "        docLink.innerHTML = docLinkHtml;\n",
              "        element.appendChild(docLink);\n",
              "      }\n",
              "    </script>\n",
              "  </div>\n",
              "\n",
              "\n",
              "<div id=\"df-9c28d5f5-bf12-497b-a743-5dfd759fc56d\">\n",
              "  <button class=\"colab-df-quickchart\" onclick=\"quickchart('df-9c28d5f5-bf12-497b-a743-5dfd759fc56d')\"\n",
              "            title=\"Suggest charts\"\n",
              "            style=\"display:none;\">\n",
              "\n",
              "<svg xmlns=\"http://www.w3.org/2000/svg\" height=\"24px\"viewBox=\"0 0 24 24\"\n",
              "     width=\"24px\">\n",
              "    <g>\n",
              "        <path d=\"M19 3H5c-1.1 0-2 .9-2 2v14c0 1.1.9 2 2 2h14c1.1 0 2-.9 2-2V5c0-1.1-.9-2-2-2zM9 17H7v-7h2v7zm4 0h-2V7h2v10zm4 0h-2v-4h2v4z\"/>\n",
              "    </g>\n",
              "</svg>\n",
              "  </button>\n",
              "\n",
              "<style>\n",
              "  .colab-df-quickchart {\n",
              "      --bg-color: #E8F0FE;\n",
              "      --fill-color: #1967D2;\n",
              "      --hover-bg-color: #E2EBFA;\n",
              "      --hover-fill-color: #174EA6;\n",
              "      --disabled-fill-color: #AAA;\n",
              "      --disabled-bg-color: #DDD;\n",
              "  }\n",
              "\n",
              "  [theme=dark] .colab-df-quickchart {\n",
              "      --bg-color: #3B4455;\n",
              "      --fill-color: #D2E3FC;\n",
              "      --hover-bg-color: #434B5C;\n",
              "      --hover-fill-color: #FFFFFF;\n",
              "      --disabled-bg-color: #3B4455;\n",
              "      --disabled-fill-color: #666;\n",
              "  }\n",
              "\n",
              "  .colab-df-quickchart {\n",
              "    background-color: var(--bg-color);\n",
              "    border: none;\n",
              "    border-radius: 50%;\n",
              "    cursor: pointer;\n",
              "    display: none;\n",
              "    fill: var(--fill-color);\n",
              "    height: 32px;\n",
              "    padding: 0;\n",
              "    width: 32px;\n",
              "  }\n",
              "\n",
              "  .colab-df-quickchart:hover {\n",
              "    background-color: var(--hover-bg-color);\n",
              "    box-shadow: 0 1px 2px rgba(60, 64, 67, 0.3), 0 1px 3px 1px rgba(60, 64, 67, 0.15);\n",
              "    fill: var(--button-hover-fill-color);\n",
              "  }\n",
              "\n",
              "  .colab-df-quickchart-complete:disabled,\n",
              "  .colab-df-quickchart-complete:disabled:hover {\n",
              "    background-color: var(--disabled-bg-color);\n",
              "    fill: var(--disabled-fill-color);\n",
              "    box-shadow: none;\n",
              "  }\n",
              "\n",
              "  .colab-df-spinner {\n",
              "    border: 2px solid var(--fill-color);\n",
              "    border-color: transparent;\n",
              "    border-bottom-color: var(--fill-color);\n",
              "    animation:\n",
              "      spin 1s steps(1) infinite;\n",
              "  }\n",
              "\n",
              "  @keyframes spin {\n",
              "    0% {\n",
              "      border-color: transparent;\n",
              "      border-bottom-color: var(--fill-color);\n",
              "      border-left-color: var(--fill-color);\n",
              "    }\n",
              "    20% {\n",
              "      border-color: transparent;\n",
              "      border-left-color: var(--fill-color);\n",
              "      border-top-color: var(--fill-color);\n",
              "    }\n",
              "    30% {\n",
              "      border-color: transparent;\n",
              "      border-left-color: var(--fill-color);\n",
              "      border-top-color: var(--fill-color);\n",
              "      border-right-color: var(--fill-color);\n",
              "    }\n",
              "    40% {\n",
              "      border-color: transparent;\n",
              "      border-right-color: var(--fill-color);\n",
              "      border-top-color: var(--fill-color);\n",
              "    }\n",
              "    60% {\n",
              "      border-color: transparent;\n",
              "      border-right-color: var(--fill-color);\n",
              "    }\n",
              "    80% {\n",
              "      border-color: transparent;\n",
              "      border-right-color: var(--fill-color);\n",
              "      border-bottom-color: var(--fill-color);\n",
              "    }\n",
              "    90% {\n",
              "      border-color: transparent;\n",
              "      border-bottom-color: var(--fill-color);\n",
              "    }\n",
              "  }\n",
              "</style>\n",
              "\n",
              "  <script>\n",
              "    async function quickchart(key) {\n",
              "      const quickchartButtonEl =\n",
              "        document.querySelector('#' + key + ' button');\n",
              "      quickchartButtonEl.disabled = true;  // To prevent multiple clicks.\n",
              "      quickchartButtonEl.classList.add('colab-df-spinner');\n",
              "      try {\n",
              "        const charts = await google.colab.kernel.invokeFunction(\n",
              "            'suggestCharts', [key], {});\n",
              "      } catch (error) {\n",
              "        console.error('Error during call to suggestCharts:', error);\n",
              "      }\n",
              "      quickchartButtonEl.classList.remove('colab-df-spinner');\n",
              "      quickchartButtonEl.classList.add('colab-df-quickchart-complete');\n",
              "    }\n",
              "    (() => {\n",
              "      let quickchartButtonEl =\n",
              "        document.querySelector('#df-9c28d5f5-bf12-497b-a743-5dfd759fc56d button');\n",
              "      quickchartButtonEl.style.display =\n",
              "        google.colab.kernel.accessAllowed ? 'block' : 'none';\n",
              "    })();\n",
              "  </script>\n",
              "</div>\n",
              "\n",
              "    </div>\n",
              "  </div>\n"
            ],
            "application/vnd.google.colaboratory.intrinsic+json": {
              "type": "dataframe",
              "summary": "{\n  \"name\": \"df\",\n  \"rows\": 10,\n  \"fields\": [\n    {\n      \"column\": \"Code\",\n      \"properties\": {\n        \"dtype\": \"string\",\n        \"num_unique_values\": 10,\n        \"samples\": [\n          \"464580\",\n          \"245620\",\n          \"016100\"\n        ],\n        \"semantic_type\": \"\",\n        \"description\": \"\"\n      }\n    },\n    {\n      \"column\": \"ISU_CD\",\n      \"properties\": {\n        \"dtype\": \"string\",\n        \"num_unique_values\": 10,\n        \"samples\": [\n          \"KR7464580000\",\n          \"KR7245620000\",\n          \"KR7016100000\"\n        ],\n        \"semantic_type\": \"\",\n        \"description\": \"\"\n      }\n    },\n    {\n      \"column\": \"Name\",\n      \"properties\": {\n        \"dtype\": \"string\",\n        \"num_unique_values\": 10,\n        \"samples\": [\n          \"\\ub2f7\\ubc00\",\n          \"EDGC\",\n          \"\\ub9ac\\ub354\\uc2a4\\ucf54\\uc2a4\\uba54\\ud2f1\"\n        ],\n        \"semantic_type\": \"\",\n        \"description\": \"\"\n      }\n    },\n    {\n      \"column\": \"Market\",\n      \"properties\": {\n        \"dtype\": \"category\",\n        \"num_unique_values\": 2,\n        \"samples\": [\n          \"KOSPI\",\n          \"KOSDAQ\"\n        ],\n        \"semantic_type\": \"\",\n        \"description\": \"\"\n      }\n    },\n    {\n      \"column\": \"Dept\",\n      \"properties\": {\n        \"dtype\": \"string\",\n        \"num_unique_values\": 5,\n        \"samples\": [\n          \"\\uad00\\ub9ac\\uc885\\ubaa9(\\uc18c\\uc18d\\ubd80\\uc5c6\\uc74c)\",\n          \"\\uae30\\uc220\\uc131\\uc7a5\\uae30\\uc5c5\\ubd80\"\n        ],\n        \"semantic_type\": \"\",\n        \"description\": \"\"\n      }\n    },\n    {\n      \"column\": \"Close\",\n      \"properties\": {\n        \"dtype\": \"number\",\n        \"std\": 15843,\n        \"min\": 415,\n        \"max\": 53400,\n        \"num_unique_values\": 10,\n        \"samples\": [\n          5890,\n          415\n        ],\n        \"semantic_type\": \"\",\n        \"description\": \"\"\n      }\n    },\n    {\n      \"column\": \"ChangeCode\",\n      \"properties\": {\n        \"dtype\": \"number\",\n        \"std\": 0,\n        \"min\": 0,\n        \"max\": 2,\n        \"num_unique_values\": 3,\n        \"samples\": [\n          1,\n          0\n        ],\n        \"semantic_type\": \"\",\n        \"description\": \"\"\n      }\n    },\n    {\n      \"column\": \"Changes\",\n      \"properties\": {\n        \"dtype\": \"number\",\n        \"std\": 384,\n        \"min\": -85,\n        \"max\": 1200,\n        \"num_unique_values\": 9,\n        \"samples\": [\n          180,\n          0\n        ],\n        \"semantic_type\": \"\",\n        \"description\": \"\"\n      }\n    },\n    {\n      \"column\": \"ChagesRatio\",\n      \"properties\": {\n        \"dtype\": \"number\",\n        \"std\": 2.393301067563377,\n        \"min\": -3.62,\n        \"max\": 5.26,\n        \"num_unique_values\": 9,\n        \"samples\": [\n          3.15,\n          0.0\n        ],\n        \"semantic_type\": \"\",\n        \"description\": \"\"\n      }\n    },\n    {\n      \"column\": \"Open\",\n      \"properties\": {\n        \"dtype\": \"number\",\n        \"std\": 15659,\n        \"min\": 0,\n        \"max\": 52500,\n        \"num_unique_values\": 9,\n        \"samples\": [\n          5710,\n          0\n        ],\n        \"semantic_type\": \"\",\n        \"description\": \"\"\n      }\n    },\n    {\n      \"column\": \"High\",\n      \"properties\": {\n        \"dtype\": \"number\",\n        \"std\": 16003,\n        \"min\": 0,\n        \"max\": 53700,\n        \"num_unique_values\": 9,\n        \"samples\": [\n          6160,\n          0\n        ],\n        \"semantic_type\": \"\",\n        \"description\": \"\"\n      }\n    },\n    {\n      \"column\": \"Low\",\n      \"properties\": {\n        \"dtype\": \"number\",\n        \"std\": 15539,\n        \"min\": 0,\n        \"max\": 52100,\n        \"num_unique_values\": 9,\n        \"samples\": [\n          5590,\n          0\n        ],\n        \"semantic_type\": \"\",\n        \"description\": \"\"\n      }\n    },\n    {\n      \"column\": \"Volume\",\n      \"properties\": {\n        \"dtype\": \"number\",\n        \"std\": 188509,\n        \"min\": 0,\n        \"max\": 576407,\n        \"num_unique_values\": 9,\n        \"samples\": [\n          321280,\n          0\n        ],\n        \"semantic_type\": \"\",\n        \"description\": \"\"\n      }\n    },\n    {\n      \"column\": \"Amount\",\n      \"properties\": {\n        \"dtype\": \"number\",\n        \"std\": 2268732501,\n        \"min\": 0,\n        \"max\": 7346126780,\n        \"num_unique_values\": 9,\n        \"samples\": [\n          1893029850,\n          0\n        ],\n        \"semantic_type\": \"\",\n        \"description\": \"\"\n      }\n    },\n    {\n      \"column\": \"Marcap\",\n      \"properties\": {\n        \"dtype\": \"number\",\n        \"std\": 374379216795,\n        \"min\": 9408360000,\n        \"max\": 1256711755200,\n        \"num_unique_values\": 10,\n        \"samples\": [\n          53881413720,\n          57474989665\n        ],\n        \"semantic_type\": \"\",\n        \"description\": \"\"\n      }\n    },\n    {\n      \"column\": \"Stocks\",\n      \"properties\": {\n        \"dtype\": \"number\",\n        \"std\": 64085692,\n        \"min\": 4810000,\n        \"max\": 188471729,\n        \"num_unique_values\": 10,\n        \"samples\": [\n          9147948,\n          138493951\n        ],\n        \"semantic_type\": \"\",\n        \"description\": \"\"\n      }\n    },\n    {\n      \"column\": \"MarketId\",\n      \"properties\": {\n        \"dtype\": \"category\",\n        \"num_unique_values\": 2,\n        \"samples\": [\n          \"STK\",\n          \"KSQ\"\n        ],\n        \"semantic_type\": \"\",\n        \"description\": \"\"\n      }\n    }\n  ]\n}"
            }
          },
          "metadata": {},
          "execution_count": 8
        }
      ],
      "source": [
        "# sample을 사용하면 랜덤하게 ()안의 갯수만큼 가져옵니다.\n",
        "# ()안에 값을 써주지 않으면 한 개만 가져옵니다.\n",
        "df.sample(10)"
      ]
    },
    {
      "cell_type": "markdown",
      "metadata": {
        "id": "staULLesmTj5"
      },
      "source": [
        "## 데이터 요약하기"
      ]
    },
    {
      "cell_type": "code",
      "execution_count": 9,
      "metadata": {
        "colab": {
          "base_uri": "https://localhost:8080/"
        },
        "id": "9eprkVkvmTj6",
        "outputId": "a83cd4ee-9c8d-4dc6-fa0c-07d01ab04b74"
      },
      "outputs": [
        {
          "output_type": "stream",
          "name": "stdout",
          "text": [
            "<class 'pandas.core.frame.DataFrame'>\n",
            "RangeIndex: 2857 entries, 0 to 2856\n",
            "Data columns (total 17 columns):\n",
            " #   Column       Non-Null Count  Dtype  \n",
            "---  ------       --------------  -----  \n",
            " 0   Code         2857 non-null   object \n",
            " 1   ISU_CD       2857 non-null   object \n",
            " 2   Name         2857 non-null   object \n",
            " 3   Market       2857 non-null   object \n",
            " 4   Dept         1898 non-null   object \n",
            " 5   Close        2857 non-null   int64  \n",
            " 6   ChangeCode   2857 non-null   int64  \n",
            " 7   Changes      2857 non-null   int64  \n",
            " 8   ChagesRatio  2857 non-null   float64\n",
            " 9   Open         2857 non-null   int64  \n",
            " 10  High         2857 non-null   int64  \n",
            " 11  Low          2857 non-null   int64  \n",
            " 12  Volume       2857 non-null   int64  \n",
            " 13  Amount       2857 non-null   int64  \n",
            " 14  Marcap       2857 non-null   int64  \n",
            " 15  Stocks       2857 non-null   int64  \n",
            " 16  MarketId     2857 non-null   object \n",
            "dtypes: float64(1), int64(10), object(6)\n",
            "memory usage: 379.6+ KB\n"
          ]
        }
      ],
      "source": [
        "# info 로 요약 데이터를 봅니다.\n",
        "df.info()"
      ]
    },
    {
      "cell_type": "code",
      "execution_count": 10,
      "metadata": {
        "colab": {
          "base_uri": "https://localhost:8080/",
          "height": 300
        },
        "id": "t8v9X0WPmTj6",
        "outputId": "2302a87c-5132-4119-e7dc-65785eec96bc"
      },
      "outputs": [
        {
          "output_type": "execute_result",
          "data": {
            "text/plain": [
              "              Close   ChangeCode        Changes  ChagesRatio          Open  \\\n",
              "count  2.857000e+03  2857.000000    2857.000000  2857.000000  2.857000e+03   \n",
              "mean   1.775679e+04     1.303815     125.709485     1.400007  1.744581e+04   \n",
              "std    5.104110e+04     0.660587    2812.919227     3.759242  5.176387e+04   \n",
              "min    5.800000e+01     0.000000 -136000.000000   -39.440000  0.000000e+00   \n",
              "25%    2.130000e+03     1.000000       0.000000     0.000000  2.020000e+03   \n",
              "50%    5.050000e+03     1.000000      30.000000     0.860000  4.790000e+03   \n",
              "75%    1.328000e+04     2.000000     140.000000     2.250000  1.290000e+04   \n",
              "max    1.225000e+06     5.000000   28000.000000    30.000000  1.345000e+06   \n",
              "\n",
              "               High           Low        Volume        Amount        Marcap  \\\n",
              "count  2.857000e+03  2.857000e+03  2.857000e+03  2.857000e+03  2.857000e+03   \n",
              "mean   1.789019e+04  1.714786e+04  5.180740e+05  5.473556e+09  8.373791e+11   \n",
              "std    5.291257e+04  5.013527e+04  2.545210e+06  2.788667e+10  7.521199e+12   \n",
              "min    0.000000e+00  0.000000e+00  0.000000e+00  0.000000e+00  7.180332e+08   \n",
              "25%    2.070000e+03  2.000000e+03  1.362200e+04  6.021258e+07  4.384261e+10   \n",
              "50%    4.900000e+03  4.700000e+03  6.110400e+04  2.937520e+08  9.626019e+10   \n",
              "75%    1.318000e+04  1.272000e+04  2.142240e+05  1.544519e+09  2.385036e+11   \n",
              "max    1.372000e+06  1.222000e+06  5.932110e+07  8.906398e+11  3.349048e+14   \n",
              "\n",
              "             Stocks  \n",
              "count  2.857000e+03  \n",
              "mean   4.185651e+07  \n",
              "std    1.327743e+08  \n",
              "min    2.000000e+05  \n",
              "25%    1.016851e+07  \n",
              "50%    1.971280e+07  \n",
              "75%    4.187529e+07  \n",
              "max    5.969783e+09  "
            ],
            "text/html": [
              "\n",
              "  <div id=\"df-3f1bbff7-34f6-413e-b592-abc341db97a8\" class=\"colab-df-container\">\n",
              "    <div>\n",
              "<style scoped>\n",
              "    .dataframe tbody tr th:only-of-type {\n",
              "        vertical-align: middle;\n",
              "    }\n",
              "\n",
              "    .dataframe tbody tr th {\n",
              "        vertical-align: top;\n",
              "    }\n",
              "\n",
              "    .dataframe thead th {\n",
              "        text-align: right;\n",
              "    }\n",
              "</style>\n",
              "<table border=\"1\" class=\"dataframe\">\n",
              "  <thead>\n",
              "    <tr style=\"text-align: right;\">\n",
              "      <th></th>\n",
              "      <th>Close</th>\n",
              "      <th>ChangeCode</th>\n",
              "      <th>Changes</th>\n",
              "      <th>ChagesRatio</th>\n",
              "      <th>Open</th>\n",
              "      <th>High</th>\n",
              "      <th>Low</th>\n",
              "      <th>Volume</th>\n",
              "      <th>Amount</th>\n",
              "      <th>Marcap</th>\n",
              "      <th>Stocks</th>\n",
              "    </tr>\n",
              "  </thead>\n",
              "  <tbody>\n",
              "    <tr>\n",
              "      <th>count</th>\n",
              "      <td>2.857000e+03</td>\n",
              "      <td>2857.000000</td>\n",
              "      <td>2857.000000</td>\n",
              "      <td>2857.000000</td>\n",
              "      <td>2.857000e+03</td>\n",
              "      <td>2.857000e+03</td>\n",
              "      <td>2.857000e+03</td>\n",
              "      <td>2.857000e+03</td>\n",
              "      <td>2.857000e+03</td>\n",
              "      <td>2.857000e+03</td>\n",
              "      <td>2.857000e+03</td>\n",
              "    </tr>\n",
              "    <tr>\n",
              "      <th>mean</th>\n",
              "      <td>1.775679e+04</td>\n",
              "      <td>1.303815</td>\n",
              "      <td>125.709485</td>\n",
              "      <td>1.400007</td>\n",
              "      <td>1.744581e+04</td>\n",
              "      <td>1.789019e+04</td>\n",
              "      <td>1.714786e+04</td>\n",
              "      <td>5.180740e+05</td>\n",
              "      <td>5.473556e+09</td>\n",
              "      <td>8.373791e+11</td>\n",
              "      <td>4.185651e+07</td>\n",
              "    </tr>\n",
              "    <tr>\n",
              "      <th>std</th>\n",
              "      <td>5.104110e+04</td>\n",
              "      <td>0.660587</td>\n",
              "      <td>2812.919227</td>\n",
              "      <td>3.759242</td>\n",
              "      <td>5.176387e+04</td>\n",
              "      <td>5.291257e+04</td>\n",
              "      <td>5.013527e+04</td>\n",
              "      <td>2.545210e+06</td>\n",
              "      <td>2.788667e+10</td>\n",
              "      <td>7.521199e+12</td>\n",
              "      <td>1.327743e+08</td>\n",
              "    </tr>\n",
              "    <tr>\n",
              "      <th>min</th>\n",
              "      <td>5.800000e+01</td>\n",
              "      <td>0.000000</td>\n",
              "      <td>-136000.000000</td>\n",
              "      <td>-39.440000</td>\n",
              "      <td>0.000000e+00</td>\n",
              "      <td>0.000000e+00</td>\n",
              "      <td>0.000000e+00</td>\n",
              "      <td>0.000000e+00</td>\n",
              "      <td>0.000000e+00</td>\n",
              "      <td>7.180332e+08</td>\n",
              "      <td>2.000000e+05</td>\n",
              "    </tr>\n",
              "    <tr>\n",
              "      <th>25%</th>\n",
              "      <td>2.130000e+03</td>\n",
              "      <td>1.000000</td>\n",
              "      <td>0.000000</td>\n",
              "      <td>0.000000</td>\n",
              "      <td>2.020000e+03</td>\n",
              "      <td>2.070000e+03</td>\n",
              "      <td>2.000000e+03</td>\n",
              "      <td>1.362200e+04</td>\n",
              "      <td>6.021258e+07</td>\n",
              "      <td>4.384261e+10</td>\n",
              "      <td>1.016851e+07</td>\n",
              "    </tr>\n",
              "    <tr>\n",
              "      <th>50%</th>\n",
              "      <td>5.050000e+03</td>\n",
              "      <td>1.000000</td>\n",
              "      <td>30.000000</td>\n",
              "      <td>0.860000</td>\n",
              "      <td>4.790000e+03</td>\n",
              "      <td>4.900000e+03</td>\n",
              "      <td>4.700000e+03</td>\n",
              "      <td>6.110400e+04</td>\n",
              "      <td>2.937520e+08</td>\n",
              "      <td>9.626019e+10</td>\n",
              "      <td>1.971280e+07</td>\n",
              "    </tr>\n",
              "    <tr>\n",
              "      <th>75%</th>\n",
              "      <td>1.328000e+04</td>\n",
              "      <td>2.000000</td>\n",
              "      <td>140.000000</td>\n",
              "      <td>2.250000</td>\n",
              "      <td>1.290000e+04</td>\n",
              "      <td>1.318000e+04</td>\n",
              "      <td>1.272000e+04</td>\n",
              "      <td>2.142240e+05</td>\n",
              "      <td>1.544519e+09</td>\n",
              "      <td>2.385036e+11</td>\n",
              "      <td>4.187529e+07</td>\n",
              "    </tr>\n",
              "    <tr>\n",
              "      <th>max</th>\n",
              "      <td>1.225000e+06</td>\n",
              "      <td>5.000000</td>\n",
              "      <td>28000.000000</td>\n",
              "      <td>30.000000</td>\n",
              "      <td>1.345000e+06</td>\n",
              "      <td>1.372000e+06</td>\n",
              "      <td>1.222000e+06</td>\n",
              "      <td>5.932110e+07</td>\n",
              "      <td>8.906398e+11</td>\n",
              "      <td>3.349048e+14</td>\n",
              "      <td>5.969783e+09</td>\n",
              "    </tr>\n",
              "  </tbody>\n",
              "</table>\n",
              "</div>\n",
              "    <div class=\"colab-df-buttons\">\n",
              "\n",
              "  <div class=\"colab-df-container\">\n",
              "    <button class=\"colab-df-convert\" onclick=\"convertToInteractive('df-3f1bbff7-34f6-413e-b592-abc341db97a8')\"\n",
              "            title=\"Convert this dataframe to an interactive table.\"\n",
              "            style=\"display:none;\">\n",
              "\n",
              "  <svg xmlns=\"http://www.w3.org/2000/svg\" height=\"24px\" viewBox=\"0 -960 960 960\">\n",
              "    <path d=\"M120-120v-720h720v720H120Zm60-500h600v-160H180v160Zm220 220h160v-160H400v160Zm0 220h160v-160H400v160ZM180-400h160v-160H180v160Zm440 0h160v-160H620v160ZM180-180h160v-160H180v160Zm440 0h160v-160H620v160Z\"/>\n",
              "  </svg>\n",
              "    </button>\n",
              "\n",
              "  <style>\n",
              "    .colab-df-container {\n",
              "      display:flex;\n",
              "      gap: 12px;\n",
              "    }\n",
              "\n",
              "    .colab-df-convert {\n",
              "      background-color: #E8F0FE;\n",
              "      border: none;\n",
              "      border-radius: 50%;\n",
              "      cursor: pointer;\n",
              "      display: none;\n",
              "      fill: #1967D2;\n",
              "      height: 32px;\n",
              "      padding: 0 0 0 0;\n",
              "      width: 32px;\n",
              "    }\n",
              "\n",
              "    .colab-df-convert:hover {\n",
              "      background-color: #E2EBFA;\n",
              "      box-shadow: 0px 1px 2px rgba(60, 64, 67, 0.3), 0px 1px 3px 1px rgba(60, 64, 67, 0.15);\n",
              "      fill: #174EA6;\n",
              "    }\n",
              "\n",
              "    .colab-df-buttons div {\n",
              "      margin-bottom: 4px;\n",
              "    }\n",
              "\n",
              "    [theme=dark] .colab-df-convert {\n",
              "      background-color: #3B4455;\n",
              "      fill: #D2E3FC;\n",
              "    }\n",
              "\n",
              "    [theme=dark] .colab-df-convert:hover {\n",
              "      background-color: #434B5C;\n",
              "      box-shadow: 0px 1px 3px 1px rgba(0, 0, 0, 0.15);\n",
              "      filter: drop-shadow(0px 1px 2px rgba(0, 0, 0, 0.3));\n",
              "      fill: #FFFFFF;\n",
              "    }\n",
              "  </style>\n",
              "\n",
              "    <script>\n",
              "      const buttonEl =\n",
              "        document.querySelector('#df-3f1bbff7-34f6-413e-b592-abc341db97a8 button.colab-df-convert');\n",
              "      buttonEl.style.display =\n",
              "        google.colab.kernel.accessAllowed ? 'block' : 'none';\n",
              "\n",
              "      async function convertToInteractive(key) {\n",
              "        const element = document.querySelector('#df-3f1bbff7-34f6-413e-b592-abc341db97a8');\n",
              "        const dataTable =\n",
              "          await google.colab.kernel.invokeFunction('convertToInteractive',\n",
              "                                                    [key], {});\n",
              "        if (!dataTable) return;\n",
              "\n",
              "        const docLinkHtml = 'Like what you see? Visit the ' +\n",
              "          '<a target=\"_blank\" href=https://colab.research.google.com/notebooks/data_table.ipynb>data table notebook</a>'\n",
              "          + ' to learn more about interactive tables.';\n",
              "        element.innerHTML = '';\n",
              "        dataTable['output_type'] = 'display_data';\n",
              "        await google.colab.output.renderOutput(dataTable, element);\n",
              "        const docLink = document.createElement('div');\n",
              "        docLink.innerHTML = docLinkHtml;\n",
              "        element.appendChild(docLink);\n",
              "      }\n",
              "    </script>\n",
              "  </div>\n",
              "\n",
              "\n",
              "<div id=\"df-c3963595-542a-48cd-ad04-8a34ea3d6a4a\">\n",
              "  <button class=\"colab-df-quickchart\" onclick=\"quickchart('df-c3963595-542a-48cd-ad04-8a34ea3d6a4a')\"\n",
              "            title=\"Suggest charts\"\n",
              "            style=\"display:none;\">\n",
              "\n",
              "<svg xmlns=\"http://www.w3.org/2000/svg\" height=\"24px\"viewBox=\"0 0 24 24\"\n",
              "     width=\"24px\">\n",
              "    <g>\n",
              "        <path d=\"M19 3H5c-1.1 0-2 .9-2 2v14c0 1.1.9 2 2 2h14c1.1 0 2-.9 2-2V5c0-1.1-.9-2-2-2zM9 17H7v-7h2v7zm4 0h-2V7h2v10zm4 0h-2v-4h2v4z\"/>\n",
              "    </g>\n",
              "</svg>\n",
              "  </button>\n",
              "\n",
              "<style>\n",
              "  .colab-df-quickchart {\n",
              "      --bg-color: #E8F0FE;\n",
              "      --fill-color: #1967D2;\n",
              "      --hover-bg-color: #E2EBFA;\n",
              "      --hover-fill-color: #174EA6;\n",
              "      --disabled-fill-color: #AAA;\n",
              "      --disabled-bg-color: #DDD;\n",
              "  }\n",
              "\n",
              "  [theme=dark] .colab-df-quickchart {\n",
              "      --bg-color: #3B4455;\n",
              "      --fill-color: #D2E3FC;\n",
              "      --hover-bg-color: #434B5C;\n",
              "      --hover-fill-color: #FFFFFF;\n",
              "      --disabled-bg-color: #3B4455;\n",
              "      --disabled-fill-color: #666;\n",
              "  }\n",
              "\n",
              "  .colab-df-quickchart {\n",
              "    background-color: var(--bg-color);\n",
              "    border: none;\n",
              "    border-radius: 50%;\n",
              "    cursor: pointer;\n",
              "    display: none;\n",
              "    fill: var(--fill-color);\n",
              "    height: 32px;\n",
              "    padding: 0;\n",
              "    width: 32px;\n",
              "  }\n",
              "\n",
              "  .colab-df-quickchart:hover {\n",
              "    background-color: var(--hover-bg-color);\n",
              "    box-shadow: 0 1px 2px rgba(60, 64, 67, 0.3), 0 1px 3px 1px rgba(60, 64, 67, 0.15);\n",
              "    fill: var(--button-hover-fill-color);\n",
              "  }\n",
              "\n",
              "  .colab-df-quickchart-complete:disabled,\n",
              "  .colab-df-quickchart-complete:disabled:hover {\n",
              "    background-color: var(--disabled-bg-color);\n",
              "    fill: var(--disabled-fill-color);\n",
              "    box-shadow: none;\n",
              "  }\n",
              "\n",
              "  .colab-df-spinner {\n",
              "    border: 2px solid var(--fill-color);\n",
              "    border-color: transparent;\n",
              "    border-bottom-color: var(--fill-color);\n",
              "    animation:\n",
              "      spin 1s steps(1) infinite;\n",
              "  }\n",
              "\n",
              "  @keyframes spin {\n",
              "    0% {\n",
              "      border-color: transparent;\n",
              "      border-bottom-color: var(--fill-color);\n",
              "      border-left-color: var(--fill-color);\n",
              "    }\n",
              "    20% {\n",
              "      border-color: transparent;\n",
              "      border-left-color: var(--fill-color);\n",
              "      border-top-color: var(--fill-color);\n",
              "    }\n",
              "    30% {\n",
              "      border-color: transparent;\n",
              "      border-left-color: var(--fill-color);\n",
              "      border-top-color: var(--fill-color);\n",
              "      border-right-color: var(--fill-color);\n",
              "    }\n",
              "    40% {\n",
              "      border-color: transparent;\n",
              "      border-right-color: var(--fill-color);\n",
              "      border-top-color: var(--fill-color);\n",
              "    }\n",
              "    60% {\n",
              "      border-color: transparent;\n",
              "      border-right-color: var(--fill-color);\n",
              "    }\n",
              "    80% {\n",
              "      border-color: transparent;\n",
              "      border-right-color: var(--fill-color);\n",
              "      border-bottom-color: var(--fill-color);\n",
              "    }\n",
              "    90% {\n",
              "      border-color: transparent;\n",
              "      border-bottom-color: var(--fill-color);\n",
              "    }\n",
              "  }\n",
              "</style>\n",
              "\n",
              "  <script>\n",
              "    async function quickchart(key) {\n",
              "      const quickchartButtonEl =\n",
              "        document.querySelector('#' + key + ' button');\n",
              "      quickchartButtonEl.disabled = true;  // To prevent multiple clicks.\n",
              "      quickchartButtonEl.classList.add('colab-df-spinner');\n",
              "      try {\n",
              "        const charts = await google.colab.kernel.invokeFunction(\n",
              "            'suggestCharts', [key], {});\n",
              "      } catch (error) {\n",
              "        console.error('Error during call to suggestCharts:', error);\n",
              "      }\n",
              "      quickchartButtonEl.classList.remove('colab-df-spinner');\n",
              "      quickchartButtonEl.classList.add('colab-df-quickchart-complete');\n",
              "    }\n",
              "    (() => {\n",
              "      let quickchartButtonEl =\n",
              "        document.querySelector('#df-c3963595-542a-48cd-ad04-8a34ea3d6a4a button');\n",
              "      quickchartButtonEl.style.display =\n",
              "        google.colab.kernel.accessAllowed ? 'block' : 'none';\n",
              "    })();\n",
              "  </script>\n",
              "</div>\n",
              "\n",
              "    </div>\n",
              "  </div>\n"
            ],
            "application/vnd.google.colaboratory.intrinsic+json": {
              "type": "dataframe",
              "summary": "{\n  \"name\": \"df\",\n  \"rows\": 8,\n  \"fields\": [\n    {\n      \"column\": \"Close\",\n      \"properties\": {\n        \"dtype\": \"number\",\n        \"std\": 428767.6709209503,\n        \"min\": 58.0,\n        \"max\": 1225000.0,\n        \"num_unique_values\": 8,\n        \"samples\": [\n          17756.78788939447,\n          5050.0,\n          2857.0\n        ],\n        \"semantic_type\": \"\",\n        \"description\": \"\"\n      }\n    },\n    {\n      \"column\": \"ChangeCode\",\n      \"properties\": {\n        \"dtype\": \"number\",\n        \"std\": 1009.5493803539827,\n        \"min\": 0.0,\n        \"max\": 2857.0,\n        \"num_unique_values\": 7,\n        \"samples\": [\n          2857.0,\n          1.303815190759538,\n          2.0\n        ],\n        \"semantic_type\": \"\",\n        \"description\": \"\"\n      }\n    },\n    {\n      \"column\": \"Changes\",\n      \"properties\": {\n        \"dtype\": \"number\",\n        \"std\": 50701.83802101005,\n        \"min\": -136000.0,\n        \"max\": 28000.0,\n        \"num_unique_values\": 8,\n        \"samples\": [\n          125.70948547427372,\n          30.0,\n          2857.0\n        ],\n        \"semantic_type\": \"\",\n        \"description\": \"\"\n      }\n    },\n    {\n      \"column\": \"ChagesRatio\",\n      \"properties\": {\n        \"dtype\": \"number\",\n        \"std\": 1010.336317404101,\n        \"min\": -39.44,\n        \"max\": 2857.0,\n        \"num_unique_values\": 8,\n        \"samples\": [\n          1.4000070003500173,\n          0.86,\n          2857.0\n        ],\n        \"semantic_type\": \"\",\n        \"description\": \"\"\n      }\n    },\n    {\n      \"column\": \"Open\",\n      \"properties\": {\n        \"dtype\": \"number\",\n        \"std\": 471194.4623406792,\n        \"min\": 0.0,\n        \"max\": 1345000.0,\n        \"num_unique_values\": 8,\n        \"samples\": [\n          17445.80854042702,\n          4790.0,\n          2857.0\n        ],\n        \"semantic_type\": \"\",\n        \"description\": \"\"\n      }\n    },\n    {\n      \"column\": \"High\",\n      \"properties\": {\n        \"dtype\": \"number\",\n        \"std\": 480645.2789010772,\n        \"min\": 0.0,\n        \"max\": 1372000.0,\n        \"num_unique_values\": 8,\n        \"samples\": [\n          17890.187259362967,\n          4900.0,\n          2857.0\n        ],\n        \"semantic_type\": \"\",\n        \"description\": \"\"\n      }\n    },\n    {\n      \"column\": \"Low\",\n      \"properties\": {\n        \"dtype\": \"number\",\n        \"std\": 427829.05456798745,\n        \"min\": 0.0,\n        \"max\": 1222000.0,\n        \"num_unique_values\": 8,\n        \"samples\": [\n          17147.857892894644,\n          4700.0,\n          2857.0\n        ],\n        \"semantic_type\": \"\",\n        \"description\": \"\"\n      }\n    },\n    {\n      \"column\": \"Volume\",\n      \"properties\": {\n        \"dtype\": \"number\",\n        \"std\": 20821524.96650179,\n        \"min\": 0.0,\n        \"max\": 59321102.0,\n        \"num_unique_values\": 8,\n        \"samples\": [\n          518073.989499475,\n          61104.0,\n          2857.0\n        ],\n        \"semantic_type\": \"\",\n        \"description\": \"\"\n      }\n    },\n    {\n      \"column\": \"Amount\",\n      \"properties\": {\n        \"dtype\": \"number\",\n        \"std\": 313252132251.23773,\n        \"min\": 0.0,\n        \"max\": 890639761200.0,\n        \"num_unique_values\": 8,\n        \"samples\": [\n          5473555524.7808895,\n          293752030.0,\n          2857.0\n        ],\n        \"semantic_type\": \"\",\n        \"description\": \"\"\n      }\n    },\n    {\n      \"column\": \"Marcap\",\n      \"properties\": {\n        \"dtype\": \"number\",\n        \"std\": 117993507704318.31,\n        \"min\": 2857.0,\n        \"max\": 334904801055000.0,\n        \"num_unique_values\": 8,\n        \"samples\": [\n          837379138910.8499,\n          96260186370.0,\n          2857.0\n        ],\n        \"semantic_type\": \"\",\n        \"description\": \"\"\n      }\n    },\n    {\n      \"column\": \"Stocks\",\n      \"properties\": {\n        \"dtype\": \"number\",\n        \"std\": 2098622638.3815727,\n        \"min\": 2857.0,\n        \"max\": 5969782550.0,\n        \"num_unique_values\": 8,\n        \"samples\": [\n          41856512.67728386,\n          19712800.0,\n          2857.0\n        ],\n        \"semantic_type\": \"\",\n        \"description\": \"\"\n      }\n    }\n  ]\n}"
            }
          },
          "metadata": {},
          "execution_count": 10
        }
      ],
      "source": [
        "# describe 로 기술통계값을 봅니다.\n",
        "df.describe()"
      ]
    },
    {
      "cell_type": "code",
      "execution_count": 13,
      "metadata": {
        "colab": {
          "base_uri": "https://localhost:8080/",
          "height": 617
        },
        "id": "axx4dBMEmTj6",
        "outputId": "dc409f8b-1a97-4ff7-ee1b-cc5dd4ff5d99"
      },
      "outputs": [
        {
          "output_type": "execute_result",
          "data": {
            "text/plain": [
              "Code           2857\n",
              "ISU_CD         2857\n",
              "Name           2857\n",
              "Market            4\n",
              "Dept              9\n",
              "Close          1955\n",
              "ChangeCode        6\n",
              "Changes         435\n",
              "ChagesRatio     953\n",
              "Open           1921\n",
              "High           1909\n",
              "Low            1913\n",
              "Volume         2688\n",
              "Amount         2732\n",
              "Marcap         2854\n",
              "Stocks         2763\n",
              "MarketId          3\n",
              "dtype: int64"
            ],
            "text/html": [
              "<div>\n",
              "<style scoped>\n",
              "    .dataframe tbody tr th:only-of-type {\n",
              "        vertical-align: middle;\n",
              "    }\n",
              "\n",
              "    .dataframe tbody tr th {\n",
              "        vertical-align: top;\n",
              "    }\n",
              "\n",
              "    .dataframe thead th {\n",
              "        text-align: right;\n",
              "    }\n",
              "</style>\n",
              "<table border=\"1\" class=\"dataframe\">\n",
              "  <thead>\n",
              "    <tr style=\"text-align: right;\">\n",
              "      <th></th>\n",
              "      <th>0</th>\n",
              "    </tr>\n",
              "  </thead>\n",
              "  <tbody>\n",
              "    <tr>\n",
              "      <th>Code</th>\n",
              "      <td>2857</td>\n",
              "    </tr>\n",
              "    <tr>\n",
              "      <th>ISU_CD</th>\n",
              "      <td>2857</td>\n",
              "    </tr>\n",
              "    <tr>\n",
              "      <th>Name</th>\n",
              "      <td>2857</td>\n",
              "    </tr>\n",
              "    <tr>\n",
              "      <th>Market</th>\n",
              "      <td>4</td>\n",
              "    </tr>\n",
              "    <tr>\n",
              "      <th>Dept</th>\n",
              "      <td>9</td>\n",
              "    </tr>\n",
              "    <tr>\n",
              "      <th>Close</th>\n",
              "      <td>1955</td>\n",
              "    </tr>\n",
              "    <tr>\n",
              "      <th>ChangeCode</th>\n",
              "      <td>6</td>\n",
              "    </tr>\n",
              "    <tr>\n",
              "      <th>Changes</th>\n",
              "      <td>435</td>\n",
              "    </tr>\n",
              "    <tr>\n",
              "      <th>ChagesRatio</th>\n",
              "      <td>953</td>\n",
              "    </tr>\n",
              "    <tr>\n",
              "      <th>Open</th>\n",
              "      <td>1921</td>\n",
              "    </tr>\n",
              "    <tr>\n",
              "      <th>High</th>\n",
              "      <td>1909</td>\n",
              "    </tr>\n",
              "    <tr>\n",
              "      <th>Low</th>\n",
              "      <td>1913</td>\n",
              "    </tr>\n",
              "    <tr>\n",
              "      <th>Volume</th>\n",
              "      <td>2688</td>\n",
              "    </tr>\n",
              "    <tr>\n",
              "      <th>Amount</th>\n",
              "      <td>2732</td>\n",
              "    </tr>\n",
              "    <tr>\n",
              "      <th>Marcap</th>\n",
              "      <td>2854</td>\n",
              "    </tr>\n",
              "    <tr>\n",
              "      <th>Stocks</th>\n",
              "      <td>2763</td>\n",
              "    </tr>\n",
              "    <tr>\n",
              "      <th>MarketId</th>\n",
              "      <td>3</td>\n",
              "    </tr>\n",
              "  </tbody>\n",
              "</table>\n",
              "</div><br><label><b>dtype:</b> int64</label>"
            ]
          },
          "metadata": {},
          "execution_count": 13
        }
      ],
      "source": [
        "# 중복을 제외한 unique 값의 갯수를 봅니다.\n",
        "df.nunique()"
      ]
    },
    {
      "cell_type": "code",
      "execution_count": null,
      "metadata": {
        "id": "A0xPV7himTj6"
      },
      "outputs": [],
      "source": []
    },
    {
      "cell_type": "code",
      "execution_count": 14,
      "metadata": {
        "scrolled": true,
        "colab": {
          "base_uri": "https://localhost:8080/"
        },
        "id": "FWjuUABRmTj6",
        "outputId": "8ad7e56a-373f-4b39-df39-66cf0ad11ade"
      },
      "outputs": [
        {
          "output_type": "execute_result",
          "data": {
            "text/plain": [
              "RangeIndex(start=0, stop=2857, step=1)"
            ]
          },
          "metadata": {},
          "execution_count": 14
        }
      ],
      "source": [
        "# index 값 보기\n",
        "df.index"
      ]
    },
    {
      "cell_type": "code",
      "execution_count": 17,
      "metadata": {
        "colab": {
          "base_uri": "https://localhost:8080/"
        },
        "id": "2ZdTnaBTmTj7",
        "outputId": "f4db5157-4b8e-46a4-add1-98cd31cac545"
      },
      "outputs": [
        {
          "output_type": "execute_result",
          "data": {
            "text/plain": [
              "Index(['Code', 'ISU_CD', 'Name', 'Market', 'Dept', 'Close', 'ChangeCode',\n",
              "       'Changes', 'ChagesRatio', 'Open', 'High', 'Low', 'Volume', 'Amount',\n",
              "       'Marcap', 'Stocks', 'MarketId'],\n",
              "      dtype='object')"
            ]
          },
          "metadata": {},
          "execution_count": 17
        }
      ],
      "source": [
        "# 컬럼값 보기\n",
        "df.columns"
      ]
    },
    {
      "cell_type": "code",
      "execution_count": 18,
      "metadata": {
        "colab": {
          "base_uri": "https://localhost:8080/"
        },
        "id": "f0VEz9AamTj7",
        "outputId": "c4be0b91-3a49-48a4-c9a7-15860a7b3e86"
      },
      "outputs": [
        {
          "output_type": "execute_result",
          "data": {
            "text/plain": [
              "array([['005930', 'KR7005930003', '삼성전자', ..., 334904801055000,\n",
              "        5969782550, 'STK'],\n",
              "       ['000660', 'KR7000660001', 'SK하이닉스', ..., 127764415057500,\n",
              "        728002365, 'STK'],\n",
              "       ['373220', 'KR7373220003', 'LG에너지솔루션', ..., 93600000000000,\n",
              "        234000000, 'STK'],\n",
              "       ...,\n",
              "       ['288490', 'KR7288490006', '나라소프트', ..., 1013351466, 17471577,\n",
              "        'KNX'],\n",
              "       ['308700', 'KR7308700004', '테크엔', ..., 796000000, 4000000, 'KNX'],\n",
              "       ['413300', 'KR7413300005', '티엘엔지니어링', ..., 718033250, 1305515,\n",
              "        'KNX']], dtype=object)"
            ]
          },
          "metadata": {},
          "execution_count": 18
        }
      ],
      "source": [
        "# 값만 보기\n",
        "df.values"
      ]
    },
    {
      "cell_type": "markdown",
      "metadata": {
        "id": "oM_N-tOymTj8"
      },
      "source": [
        "## 데이터 색인하기\n",
        "\n",
        "### Series\n",
        "<img src=\"https://pandas.pydata.org/docs/_images/01_table_series.svg\">"
      ]
    },
    {
      "cell_type": "code",
      "execution_count": null,
      "metadata": {
        "id": "E8zUwvVSmTj8"
      },
      "outputs": [],
      "source": [
        "# Name 컬럼 하나만 가져옵니다.\n"
      ]
    },
    {
      "cell_type": "code",
      "execution_count": null,
      "metadata": {
        "id": "vC-bvCtTmTj9"
      },
      "outputs": [],
      "source": [
        "# df[\"Name\"] 의 type을 봅니다.\n"
      ]
    },
    {
      "cell_type": "code",
      "execution_count": null,
      "metadata": {
        "id": "79-_lBf3mTj9"
      },
      "outputs": [],
      "source": [
        "# 0번째 행만 가져옵니다. 행인덱스를 가져올때는 .loc를 사용합니다.\n",
        "# loc는 위치(locate)를 의미합니다.\n"
      ]
    },
    {
      "cell_type": "code",
      "execution_count": null,
      "metadata": {
        "id": "VeIwp-1fmTj9"
      },
      "outputs": [],
      "source": [
        "# df.loc[0] 의 type을 봅니다.\n"
      ]
    },
    {
      "cell_type": "markdown",
      "metadata": {
        "id": "E7lnmwxTmTj-"
      },
      "source": [
        "### DataFrame\n",
        "<img src=\"https://pandas.pydata.org/docs/_images/01_table_dataframe.svg\">"
      ]
    },
    {
      "cell_type": "code",
      "execution_count": null,
      "metadata": {
        "id": "DFmmJrbimTj-"
      },
      "outputs": [],
      "source": [
        "# df 변수의 타입을 봅니다.\n"
      ]
    },
    {
      "cell_type": "code",
      "execution_count": null,
      "metadata": {
        "id": "6NBKknMbmTj-"
      },
      "outputs": [],
      "source": [
        "# 여러 컬럼을 지정할 때는 리스트 형태로 묶어주어야 합니다.\n",
        "# 2차원 행렬은 대괄호가 [] 2개가 있다는 것을 기억해 주세요.\n"
      ]
    },
    {
      "cell_type": "code",
      "execution_count": null,
      "metadata": {
        "id": "TpjGh3GEmTj_"
      },
      "outputs": [],
      "source": [
        "# 여러 개의 행을 가져올 때도 [] 대괄호를 통해 리스트 형태로 묶어줍니다.\n"
      ]
    },
    {
      "cell_type": "code",
      "execution_count": null,
      "metadata": {
        "id": "1LwMPUQTmTj_"
      },
      "outputs": [],
      "source": [
        "# 1개의 컬럼을 가져올 때도 대괄호[] 2개를 써서 리스트 형태로 묶어주게 되면 데이터프레임 형태로 반환됩니다.\n",
        "# \"Name\" 을 데이터프레임으로 가져옵니다.\n"
      ]
    },
    {
      "cell_type": "code",
      "execution_count": null,
      "metadata": {
        "id": "MPXxqW_vmTj_"
      },
      "outputs": [],
      "source": []
    },
    {
      "cell_type": "markdown",
      "metadata": {
        "id": "c7cC3AAsmTj_"
      },
      "source": [
        "### loc를 통한 서브셋 가져오기\n",
        "<img src=\"https://pandas.pydata.org/pandas-docs/stable/_images/03_subset_columns_rows.svg\">"
      ]
    },
    {
      "cell_type": "code",
      "execution_count": null,
      "metadata": {
        "id": "TF5tU67mmTkA"
      },
      "outputs": [],
      "source": [
        "# 행과 열 함께 가져오기\n",
        "# .loc[행, 열]\n"
      ]
    },
    {
      "cell_type": "code",
      "execution_count": null,
      "metadata": {
        "id": "T6l298xwmTkA"
      },
      "outputs": [],
      "source": [
        "# .loc[행, 열]\n"
      ]
    },
    {
      "cell_type": "code",
      "execution_count": null,
      "metadata": {
        "id": "vEa7GpiEmTkA"
      },
      "outputs": [],
      "source": [
        "# %timeit\n"
      ]
    },
    {
      "cell_type": "code",
      "execution_count": null,
      "metadata": {
        "id": "MV19kxPumTkB"
      },
      "outputs": [],
      "source": [
        "# %timeit\n"
      ]
    },
    {
      "cell_type": "code",
      "execution_count": null,
      "metadata": {
        "id": "7LeCEu_ImTkB"
      },
      "outputs": [],
      "source": [
        "# 여러 개의 행과 하나의 컬럼 가져오기\n",
        "# .loc[행, 열]\n"
      ]
    },
    {
      "cell_type": "code",
      "execution_count": null,
      "metadata": {
        "id": "df-ivWcQmTkB"
      },
      "outputs": [],
      "source": [
        "# 여러개의 행과 여러 개의 컬럼 가져오기\n",
        "# .loc[행, 열]\n"
      ]
    },
    {
      "cell_type": "markdown",
      "metadata": {
        "id": "sf9KSg-EmTkC"
      },
      "source": [
        "### Boolean Indexing\n",
        "* 결과값이 True, False bool 형태로 반환되기 때문에 boolean indexing 이라고 부릅니다.\n",
        "* boolean indexing 을 사용해 특정 조건식을 만족하는 데이터를 서브셋으로 가져옵니다.\n",
        "\n",
        "<img src=\"https://pandas.pydata.org/docs/_images/03_subset_rows.svg\">"
      ]
    },
    {
      "cell_type": "code",
      "execution_count": null,
      "metadata": {
        "id": "b0aguC8umTkC"
      },
      "outputs": [],
      "source": [
        "# 카카오를 찾습니다.\n"
      ]
    },
    {
      "cell_type": "markdown",
      "metadata": {
        "id": "dhrLQ5nqmTkC"
      },
      "source": [
        "<img src=\"https://pandas.pydata.org/pandas-docs/stable/_images/03_subset_columns_rows.svg\">"
      ]
    },
    {
      "cell_type": "code",
      "execution_count": null,
      "metadata": {
        "id": "CqdslDZCmTkC"
      },
      "outputs": [],
      "source": [
        "# and => &\n",
        "# or => |\n",
        "True and False"
      ]
    },
    {
      "cell_type": "code",
      "execution_count": null,
      "metadata": {
        "id": "HnRpa4lYmTkD"
      },
      "outputs": [],
      "source": [
        "# 서울특별시에 소재지를 두고 있는 KOSPI 종목의 종목명과 심볼을 가져옵니다.\n",
        "# .loc[행, 열]\n",
        "# .loc[조건식, 열]\n",
        "# df.loc[(df[\"Region\"] == \"서울특별시\") & (df[\"Market\"] == \"KOSPI\"), [\"Symbol\", \"Name\"]]\n",
        "\n"
      ]
    },
    {
      "cell_type": "markdown",
      "metadata": {
        "id": "rWqJJpsJmTkD"
      },
      "source": [
        "## 파생변수 만들기"
      ]
    },
    {
      "cell_type": "code",
      "execution_count": null,
      "metadata": {
        "id": "jR_fRw0vmTkE"
      },
      "outputs": [],
      "source": [
        "# pd.to_datetime 을 통해 데이터의 타입을 변환합니다.\n"
      ]
    },
    {
      "cell_type": "code",
      "execution_count": null,
      "metadata": {
        "id": "1Mx4d--emTkE"
      },
      "outputs": [],
      "source": [
        "# ListingYear 파생변수 만들기\n"
      ]
    },
    {
      "cell_type": "code",
      "execution_count": null,
      "metadata": {
        "id": "Hie2CnCjmTkE"
      },
      "outputs": [],
      "source": [
        "# nan은 not a number의 약자로 결측치를 의미합니다.\n"
      ]
    },
    {
      "cell_type": "code",
      "execution_count": null,
      "metadata": {
        "id": "qFY3jdwtmTkE"
      },
      "outputs": [],
      "source": []
    },
    {
      "cell_type": "markdown",
      "metadata": {
        "id": "w0JKISkKmTkF"
      },
      "source": [
        "## 데이터 시각화 툴 소개\n",
        "\n",
        "### matplotlib\n",
        "* [Anatomy of a figure — Matplotlib documentation](https://matplotlib.org/3.1.1/gallery/showcase/anatomy.html)\n",
        "\n",
        "### seaborn\n",
        "* [seaborn: statistical data visualization — seaborn documentation](https://seaborn.pydata.org/index.html)\n",
        "\n",
        "### pandas\n",
        "* [Visualization — pandas documentation](https://pandas.pydata.org/pandas-docs/stable/user_guide/visualization.html)"
      ]
    },
    {
      "cell_type": "markdown",
      "metadata": {
        "id": "d2VrC03nmTkF"
      },
      "source": [
        "## 데이터 시각화를 위한 폰트설정"
      ]
    },
    {
      "cell_type": "code",
      "execution_count": null,
      "metadata": {
        "id": "7BHgO4QWmTkF"
      },
      "outputs": [],
      "source": [
        "def get_font_family():\n",
        "    \"\"\"\n",
        "    시스템 환경에 따른 기본 폰트명을 반환하는 함수\n",
        "    \"\"\"\n",
        "    import platform\n",
        "    system_name = platform.system()\n",
        "    # colab 사용자는 system_name이 'Linux'로 확인\n",
        "\n",
        "    if system_name == \"Darwin\" :\n",
        "        font_family = \"AppleGothic\"\n",
        "    elif system_name == \"Windows\":\n",
        "        font_family = \"Malgun Gothic\"\n",
        "    else:\n",
        "        !apt-get install fonts-nanum -qq  > /dev/null\n",
        "        !fc-cache -fv\n",
        "\n",
        "        import matplotlib as mpl\n",
        "        mpl.font_manager._rebuild()\n",
        "        findfont = mpl.font_manager.fontManager.findfont\n",
        "        mpl.font_manager.findfont = findfont\n",
        "        mpl.backends.backend_agg.findfont = findfont\n",
        "\n",
        "        font_family = \"NanumBarunGothic\"\n",
        "    return font_family"
      ]
    },
    {
      "cell_type": "code",
      "execution_count": null,
      "metadata": {
        "id": "qVW89c-TmTkG"
      },
      "outputs": [],
      "source": [
        "# 위에서 만든 함수를 통해 시스템 폰트를 불러옵니다.\n",
        "get_font_family()"
      ]
    },
    {
      "cell_type": "code",
      "execution_count": null,
      "metadata": {
        "id": "oYqiiU1xmTkG"
      },
      "outputs": [],
      "source": [
        "# 시각화를 위한 폰트설정\n",
        "# 위에서 만든 함수를 통해 시스템 폰트를 불러와서 font_family 라는 변수에 할당합니다.\n",
        "\n",
        "# 폰트설정\n",
        "\n",
        "# 마이너스폰트 설정\n",
        "\n",
        "\n",
        "# ggplot으로 그래프 스타일 설정\n",
        "\n",
        "# 그래프에 retina display 적용\n"
      ]
    },
    {
      "cell_type": "markdown",
      "metadata": {
        "id": "I08haHsHmTkH"
      },
      "source": [
        "### 폰트 설정 확인하기"
      ]
    },
    {
      "cell_type": "code",
      "execution_count": null,
      "metadata": {
        "scrolled": false,
        "id": "XBYFJ_aomTkH"
      },
      "outputs": [],
      "source": [
        "# 한글폰트 확인하기\n"
      ]
    },
    {
      "cell_type": "markdown",
      "metadata": {
        "id": "prOQEe4OmTkH"
      },
      "source": [
        "## 한 개의 변수 빈도수 구하고 시각화 하기\n",
        "* Keyword\n",
        "\n",
        "    * Series.value_counts()\n",
        "    * Series.value_counts().plot()\n",
        "    * Series.value_counts().plot.bar()\n",
        "    * Series.value_counts().plot.barh()\n",
        "    * sns.countplot()\n",
        "\n",
        "### Market\n",
        "\n",
        "* KOSPI (Korea Composite Stock Price Index)\n",
        "    * 우리나라의 종합주가지수(KOSPI)는 증권거래소가 1964.1.4일을 기준시점으로 다우존스식 주가평균을 지수화한 수정주가 평균지수를 산출, 발표하기 시작하였다. 다우존스식 주가지수는 주가지수를 구성하는 상장종목 중 일부 우량주만을 선정하여 산출하는 방식이다. 시가총액식 주가지수는 일정시점의 시가총액과 현재시점의 시가총액을 대비, 현재의 주가수준을 판단하는 방식이다. 즉, 지난 1980년 1월 4일 기준 상장종목 전체의 시가총액을 100으로 보고 현재 상장종목들의 시가총액이 어느 수준에 놓여 있는지를 보여주는 시스템이다.\n",
        "    * 종합주가지수 = (비교시점의 시가총액 ÷ 기준시점의 시가총액) × 100\n",
        "    * 출처 : [네이버 지식백과] 종합주가지수 (시사상식사전, pmg 지식엔진연구소) https://terms.naver.com/entry.nhn?docId=72147&cid=43667&categoryId=43667\n",
        "\n",
        "\n",
        "* KOSDAQ (Korea Securities Dealers Automated Quotation)\n",
        "    * 미국의 나스닥(NASDAQ)을 한국식으로 합성한 용어로 1996년 7월 1일 증권업협회와 증권사들이 설립한 코스닥증권(주)에 의하여 개설되었다. 코스닥의 개장으로 단순히 증권거래소 상장을 위한 예비적 단계였던 장외시장이 미국의 나스닥(NASDAQ)과 같이 자금조달 및 투자시장으로 독립적인 역할을 수행하게 되었다. 이후 2005년 1월 유가증권시장, 코스닥시장, 선물시장이 증권선물거래소(현 한국거래소)로 통합됨에 따라 코스닥시장도 거래소가 개설한 정규시장으로 편입되었다. 코스닥은 유가증권시장에 비해 진입요건이 상대적으로 덜 까다롭기 때문에 주로 중소벤처기업들이 상장되어 있다.\n",
        "    * 출처 : [네이버 지식백과] KOSDAQ (매일경제, 매경닷컴) https://terms.naver.com/entry.nhn?docId=18639&cid=43659&categoryId=43659\n",
        "\n",
        "\n",
        "* KONEX(Korea New Exchange) :\n",
        "    * 일정 요건을 갖춘 비상장 기업에 문호를 개방하기 위해 개설하는 유가증권시장, 코스닥시장에 이은 제3의 주식시장을 일컫는다. 코넥스시장은 우수한 기술력을 보유하고 있음에도 불구하고, 짧은 경력 등을 이유로 자금 조달에 어려움을 겪는 초기 중소기업과 벤처기업이 자금을 원활하게 조달할 수 있도록 하기 위해 설립된 자본시장으로, 2013년 7월 1일 개장되었다.\n",
        "    * 출처 : [네이버 지식백과] 코넥스 (시사상식사전, pmg 지식엔진연구소) https://terms.naver.com/entry.nhn?docId=1006691&cid=43667&categoryId=43667"
      ]
    },
    {
      "cell_type": "code",
      "execution_count": null,
      "metadata": {
        "scrolled": false,
        "id": "9NmIczXsmTkH"
      },
      "outputs": [],
      "source": [
        "# Market column에 어떤 데이터들이 있는지 unique로 확인합니다.\n"
      ]
    },
    {
      "cell_type": "code",
      "execution_count": null,
      "metadata": {
        "id": "zqqf4Yo0mTkI"
      },
      "outputs": [],
      "source": [
        "# value_counts()로 빈도수를 구합니다.\n"
      ]
    },
    {
      "cell_type": "code",
      "execution_count": null,
      "metadata": {
        "id": "MIvtRpnYmTkI"
      },
      "outputs": [],
      "source": [
        "# 빈도수를 시각화 합니다.\n"
      ]
    },
    {
      "cell_type": "code",
      "execution_count": null,
      "metadata": {
        "id": "pIY5ky05mTkI"
      },
      "outputs": [],
      "source": [
        "# Seaborn countplot 활용하여 빈도수를 표현합니다.\n"
      ]
    },
    {
      "cell_type": "markdown",
      "metadata": {
        "id": "zlPQR-ATmTkJ"
      },
      "source": [
        "### Sector"
      ]
    },
    {
      "cell_type": "code",
      "execution_count": null,
      "metadata": {
        "id": "EjuM5ZAwmTkJ"
      },
      "outputs": [],
      "source": [
        "# 섹터의 빈도수를 구합니다.\n",
        "# 상위 30개 섹터의 빈도수를 sector_count_top 변수에 할당합니다.\n",
        "# sector_count_top\n"
      ]
    },
    {
      "cell_type": "code",
      "execution_count": null,
      "metadata": {
        "id": "RsDTN8UwmTkJ"
      },
      "outputs": [],
      "source": [
        "# df_sector_30"
      ]
    },
    {
      "cell_type": "code",
      "execution_count": null,
      "metadata": {
        "id": "EVCYsQdemTkJ"
      },
      "outputs": [],
      "source": [
        "# Seaborn countplot 활용하여 빈도수를 표현합니다.\n"
      ]
    },
    {
      "cell_type": "code",
      "execution_count": null,
      "metadata": {
        "id": "pgCKSh8NmTkK"
      },
      "outputs": [],
      "source": [
        "print(plt.colormaps())"
      ]
    },
    {
      "cell_type": "code",
      "execution_count": null,
      "metadata": {
        "id": "pJ_-f2fTmTkK"
      },
      "outputs": [],
      "source": [
        "# 빈도수가 가장 많은 데이터 색인하기\n"
      ]
    },
    {
      "cell_type": "markdown",
      "metadata": {
        "id": "hyZh4rbfmTkK"
      },
      "source": [
        "### Industry"
      ]
    },
    {
      "cell_type": "code",
      "execution_count": null,
      "metadata": {
        "id": "gkdO9uermTkK"
      },
      "outputs": [],
      "source": [
        "# Industry 의 빈도수를 구합니다.\n",
        "# industry_top30"
      ]
    },
    {
      "cell_type": "code",
      "execution_count": null,
      "metadata": {
        "scrolled": false,
        "id": "b4iPCtudmTkL"
      },
      "outputs": [],
      "source": [
        "# Industry 빈도수를 pandas 의 plot 기능을 사용해 시각화 합니다.\n"
      ]
    },
    {
      "cell_type": "code",
      "execution_count": null,
      "metadata": {
        "id": "E4ZR10PnmTkL"
      },
      "outputs": [],
      "source": [
        "# df[df[\"Industry\"].isin(industry_top30.index)]"
      ]
    },
    {
      "cell_type": "code",
      "execution_count": null,
      "metadata": {
        "id": "4yukvUCGmTkM"
      },
      "outputs": [],
      "source": [
        "# seaborn\n"
      ]
    },
    {
      "cell_type": "markdown",
      "metadata": {
        "id": "Vn7oz_H8mTkM"
      },
      "source": [
        "### Region"
      ]
    },
    {
      "cell_type": "code",
      "execution_count": null,
      "metadata": {
        "id": "SfptkqM_mTkM"
      },
      "outputs": [],
      "source": [
        "# Region 의 빈도수를 구합니다.\n",
        "# value_counts()통해 지역별 상장회사의 빈도수를 봅니다.\n"
      ]
    },
    {
      "cell_type": "code",
      "execution_count": null,
      "metadata": {
        "id": "bzmIpdg6mTkN"
      },
      "outputs": [],
      "source": [
        "# df[\"Region\"]\n"
      ]
    },
    {
      "cell_type": "code",
      "execution_count": null,
      "metadata": {
        "id": "T5AO4xKpmTkN"
      },
      "outputs": [],
      "source": [
        "# Region 의 빈도수를 seaborn 의 countplot 으로 그립니다.\n"
      ]
    },
    {
      "cell_type": "code",
      "execution_count": null,
      "metadata": {
        "id": "D-7IhNlomTkN"
      },
      "outputs": [],
      "source": [
        "# order 기능을 통해 빈도수를 정렬합니다.\n",
        "# df[\"Region\"].value_counts().index 로 Region 의 순서를 가져와서 지정합니다.\n"
      ]
    },
    {
      "cell_type": "code",
      "execution_count": null,
      "metadata": {
        "id": "aHTgKOMfmTkN"
      },
      "outputs": [],
      "source": [
        "# Region 을 기준으로 정렬합니다.\n"
      ]
    },
    {
      "cell_type": "markdown",
      "metadata": {
        "id": "RwyQNtOBmTkN"
      },
      "source": [
        "## 두 개의 변수 빈도수 구하고 시각화 하기\n",
        "* crosstab 으로 빈도수 구하기\n",
        "* seaborn의 countplot 으로 빈도수 시각화\n",
        "* pandas의 plot 기능으로 시각화\n",
        "    * lineplot : 연속된 데이터(숫자, 기간)\n",
        "    * barplot : 비연속 데이터(범주형)\n",
        "    * hist : 연속된 수치 데이터의 범주화"
      ]
    },
    {
      "cell_type": "markdown",
      "metadata": {
        "id": "XL0KBxNrmTkN"
      },
      "source": [
        "### 지역별 상장 시장 종목 빈도수 구하기\n",
        "* pd.crosstab 을 통한 2개의 변수에 대한 빈도수 구하기"
      ]
    },
    {
      "cell_type": "code",
      "execution_count": null,
      "metadata": {
        "id": "oPp-0VRNmTkO"
      },
      "outputs": [],
      "source": [
        "# pd.crosstab 을 통한 2개의 변수에 대한 빈도수 구하기\n",
        "# Market 과 Region 으로 빈도수 구하기\n"
      ]
    },
    {
      "cell_type": "code",
      "execution_count": null,
      "metadata": {
        "id": "axj-zHHbmTkP"
      },
      "outputs": [],
      "source": [
        "# countplot : Market 과 Region 으로 빈도수 시각화 하기\n"
      ]
    },
    {
      "cell_type": "markdown",
      "metadata": {
        "id": "yEng51RTmTkP"
      },
      "source": [
        "### 연도별 상장 종목 빈도수 분석"
      ]
    },
    {
      "cell_type": "code",
      "execution_count": null,
      "metadata": {
        "id": "4qWMHTcumTkP"
      },
      "outputs": [],
      "source": [
        "# Market, ListingYear 빈도수 구하기\n",
        "# market_year"
      ]
    },
    {
      "cell_type": "markdown",
      "metadata": {
        "id": "m87RK5u9mTkP"
      },
      "source": [
        "### seaborn을 통한 빈도수 시각화"
      ]
    },
    {
      "cell_type": "code",
      "execution_count": null,
      "metadata": {
        "id": "Ip6lyO1xmTkP"
      },
      "outputs": [],
      "source": [
        "# Seaborn countplot 활용하여 빈도수를 표현합니다.\n",
        "# hue 를 사용해 다른 변수를 함께 표현합니다. hue는 색상을 의미합니다.\n"
      ]
    },
    {
      "cell_type": "markdown",
      "metadata": {
        "id": "Ovv9-7DKmTkQ"
      },
      "source": [
        "### Pandas를 통한 시각화"
      ]
    },
    {
      "cell_type": "code",
      "execution_count": null,
      "metadata": {
        "id": "pS2Xgng5mTkQ"
      },
      "outputs": [],
      "source": [
        "# Pandas plot 기능 활용하여 기본 그래프(line)를 그립니다.\n",
        "# Pandas plot으로 그릴 때 x축에 인덱스 값이 y축에는 컬럼에 있는 값이 들어갑니다.\n",
        "# 컬럼이 여러개라면 다른 색상으로 그려집니다.\n"
      ]
    },
    {
      "cell_type": "code",
      "execution_count": null,
      "metadata": {
        "id": "6UqDz9ZlmTkQ"
      },
      "outputs": [],
      "source": [
        "# 컬럼값을 subplots 으로 그립니다.\n"
      ]
    },
    {
      "cell_type": "code",
      "execution_count": null,
      "metadata": {
        "id": "ZhFBrNbImTkQ"
      },
      "outputs": [],
      "source": [
        "# Pandas plot 기능 활용하여 막대 그래프(bar, barh)를 그립니다.\n"
      ]
    },
    {
      "cell_type": "code",
      "execution_count": null,
      "metadata": {
        "id": "8giQh7ypmTkR"
      },
      "outputs": [],
      "source": [
        "# 컬럼명의 데이터 타입을 int 형태로 변경합니다.\n",
        "# market_year.columns\n"
      ]
    },
    {
      "cell_type": "code",
      "execution_count": null,
      "metadata": {
        "id": "cf1WuRhemTkR"
      },
      "outputs": [],
      "source": [
        "# 막대(bar)그래프 그리기\n",
        "# market_year\n"
      ]
    },
    {
      "cell_type": "markdown",
      "metadata": {
        "id": "6qLx9whlmTkR"
      },
      "source": [
        "### groupby 와 pivot_table로 빈도수 구하기\n",
        "<img src=\"https://pandas.pydata.org/pandas-docs/stable/_images/06_valuecounts.svg\">\n",
        "\n",
        "* [How to calculate summary statistics? — pandas documentation](https://pandas.pydata.org/pandas-docs/stable/getting_started/intro_tutorials/06_calculate_statistics.html)\n",
        "* [Group by: split-apply-combine — pandas documentation](https://pandas.pydata.org/pandas-docs/stable/user_guide/groupby.html)\n",
        "* [pandas.pivot_table — pandas 1.2.0 documentation](https://pandas.pydata.org/pandas-docs/stable/reference/api/pandas.pivot_table.html)"
      ]
    },
    {
      "cell_type": "code",
      "execution_count": null,
      "metadata": {
        "id": "PubkQg9imTkS"
      },
      "outputs": [],
      "source": [
        "# groupby([인덱스 컬럼 리스트])[연산에 사용할 컬럼].연산()\n",
        "# market_year"
      ]
    },
    {
      "cell_type": "code",
      "execution_count": null,
      "metadata": {
        "id": "qiRgbKlFmTkS"
      },
      "outputs": [],
      "source": []
    },
    {
      "cell_type": "code",
      "execution_count": null,
      "metadata": {
        "id": "-p6YMkMPmTkS"
      },
      "outputs": [],
      "source": [
        "# pivot_table로 같은 결과가 나오게 연산하기\n"
      ]
    },
    {
      "cell_type": "code",
      "execution_count": null,
      "metadata": {
        "id": "N3obQIwSmTkT"
      },
      "outputs": [],
      "source": [
        "# 위의 groupby 결과를 scatterplot으로 그립니다.\n",
        "# df_market_year\n"
      ]
    },
    {
      "cell_type": "code",
      "execution_count": null,
      "metadata": {
        "id": "bSANR6FbmTkT"
      },
      "outputs": [],
      "source": [
        "# lineplot 그리기\n"
      ]
    },
    {
      "cell_type": "code",
      "execution_count": null,
      "metadata": {
        "id": "c89dO_cgmTkU"
      },
      "outputs": [],
      "source": [
        "# relplot으로 subplot 그리기 - scatter\n"
      ]
    },
    {
      "cell_type": "code",
      "execution_count": null,
      "metadata": {
        "id": "nDddAaGomTkU"
      },
      "outputs": [],
      "source": [
        "# relplot으로 subplot 그리기 - line\n"
      ]
    },
    {
      "cell_type": "markdown",
      "metadata": {
        "id": "EnsUtRVJmTkV"
      },
      "source": [
        "### 구간화 binnig 과 히스토그램\n",
        "* 연속된 수치 데이터를 범주형 데이터로 표현, bucketing 이라고 부르기도 함\n",
        "* 히스토그램 : 도수분포를 그래프 형태로 표현한 것\n",
        "* 막대그래프와 비슷해 보이지만 다른 그래프\n",
        "* 참고 : [히스토그램 - 위키백과, 우리 모두의 백과사전](https://ko.wikipedia.org/wiki/%ED%9E%88%EC%8A%A4%ED%86%A0%EA%B7%B8%EB%9E%A8)"
      ]
    },
    {
      "cell_type": "code",
      "execution_count": null,
      "metadata": {
        "id": "s9DOeLtnmTkV"
      },
      "outputs": [],
      "source": []
    },
    {
      "cell_type": "code",
      "execution_count": null,
      "metadata": {
        "id": "dX30HsTrmTkV"
      },
      "outputs": [],
      "source": [
        "# bins 의 갯수에 따라 그래프의 표현 방법이 달라집니다.\n"
      ]
    },
    {
      "cell_type": "code",
      "execution_count": null,
      "metadata": {
        "id": "T9gyp5jJmTkW"
      },
      "outputs": [],
      "source": []
    },
    {
      "cell_type": "markdown",
      "metadata": {
        "id": "H2GMli3emTkW"
      },
      "source": [
        "## 데이터 색인"
      ]
    },
    {
      "cell_type": "code",
      "execution_count": null,
      "metadata": {
        "id": "7s1epDx7mTkW"
      },
      "outputs": [],
      "source": [
        "# 케이맨 제도에 있는 회사 찾기\n"
      ]
    },
    {
      "cell_type": "code",
      "execution_count": null,
      "metadata": {
        "scrolled": false,
        "id": "wVgxchb-mTkX"
      },
      "outputs": [],
      "source": [
        "# 1970년 이전에 상장한 기업을 찾습니다.\n"
      ]
    },
    {
      "cell_type": "code",
      "execution_count": null,
      "metadata": {
        "id": "HN9pBv7tmTkX"
      },
      "outputs": [],
      "source": [
        "# and => &\n",
        "# or  => |\n",
        "True and True"
      ]
    },
    {
      "cell_type": "code",
      "execution_count": null,
      "metadata": {
        "id": "3OBzjnzqmTkY"
      },
      "outputs": [],
      "source": [
        "# 2020년 상장한 서울특별시에 소재한 코스피 종목을 찾습니다.\n"
      ]
    },
    {
      "cell_type": "code",
      "execution_count": null,
      "metadata": {
        "id": "89RUsXeOmTkY"
      },
      "outputs": [],
      "source": []
    },
    {
      "cell_type": "markdown",
      "metadata": {
        "id": "ffdJPSFGmTkY"
      },
      "source": [
        "### 지역별 섹터"
      ]
    },
    {
      "cell_type": "code",
      "execution_count": null,
      "metadata": {
        "id": "xs1bKDB3mTkZ"
      },
      "outputs": [],
      "source": [
        "# Sector, Region 으로 crosstab 연산을 합니다.\n",
        "# df_sr\n"
      ]
    },
    {
      "cell_type": "markdown",
      "metadata": {
        "id": "gVqauqXwmTkZ"
      },
      "source": [
        "### 컬럼과 인덱스 값으로 색인하기"
      ]
    },
    {
      "cell_type": "code",
      "execution_count": null,
      "metadata": {
        "id": "t74wOvXEmTkZ"
      },
      "outputs": [],
      "source": [
        "# 특정 컬럼만 가져오기\n"
      ]
    },
    {
      "cell_type": "markdown",
      "metadata": {
        "id": "YhZ408gimTka"
      },
      "source": [
        "### 특정 행만 가져오기\n",
        "\n",
        "* .loc[행]\n",
        "* .loc[행, 열]\n",
        "* .loc[조건식, 열]"
      ]
    },
    {
      "cell_type": "code",
      "execution_count": null,
      "metadata": {
        "id": "1tloVmKimTka"
      },
      "outputs": [],
      "source": [
        "# df_sr에서 \"소프트웨어 개발 및 공급업\" 행만 가져오기\n"
      ]
    },
    {
      "cell_type": "code",
      "execution_count": null,
      "metadata": {
        "id": "OGG9dbrSmTka"
      },
      "outputs": [],
      "source": [
        "# loc 로 행인덱스 가져오기\n",
        "# 행에서 \"소프트웨어 개발 및 공급업\", \"금융 지원 서비스업\", \"의약품 제조업\" 가져오기\n"
      ]
    },
    {
      "cell_type": "code",
      "execution_count": null,
      "metadata": {
        "id": "PCecpQDDmTkb"
      },
      "outputs": [],
      "source": [
        "# loc 로 행, 컬럼 가져오기\n",
        "# 행에서 \"소프트웨어 개발 및 공급업\", \"금융 지원 서비스업\", \"의약품 제조업\"\n",
        "# 열에서 \"서울특별시\" 가져오기\n",
        "\n"
      ]
    },
    {
      "cell_type": "code",
      "execution_count": null,
      "metadata": {
        "id": "0LK8uN8lmTkb"
      },
      "outputs": [],
      "source": [
        "# loc로 여러 행과 열 가져오기\n"
      ]
    },
    {
      "cell_type": "code",
      "execution_count": null,
      "metadata": {
        "id": "DwQhT7QBmTkb"
      },
      "outputs": [],
      "source": [
        "# \"소프트웨어 개발 및 공급업\" 만 가져와서 막대그래프를 그립니다.\n"
      ]
    },
    {
      "cell_type": "code",
      "execution_count": null,
      "metadata": {
        "id": "pJ974QZMmTkb"
      },
      "outputs": [],
      "source": [
        "# \"의약품 제조업\" 만 가져와서 막대그래프를 그립니다.\n",
        "\n"
      ]
    },
    {
      "cell_type": "code",
      "execution_count": null,
      "metadata": {
        "id": "p4mO924hmTkc"
      },
      "outputs": [],
      "source": [
        "# iloc[행]\n",
        "# iloc[행,열]\n"
      ]
    },
    {
      "cell_type": "code",
      "execution_count": null,
      "metadata": {
        "id": "zXbuVV24mTkc"
      },
      "outputs": [],
      "source": []
    },
    {
      "cell_type": "code",
      "execution_count": null,
      "metadata": {
        "id": "EVo0u0f0mTkc"
      },
      "outputs": [],
      "source": []
    },
    {
      "cell_type": "code",
      "execution_count": null,
      "metadata": {
        "id": "We99IMbpmTkd"
      },
      "outputs": [],
      "source": [
        "# df.head 혹은 tail도 내부에서 iloc를 슬라이싱으로 사용하고 있습니다.\n",
        "# df.head??"
      ]
    },
    {
      "cell_type": "code",
      "execution_count": null,
      "metadata": {
        "id": "fSnvwhbFmTkf"
      },
      "outputs": [],
      "source": []
    },
    {
      "cell_type": "code",
      "execution_count": null,
      "metadata": {
        "id": "BLp4jgprmTkf"
      },
      "outputs": [],
      "source": [
        "# df_sr.tail??"
      ]
    },
    {
      "cell_type": "code",
      "execution_count": null,
      "metadata": {
        "id": "3Mmkka-0mTkf"
      },
      "outputs": [],
      "source": []
    },
    {
      "cell_type": "code",
      "execution_count": null,
      "metadata": {
        "id": "HCLNytUzmTkf"
      },
      "outputs": [],
      "source": []
    },
    {
      "cell_type": "code",
      "execution_count": null,
      "metadata": {
        "id": "8kbyE1TrmTkg"
      },
      "outputs": [],
      "source": []
    },
    {
      "cell_type": "code",
      "execution_count": null,
      "metadata": {
        "id": "ErFfwnInmTkg"
      },
      "outputs": [],
      "source": []
    }
  ],
  "metadata": {
    "colab": {
      "name": "1. FinanceDataReader를 통한 상장종목 전체 불러오기.ipynb",
      "provenance": [],
      "toc_visible": true
    },
    "kernelspec": {
      "display_name": "Python 3 (ipykernel)",
      "language": "python",
      "name": "python3"
    },
    "language_info": {
      "codemirror_mode": {
        "name": "ipython",
        "version": 3
      },
      "file_extension": ".py",
      "mimetype": "text/x-python",
      "name": "python",
      "nbconvert_exporter": "python",
      "pygments_lexer": "ipython3",
      "version": "3.10.7"
    },
    "toc": {
      "base_numbering": 1,
      "nav_menu": {},
      "number_sections": true,
      "sideBar": true,
      "skip_h1_title": false,
      "title_cell": "Table of Contents",
      "title_sidebar": "Contents",
      "toc_cell": false,
      "toc_position": {
        "height": "calc(100% - 180px)",
        "left": "10px",
        "top": "150px",
        "width": "178.988px"
      },
      "toc_section_display": true,
      "toc_window_display": true
    },
    "varInspector": {
      "cols": {
        "lenName": 16,
        "lenType": 16,
        "lenVar": 40
      },
      "kernels_config": {
        "python": {
          "delete_cmd_postfix": "",
          "delete_cmd_prefix": "del ",
          "library": "var_list.py",
          "varRefreshCmd": "print(var_dic_list())"
        },
        "r": {
          "delete_cmd_postfix": ") ",
          "delete_cmd_prefix": "rm(",
          "library": "var_list.r",
          "varRefreshCmd": "cat(var_dic_list()) "
        }
      },
      "types_to_exclude": [
        "module",
        "function",
        "builtin_function_or_method",
        "instance",
        "_Feature"
      ],
      "window_display": false
    }
  },
  "nbformat": 4,
  "nbformat_minor": 0
}